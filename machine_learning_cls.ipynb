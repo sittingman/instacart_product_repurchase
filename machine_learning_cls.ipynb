{
 "cells": [
  {
   "cell_type": "markdown",
   "metadata": {},
   "source": [
    "# Machine Learning\n",
    "\n",
    "We will use all the prior order information to generate features, and use the train data to create the target variables.\n",
    "\n",
    "From exploratory analysis, we learned that purchase pattern at the department level is pretty consistence, and the reorder pattern are similar to orders created by users before. Also, reorder on average fall under 15 days for new clients, and gradually decrease over time to 2-4 days. Hence, we will test the following features\n",
    "- product purchase frequency\n",
    "- duration from last purchase"
   ]
  },
  {
   "cell_type": "code",
   "execution_count": 1,
   "metadata": {},
   "outputs": [
    {
     "name": "stderr",
     "output_type": "stream",
     "text": [
      "C:\\Users\\sit_k\\AppData\\Local\\Continuum\\anaconda3\\lib\\site-packages\\statsmodels\\tools\\_testing.py:19: FutureWarning: pandas.util.testing is deprecated. Use the functions in the public API at pandas.testing instead.\n",
      "  import pandas.util.testing as tm\n"
     ]
    }
   ],
   "source": [
    "import pandas as pd\n",
    "import numpy as np\n",
    "import matplotlib.pyplot as plt\n",
    "import seaborn as sns\n",
    "from pycaret.classification import *\n",
    "sns.set_style('ticks')\n",
    "%matplotlib inline "
   ]
  },
  {
   "cell_type": "code",
   "execution_count": 2,
   "metadata": {},
   "outputs": [],
   "source": [
    "# aisles = pd.read_csv('./data/aisles.csv')\n",
    "# dept = pd.read_csv('./data/departments.csv')\n",
    "orders = pd.read_csv('./data/orders.csv')\n",
    "# products = pd.read_csv('./data/products.csv')\n",
    "orders_p = pd.read_csv('./data/order_products__prior.csv')\n",
    "orders_tr = pd.read_csv('./data/order_products__train.csv')"
   ]
  },
  {
   "cell_type": "code",
   "execution_count": 3,
   "metadata": {},
   "outputs": [],
   "source": [
    "prior_order = orders.query('eval_set == \"prior\"')\n",
    "train_order = orders.query('eval_set == \"train\"')\n",
    "test_order = orders.query('eval_set == \"test\"')"
   ]
  },
  {
   "cell_type": "code",
   "execution_count": 4,
   "metadata": {},
   "outputs": [
    {
     "name": "stdout",
     "output_type": "stream",
     "text": [
      "(3421083, 7)\n"
     ]
    },
    {
     "data": {
      "text/html": [
       "<div>\n",
       "<style scoped>\n",
       "    .dataframe tbody tr th:only-of-type {\n",
       "        vertical-align: middle;\n",
       "    }\n",
       "\n",
       "    .dataframe tbody tr th {\n",
       "        vertical-align: top;\n",
       "    }\n",
       "\n",
       "    .dataframe thead th {\n",
       "        text-align: right;\n",
       "    }\n",
       "</style>\n",
       "<table border=\"1\" class=\"dataframe\">\n",
       "  <thead>\n",
       "    <tr style=\"text-align: right;\">\n",
       "      <th></th>\n",
       "      <th>order_id</th>\n",
       "      <th>user_id</th>\n",
       "      <th>eval_set</th>\n",
       "      <th>order_number</th>\n",
       "      <th>order_dow</th>\n",
       "      <th>order_hour_of_day</th>\n",
       "      <th>days_since_prior_order</th>\n",
       "    </tr>\n",
       "  </thead>\n",
       "  <tbody>\n",
       "    <tr>\n",
       "      <th>0</th>\n",
       "      <td>2539329</td>\n",
       "      <td>1</td>\n",
       "      <td>prior</td>\n",
       "      <td>1</td>\n",
       "      <td>2</td>\n",
       "      <td>8</td>\n",
       "      <td>NaN</td>\n",
       "    </tr>\n",
       "    <tr>\n",
       "      <th>1</th>\n",
       "      <td>2398795</td>\n",
       "      <td>1</td>\n",
       "      <td>prior</td>\n",
       "      <td>2</td>\n",
       "      <td>3</td>\n",
       "      <td>7</td>\n",
       "      <td>15.0</td>\n",
       "    </tr>\n",
       "    <tr>\n",
       "      <th>2</th>\n",
       "      <td>473747</td>\n",
       "      <td>1</td>\n",
       "      <td>prior</td>\n",
       "      <td>3</td>\n",
       "      <td>3</td>\n",
       "      <td>12</td>\n",
       "      <td>21.0</td>\n",
       "    </tr>\n",
       "    <tr>\n",
       "      <th>3</th>\n",
       "      <td>2254736</td>\n",
       "      <td>1</td>\n",
       "      <td>prior</td>\n",
       "      <td>4</td>\n",
       "      <td>4</td>\n",
       "      <td>7</td>\n",
       "      <td>29.0</td>\n",
       "    </tr>\n",
       "    <tr>\n",
       "      <th>4</th>\n",
       "      <td>431534</td>\n",
       "      <td>1</td>\n",
       "      <td>prior</td>\n",
       "      <td>5</td>\n",
       "      <td>4</td>\n",
       "      <td>15</td>\n",
       "      <td>28.0</td>\n",
       "    </tr>\n",
       "  </tbody>\n",
       "</table>\n",
       "</div>"
      ],
      "text/plain": [
       "   order_id  user_id eval_set  order_number  order_dow  order_hour_of_day  \\\n",
       "0   2539329        1    prior             1          2                  8   \n",
       "1   2398795        1    prior             2          3                  7   \n",
       "2    473747        1    prior             3          3                 12   \n",
       "3   2254736        1    prior             4          4                  7   \n",
       "4    431534        1    prior             5          4                 15   \n",
       "\n",
       "   days_since_prior_order  \n",
       "0                     NaN  \n",
       "1                    15.0  \n",
       "2                    21.0  \n",
       "3                    29.0  \n",
       "4                    28.0  "
      ]
     },
     "metadata": {},
     "output_type": "display_data"
    },
    {
     "name": "stdout",
     "output_type": "stream",
     "text": [
      "(32434489, 4)\n",
      "(1384617, 4)\n"
     ]
    }
   ],
   "source": [
    "print(orders.shape)\n",
    "display(orders.head())\n",
    "print(orders_p.shape)\n",
    "print(orders_tr.shape)"
   ]
  },
  {
   "cell_type": "markdown",
   "metadata": {},
   "source": [
    "#### Getting product details"
   ]
  },
  {
   "cell_type": "code",
   "execution_count": 6,
   "metadata": {},
   "outputs": [],
   "source": [
    "# product_full_detail = pd.merge(products, dept, on='department_id').merge(aisles, on='aisle_id')"
   ]
  },
  {
   "cell_type": "markdown",
   "metadata": {},
   "source": [
    "### Feature Creations\n",
    "\n",
    "- last purchase: whether a particular product was purchased in the latest order by user\n",
    "- last 3 purchase: a product that appear consecutively in the last 3 purchase\n",
    "- the duration (in terms of days) that an item was purchased since last purchase (will be zero if the product didn't exist in latest orders)\n",
    "- how many times an item has been purchased by the user\n",
    "- how often that item appear in user purchase history, in form of percentage"
   ]
  },
  {
   "cell_type": "markdown",
   "metadata": {},
   "source": [
    "##### Obtain a list of last purchase order by user"
   ]
  },
  {
   "cell_type": "code",
   "execution_count": 7,
   "metadata": {},
   "outputs": [],
   "source": [
    "last_purchase = prior_order[prior_order['order_number'] == prior_order.groupby(['user_id'])['order_number'].transform('max')]\n",
    "last_purchase_list = last_purchase['order_id'].tolist()"
   ]
  },
  {
   "cell_type": "markdown",
   "metadata": {},
   "source": [
    "##### Generating last purchase feature"
   ]
  },
  {
   "cell_type": "code",
   "execution_count": 8,
   "metadata": {},
   "outputs": [],
   "source": [
    "order_p_detail = orders_p.merge(prior_order[['order_id','user_id','order_number']], on=['order_id'], how='left')\n",
    "order_p_detail.loc[order_p_detail['order_id'].isin(last_purchase_list), 'last_purchase'] = 1\n",
    "order_p_detail.loc[~order_p_detail['order_id'].isin(last_purchase_list), 'last_purchase'] = 0"
   ]
  },
  {
   "cell_type": "markdown",
   "metadata": {},
   "source": [
    "##### Generating times of purchases and product appear frequency"
   ]
  },
  {
   "cell_type": "code",
   "execution_count": 10,
   "metadata": {},
   "outputs": [],
   "source": [
    "user_df = order_p_detail.groupby(['user_id', 'product_id']).agg({'order_number':'max', 'last_purchase':'max', 'reordered':'sum'}) #'days_since_prior_order': 'max', 'order_dow':'max'"
   ]
  },
  {
   "cell_type": "code",
   "execution_count": 12,
   "metadata": {},
   "outputs": [],
   "source": [
    "user_df['product_appear'] = (user_df['reordered']+1)/user_df['order_number']"
   ]
  },
  {
   "cell_type": "code",
   "execution_count": 13,
   "metadata": {},
   "outputs": [],
   "source": [
    "user_order_cnt = orders.groupby(['user_id', 'order_number']).agg({'days_since_prior_order':'sum'})"
   ]
  },
  {
   "cell_type": "markdown",
   "metadata": {},
   "source": [
    "##### Generate 3 consecutive purchase features for the last 3 orders, by user and by item"
   ]
  },
  {
   "cell_type": "code",
   "execution_count": 14,
   "metadata": {},
   "outputs": [],
   "source": [
    "user_order_cnt_1 = user_order_cnt.groupby(level=0).apply(lambda df: df[-4:]) #get the last 3 purchases\n",
    "user_order_cnt_1.index = user_order_cnt_1.index.droplevel(0)"
   ]
  },
  {
   "cell_type": "code",
   "execution_count": 15,
   "metadata": {},
   "outputs": [],
   "source": [
    "last_three = user_order_cnt_1.reset_index().drop('days_since_prior_order', axis=1)"
   ]
  },
  {
   "cell_type": "code",
   "execution_count": 16,
   "metadata": {},
   "outputs": [],
   "source": [
    "product_last_three = pd.merge(last_three, order_p_detail, on=['user_id', 'order_number'], how='inner')\n",
    "product_last_three = product_last_three.groupby(['user_id', 'product_id']).agg({'product_id': 'count'})"
   ]
  },
  {
   "cell_type": "code",
   "execution_count": 17,
   "metadata": {},
   "outputs": [],
   "source": [
    "buy_3_time = product_last_three.query('product_id ==3').rename(columns={'product_id': '3x'})"
   ]
  },
  {
   "cell_type": "markdown",
   "metadata": {},
   "source": [
    "##### Forming final training dataframe"
   ]
  },
  {
   "cell_type": "code",
   "execution_count": 18,
   "metadata": {},
   "outputs": [],
   "source": [
    "temp_df = pd.merge(user_df, buy_3_time, left_index=True, right_index=True, how='left')\n",
    "temp_df['3x'] = temp_df['3x'].apply(lambda x: 1 if x ==3 else 0) # setting 1 if item was brought 3 time consecutively in the last 3 orders"
   ]
  },
  {
   "cell_type": "code",
   "execution_count": 19,
   "metadata": {},
   "outputs": [],
   "source": [
    "temp_df.reset_index(inplace=True)"
   ]
  },
  {
   "cell_type": "code",
   "execution_count": 20,
   "metadata": {},
   "outputs": [],
   "source": [
    "# getting user id within the train dataset section\n",
    "train_id = train_order.user_id.unique().tolist() "
   ]
  },
  {
   "cell_type": "code",
   "execution_count": 21,
   "metadata": {},
   "outputs": [],
   "source": [
    "# filter out the training set user id from the temp dataframe\n",
    "temp_train_df = temp_df.loc[temp_df['user_id'].isin(train_id)]"
   ]
  },
  {
   "cell_type": "markdown",
   "metadata": {},
   "source": [
    "Generating target features from the train data"
   ]
  },
  {
   "cell_type": "code",
   "execution_count": 22,
   "metadata": {},
   "outputs": [],
   "source": [
    "train_target = pd.merge(train_order[['order_id', 'user_id']], orders_tr, on=['order_id'], how='left').drop(['order_id','add_to_cart_order'], axis=1)\n",
    "train_target = train_target.rename(columns={'reordered': 'target'})"
   ]
  },
  {
   "cell_type": "markdown",
   "metadata": {},
   "source": [
    "Add target feature to the training dataframe, and drop order_number column"
   ]
  },
  {
   "cell_type": "code",
   "execution_count": 23,
   "metadata": {},
   "outputs": [],
   "source": [
    "train_df = pd.merge(temp_train_df, train_target, on=['user_id', 'product_id'], how='outer').fillna(0).set_index(['user_id', 'product_id'])"
   ]
  },
  {
   "cell_type": "code",
   "execution_count": 24,
   "metadata": {},
   "outputs": [],
   "source": [
    "train_df.drop(['order_number'], axis=1, inplace=True)"
   ]
  },
  {
   "cell_type": "markdown",
   "metadata": {},
   "source": [
    "Set target to integer to ensure model recognize that as binary variable"
   ]
  },
  {
   "cell_type": "code",
   "execution_count": 25,
   "metadata": {},
   "outputs": [],
   "source": [
    "train_df = train_df.astype({'target': 'int'})"
   ]
  },
  {
   "cell_type": "markdown",
   "metadata": {},
   "source": [
    "##### Create separate formatted test dataset for ease of access later."
   ]
  },
  {
   "cell_type": "code",
   "execution_count": 27,
   "metadata": {},
   "outputs": [],
   "source": [
    "test_id = test_order.user_id.unique().tolist()\n",
    "df_for_submit = temp_df.loc[temp_df['user_id'].isin(test_id)].set_index(['user_id','product_id'])"
   ]
  },
  {
   "cell_type": "code",
   "execution_count": 28,
   "metadata": {},
   "outputs": [],
   "source": [
    "df_for_submit.to_csv('./data/df_submit.csv')"
   ]
  },
  {
   "cell_type": "markdown",
   "metadata": {},
   "source": [
    "### Modeling\n",
    "\n",
    "##### Setup"
   ]
  },
  {
   "cell_type": "code",
   "execution_count": 29,
   "metadata": {},
   "outputs": [
    {
     "name": "stdout",
     "output_type": "stream",
     "text": [
      " \n",
      "Setup Succesfully Completed!\n"
     ]
    },
    {
     "data": {
      "text/html": [
       "<style  type=\"text/css\" >\n",
       "</style><table id=\"T_96a73b8c_9cae_11ea_95da_3cf0112ace06\" ><thead>    <tr>        <th class=\"blank level0\" ></th>        <th class=\"col_heading level0 col0\" >Description</th>        <th class=\"col_heading level0 col1\" >Value</th>    </tr></thead><tbody>\n",
       "                <tr>\n",
       "                        <th id=\"T_96a73b8c_9cae_11ea_95da_3cf0112ace06level0_row0\" class=\"row_heading level0 row0\" >0</th>\n",
       "                        <td id=\"T_96a73b8c_9cae_11ea_95da_3cf0112ace06row0_col0\" class=\"data row0 col0\" >session_id</td>\n",
       "                        <td id=\"T_96a73b8c_9cae_11ea_95da_3cf0112ace06row0_col1\" class=\"data row0 col1\" >8656</td>\n",
       "            </tr>\n",
       "            <tr>\n",
       "                        <th id=\"T_96a73b8c_9cae_11ea_95da_3cf0112ace06level0_row1\" class=\"row_heading level0 row1\" >1</th>\n",
       "                        <td id=\"T_96a73b8c_9cae_11ea_95da_3cf0112ace06row1_col0\" class=\"data row1 col0\" >Target Type</td>\n",
       "                        <td id=\"T_96a73b8c_9cae_11ea_95da_3cf0112ace06row1_col1\" class=\"data row1 col1\" >Binary</td>\n",
       "            </tr>\n",
       "            <tr>\n",
       "                        <th id=\"T_96a73b8c_9cae_11ea_95da_3cf0112ace06level0_row2\" class=\"row_heading level0 row2\" >2</th>\n",
       "                        <td id=\"T_96a73b8c_9cae_11ea_95da_3cf0112ace06row2_col0\" class=\"data row2 col0\" >Label Encoded</td>\n",
       "                        <td id=\"T_96a73b8c_9cae_11ea_95da_3cf0112ace06row2_col1\" class=\"data row2 col1\" >None</td>\n",
       "            </tr>\n",
       "            <tr>\n",
       "                        <th id=\"T_96a73b8c_9cae_11ea_95da_3cf0112ace06level0_row3\" class=\"row_heading level0 row3\" >3</th>\n",
       "                        <td id=\"T_96a73b8c_9cae_11ea_95da_3cf0112ace06row3_col0\" class=\"data row3 col0\" >Original Data</td>\n",
       "                        <td id=\"T_96a73b8c_9cae_11ea_95da_3cf0112ace06row3_col1\" class=\"data row3 col1\" >(9030454, 5)</td>\n",
       "            </tr>\n",
       "            <tr>\n",
       "                        <th id=\"T_96a73b8c_9cae_11ea_95da_3cf0112ace06level0_row4\" class=\"row_heading level0 row4\" >4</th>\n",
       "                        <td id=\"T_96a73b8c_9cae_11ea_95da_3cf0112ace06row4_col0\" class=\"data row4 col0\" >Missing Values </td>\n",
       "                        <td id=\"T_96a73b8c_9cae_11ea_95da_3cf0112ace06row4_col1\" class=\"data row4 col1\" >False</td>\n",
       "            </tr>\n",
       "            <tr>\n",
       "                        <th id=\"T_96a73b8c_9cae_11ea_95da_3cf0112ace06level0_row5\" class=\"row_heading level0 row5\" >5</th>\n",
       "                        <td id=\"T_96a73b8c_9cae_11ea_95da_3cf0112ace06row5_col0\" class=\"data row5 col0\" >Numeric Features </td>\n",
       "                        <td id=\"T_96a73b8c_9cae_11ea_95da_3cf0112ace06row5_col1\" class=\"data row5 col1\" >2</td>\n",
       "            </tr>\n",
       "            <tr>\n",
       "                        <th id=\"T_96a73b8c_9cae_11ea_95da_3cf0112ace06level0_row6\" class=\"row_heading level0 row6\" >6</th>\n",
       "                        <td id=\"T_96a73b8c_9cae_11ea_95da_3cf0112ace06row6_col0\" class=\"data row6 col0\" >Categorical Features </td>\n",
       "                        <td id=\"T_96a73b8c_9cae_11ea_95da_3cf0112ace06row6_col1\" class=\"data row6 col1\" >2</td>\n",
       "            </tr>\n",
       "            <tr>\n",
       "                        <th id=\"T_96a73b8c_9cae_11ea_95da_3cf0112ace06level0_row7\" class=\"row_heading level0 row7\" >7</th>\n",
       "                        <td id=\"T_96a73b8c_9cae_11ea_95da_3cf0112ace06row7_col0\" class=\"data row7 col0\" >Ordinal Features </td>\n",
       "                        <td id=\"T_96a73b8c_9cae_11ea_95da_3cf0112ace06row7_col1\" class=\"data row7 col1\" >False</td>\n",
       "            </tr>\n",
       "            <tr>\n",
       "                        <th id=\"T_96a73b8c_9cae_11ea_95da_3cf0112ace06level0_row8\" class=\"row_heading level0 row8\" >8</th>\n",
       "                        <td id=\"T_96a73b8c_9cae_11ea_95da_3cf0112ace06row8_col0\" class=\"data row8 col0\" >High Cardinality Features </td>\n",
       "                        <td id=\"T_96a73b8c_9cae_11ea_95da_3cf0112ace06row8_col1\" class=\"data row8 col1\" >False</td>\n",
       "            </tr>\n",
       "            <tr>\n",
       "                        <th id=\"T_96a73b8c_9cae_11ea_95da_3cf0112ace06level0_row9\" class=\"row_heading level0 row9\" >9</th>\n",
       "                        <td id=\"T_96a73b8c_9cae_11ea_95da_3cf0112ace06row9_col0\" class=\"data row9 col0\" >High Cardinality Method </td>\n",
       "                        <td id=\"T_96a73b8c_9cae_11ea_95da_3cf0112ace06row9_col1\" class=\"data row9 col1\" >None</td>\n",
       "            </tr>\n",
       "            <tr>\n",
       "                        <th id=\"T_96a73b8c_9cae_11ea_95da_3cf0112ace06level0_row10\" class=\"row_heading level0 row10\" >10</th>\n",
       "                        <td id=\"T_96a73b8c_9cae_11ea_95da_3cf0112ace06row10_col0\" class=\"data row10 col0\" >Sampled Data</td>\n",
       "                        <td id=\"T_96a73b8c_9cae_11ea_95da_3cf0112ace06row10_col1\" class=\"data row10 col1\" >(9030454, 5)</td>\n",
       "            </tr>\n",
       "            <tr>\n",
       "                        <th id=\"T_96a73b8c_9cae_11ea_95da_3cf0112ace06level0_row11\" class=\"row_heading level0 row11\" >11</th>\n",
       "                        <td id=\"T_96a73b8c_9cae_11ea_95da_3cf0112ace06row11_col0\" class=\"data row11 col0\" >Transformed Train Set</td>\n",
       "                        <td id=\"T_96a73b8c_9cae_11ea_95da_3cf0112ace06row11_col1\" class=\"data row11 col1\" >(7224363, 4)</td>\n",
       "            </tr>\n",
       "            <tr>\n",
       "                        <th id=\"T_96a73b8c_9cae_11ea_95da_3cf0112ace06level0_row12\" class=\"row_heading level0 row12\" >12</th>\n",
       "                        <td id=\"T_96a73b8c_9cae_11ea_95da_3cf0112ace06row12_col0\" class=\"data row12 col0\" >Transformed Test Set</td>\n",
       "                        <td id=\"T_96a73b8c_9cae_11ea_95da_3cf0112ace06row12_col1\" class=\"data row12 col1\" >(1806091, 4)</td>\n",
       "            </tr>\n",
       "            <tr>\n",
       "                        <th id=\"T_96a73b8c_9cae_11ea_95da_3cf0112ace06level0_row13\" class=\"row_heading level0 row13\" >13</th>\n",
       "                        <td id=\"T_96a73b8c_9cae_11ea_95da_3cf0112ace06row13_col0\" class=\"data row13 col0\" >Numeric Imputer </td>\n",
       "                        <td id=\"T_96a73b8c_9cae_11ea_95da_3cf0112ace06row13_col1\" class=\"data row13 col1\" >mean</td>\n",
       "            </tr>\n",
       "            <tr>\n",
       "                        <th id=\"T_96a73b8c_9cae_11ea_95da_3cf0112ace06level0_row14\" class=\"row_heading level0 row14\" >14</th>\n",
       "                        <td id=\"T_96a73b8c_9cae_11ea_95da_3cf0112ace06row14_col0\" class=\"data row14 col0\" >Categorical Imputer </td>\n",
       "                        <td id=\"T_96a73b8c_9cae_11ea_95da_3cf0112ace06row14_col1\" class=\"data row14 col1\" >constant</td>\n",
       "            </tr>\n",
       "            <tr>\n",
       "                        <th id=\"T_96a73b8c_9cae_11ea_95da_3cf0112ace06level0_row15\" class=\"row_heading level0 row15\" >15</th>\n",
       "                        <td id=\"T_96a73b8c_9cae_11ea_95da_3cf0112ace06row15_col0\" class=\"data row15 col0\" >Normalize </td>\n",
       "                        <td id=\"T_96a73b8c_9cae_11ea_95da_3cf0112ace06row15_col1\" class=\"data row15 col1\" >False</td>\n",
       "            </tr>\n",
       "            <tr>\n",
       "                        <th id=\"T_96a73b8c_9cae_11ea_95da_3cf0112ace06level0_row16\" class=\"row_heading level0 row16\" >16</th>\n",
       "                        <td id=\"T_96a73b8c_9cae_11ea_95da_3cf0112ace06row16_col0\" class=\"data row16 col0\" >Normalize Method </td>\n",
       "                        <td id=\"T_96a73b8c_9cae_11ea_95da_3cf0112ace06row16_col1\" class=\"data row16 col1\" >None</td>\n",
       "            </tr>\n",
       "            <tr>\n",
       "                        <th id=\"T_96a73b8c_9cae_11ea_95da_3cf0112ace06level0_row17\" class=\"row_heading level0 row17\" >17</th>\n",
       "                        <td id=\"T_96a73b8c_9cae_11ea_95da_3cf0112ace06row17_col0\" class=\"data row17 col0\" >Transformation </td>\n",
       "                        <td id=\"T_96a73b8c_9cae_11ea_95da_3cf0112ace06row17_col1\" class=\"data row17 col1\" >False</td>\n",
       "            </tr>\n",
       "            <tr>\n",
       "                        <th id=\"T_96a73b8c_9cae_11ea_95da_3cf0112ace06level0_row18\" class=\"row_heading level0 row18\" >18</th>\n",
       "                        <td id=\"T_96a73b8c_9cae_11ea_95da_3cf0112ace06row18_col0\" class=\"data row18 col0\" >Transformation Method </td>\n",
       "                        <td id=\"T_96a73b8c_9cae_11ea_95da_3cf0112ace06row18_col1\" class=\"data row18 col1\" >None</td>\n",
       "            </tr>\n",
       "            <tr>\n",
       "                        <th id=\"T_96a73b8c_9cae_11ea_95da_3cf0112ace06level0_row19\" class=\"row_heading level0 row19\" >19</th>\n",
       "                        <td id=\"T_96a73b8c_9cae_11ea_95da_3cf0112ace06row19_col0\" class=\"data row19 col0\" >PCA </td>\n",
       "                        <td id=\"T_96a73b8c_9cae_11ea_95da_3cf0112ace06row19_col1\" class=\"data row19 col1\" >False</td>\n",
       "            </tr>\n",
       "            <tr>\n",
       "                        <th id=\"T_96a73b8c_9cae_11ea_95da_3cf0112ace06level0_row20\" class=\"row_heading level0 row20\" >20</th>\n",
       "                        <td id=\"T_96a73b8c_9cae_11ea_95da_3cf0112ace06row20_col0\" class=\"data row20 col0\" >PCA Method </td>\n",
       "                        <td id=\"T_96a73b8c_9cae_11ea_95da_3cf0112ace06row20_col1\" class=\"data row20 col1\" >None</td>\n",
       "            </tr>\n",
       "            <tr>\n",
       "                        <th id=\"T_96a73b8c_9cae_11ea_95da_3cf0112ace06level0_row21\" class=\"row_heading level0 row21\" >21</th>\n",
       "                        <td id=\"T_96a73b8c_9cae_11ea_95da_3cf0112ace06row21_col0\" class=\"data row21 col0\" >PCA Components </td>\n",
       "                        <td id=\"T_96a73b8c_9cae_11ea_95da_3cf0112ace06row21_col1\" class=\"data row21 col1\" >None</td>\n",
       "            </tr>\n",
       "            <tr>\n",
       "                        <th id=\"T_96a73b8c_9cae_11ea_95da_3cf0112ace06level0_row22\" class=\"row_heading level0 row22\" >22</th>\n",
       "                        <td id=\"T_96a73b8c_9cae_11ea_95da_3cf0112ace06row22_col0\" class=\"data row22 col0\" >Ignore Low Variance </td>\n",
       "                        <td id=\"T_96a73b8c_9cae_11ea_95da_3cf0112ace06row22_col1\" class=\"data row22 col1\" >False</td>\n",
       "            </tr>\n",
       "            <tr>\n",
       "                        <th id=\"T_96a73b8c_9cae_11ea_95da_3cf0112ace06level0_row23\" class=\"row_heading level0 row23\" >23</th>\n",
       "                        <td id=\"T_96a73b8c_9cae_11ea_95da_3cf0112ace06row23_col0\" class=\"data row23 col0\" >Combine Rare Levels </td>\n",
       "                        <td id=\"T_96a73b8c_9cae_11ea_95da_3cf0112ace06row23_col1\" class=\"data row23 col1\" >False</td>\n",
       "            </tr>\n",
       "            <tr>\n",
       "                        <th id=\"T_96a73b8c_9cae_11ea_95da_3cf0112ace06level0_row24\" class=\"row_heading level0 row24\" >24</th>\n",
       "                        <td id=\"T_96a73b8c_9cae_11ea_95da_3cf0112ace06row24_col0\" class=\"data row24 col0\" >Rare Level Threshold </td>\n",
       "                        <td id=\"T_96a73b8c_9cae_11ea_95da_3cf0112ace06row24_col1\" class=\"data row24 col1\" >None</td>\n",
       "            </tr>\n",
       "            <tr>\n",
       "                        <th id=\"T_96a73b8c_9cae_11ea_95da_3cf0112ace06level0_row25\" class=\"row_heading level0 row25\" >25</th>\n",
       "                        <td id=\"T_96a73b8c_9cae_11ea_95da_3cf0112ace06row25_col0\" class=\"data row25 col0\" >Numeric Binning </td>\n",
       "                        <td id=\"T_96a73b8c_9cae_11ea_95da_3cf0112ace06row25_col1\" class=\"data row25 col1\" >False</td>\n",
       "            </tr>\n",
       "            <tr>\n",
       "                        <th id=\"T_96a73b8c_9cae_11ea_95da_3cf0112ace06level0_row26\" class=\"row_heading level0 row26\" >26</th>\n",
       "                        <td id=\"T_96a73b8c_9cae_11ea_95da_3cf0112ace06row26_col0\" class=\"data row26 col0\" >Remove Outliers </td>\n",
       "                        <td id=\"T_96a73b8c_9cae_11ea_95da_3cf0112ace06row26_col1\" class=\"data row26 col1\" >False</td>\n",
       "            </tr>\n",
       "            <tr>\n",
       "                        <th id=\"T_96a73b8c_9cae_11ea_95da_3cf0112ace06level0_row27\" class=\"row_heading level0 row27\" >27</th>\n",
       "                        <td id=\"T_96a73b8c_9cae_11ea_95da_3cf0112ace06row27_col0\" class=\"data row27 col0\" >Outliers Threshold </td>\n",
       "                        <td id=\"T_96a73b8c_9cae_11ea_95da_3cf0112ace06row27_col1\" class=\"data row27 col1\" >None</td>\n",
       "            </tr>\n",
       "            <tr>\n",
       "                        <th id=\"T_96a73b8c_9cae_11ea_95da_3cf0112ace06level0_row28\" class=\"row_heading level0 row28\" >28</th>\n",
       "                        <td id=\"T_96a73b8c_9cae_11ea_95da_3cf0112ace06row28_col0\" class=\"data row28 col0\" >Remove Multicollinearity </td>\n",
       "                        <td id=\"T_96a73b8c_9cae_11ea_95da_3cf0112ace06row28_col1\" class=\"data row28 col1\" >False</td>\n",
       "            </tr>\n",
       "            <tr>\n",
       "                        <th id=\"T_96a73b8c_9cae_11ea_95da_3cf0112ace06level0_row29\" class=\"row_heading level0 row29\" >29</th>\n",
       "                        <td id=\"T_96a73b8c_9cae_11ea_95da_3cf0112ace06row29_col0\" class=\"data row29 col0\" >Multicollinearity Threshold </td>\n",
       "                        <td id=\"T_96a73b8c_9cae_11ea_95da_3cf0112ace06row29_col1\" class=\"data row29 col1\" >None</td>\n",
       "            </tr>\n",
       "            <tr>\n",
       "                        <th id=\"T_96a73b8c_9cae_11ea_95da_3cf0112ace06level0_row30\" class=\"row_heading level0 row30\" >30</th>\n",
       "                        <td id=\"T_96a73b8c_9cae_11ea_95da_3cf0112ace06row30_col0\" class=\"data row30 col0\" >Clustering </td>\n",
       "                        <td id=\"T_96a73b8c_9cae_11ea_95da_3cf0112ace06row30_col1\" class=\"data row30 col1\" >False</td>\n",
       "            </tr>\n",
       "            <tr>\n",
       "                        <th id=\"T_96a73b8c_9cae_11ea_95da_3cf0112ace06level0_row31\" class=\"row_heading level0 row31\" >31</th>\n",
       "                        <td id=\"T_96a73b8c_9cae_11ea_95da_3cf0112ace06row31_col0\" class=\"data row31 col0\" >Clustering Iteration </td>\n",
       "                        <td id=\"T_96a73b8c_9cae_11ea_95da_3cf0112ace06row31_col1\" class=\"data row31 col1\" >None</td>\n",
       "            </tr>\n",
       "            <tr>\n",
       "                        <th id=\"T_96a73b8c_9cae_11ea_95da_3cf0112ace06level0_row32\" class=\"row_heading level0 row32\" >32</th>\n",
       "                        <td id=\"T_96a73b8c_9cae_11ea_95da_3cf0112ace06row32_col0\" class=\"data row32 col0\" >Polynomial Features </td>\n",
       "                        <td id=\"T_96a73b8c_9cae_11ea_95da_3cf0112ace06row32_col1\" class=\"data row32 col1\" >False</td>\n",
       "            </tr>\n",
       "            <tr>\n",
       "                        <th id=\"T_96a73b8c_9cae_11ea_95da_3cf0112ace06level0_row33\" class=\"row_heading level0 row33\" >33</th>\n",
       "                        <td id=\"T_96a73b8c_9cae_11ea_95da_3cf0112ace06row33_col0\" class=\"data row33 col0\" >Polynomial Degree </td>\n",
       "                        <td id=\"T_96a73b8c_9cae_11ea_95da_3cf0112ace06row33_col1\" class=\"data row33 col1\" >None</td>\n",
       "            </tr>\n",
       "            <tr>\n",
       "                        <th id=\"T_96a73b8c_9cae_11ea_95da_3cf0112ace06level0_row34\" class=\"row_heading level0 row34\" >34</th>\n",
       "                        <td id=\"T_96a73b8c_9cae_11ea_95da_3cf0112ace06row34_col0\" class=\"data row34 col0\" >Trignometry Features </td>\n",
       "                        <td id=\"T_96a73b8c_9cae_11ea_95da_3cf0112ace06row34_col1\" class=\"data row34 col1\" >False</td>\n",
       "            </tr>\n",
       "            <tr>\n",
       "                        <th id=\"T_96a73b8c_9cae_11ea_95da_3cf0112ace06level0_row35\" class=\"row_heading level0 row35\" >35</th>\n",
       "                        <td id=\"T_96a73b8c_9cae_11ea_95da_3cf0112ace06row35_col0\" class=\"data row35 col0\" >Polynomial Threshold </td>\n",
       "                        <td id=\"T_96a73b8c_9cae_11ea_95da_3cf0112ace06row35_col1\" class=\"data row35 col1\" >None</td>\n",
       "            </tr>\n",
       "            <tr>\n",
       "                        <th id=\"T_96a73b8c_9cae_11ea_95da_3cf0112ace06level0_row36\" class=\"row_heading level0 row36\" >36</th>\n",
       "                        <td id=\"T_96a73b8c_9cae_11ea_95da_3cf0112ace06row36_col0\" class=\"data row36 col0\" >Group Features </td>\n",
       "                        <td id=\"T_96a73b8c_9cae_11ea_95da_3cf0112ace06row36_col1\" class=\"data row36 col1\" >False</td>\n",
       "            </tr>\n",
       "            <tr>\n",
       "                        <th id=\"T_96a73b8c_9cae_11ea_95da_3cf0112ace06level0_row37\" class=\"row_heading level0 row37\" >37</th>\n",
       "                        <td id=\"T_96a73b8c_9cae_11ea_95da_3cf0112ace06row37_col0\" class=\"data row37 col0\" >Feature Selection </td>\n",
       "                        <td id=\"T_96a73b8c_9cae_11ea_95da_3cf0112ace06row37_col1\" class=\"data row37 col1\" >False</td>\n",
       "            </tr>\n",
       "            <tr>\n",
       "                        <th id=\"T_96a73b8c_9cae_11ea_95da_3cf0112ace06level0_row38\" class=\"row_heading level0 row38\" >38</th>\n",
       "                        <td id=\"T_96a73b8c_9cae_11ea_95da_3cf0112ace06row38_col0\" class=\"data row38 col0\" >Features Selection Threshold </td>\n",
       "                        <td id=\"T_96a73b8c_9cae_11ea_95da_3cf0112ace06row38_col1\" class=\"data row38 col1\" >None</td>\n",
       "            </tr>\n",
       "            <tr>\n",
       "                        <th id=\"T_96a73b8c_9cae_11ea_95da_3cf0112ace06level0_row39\" class=\"row_heading level0 row39\" >39</th>\n",
       "                        <td id=\"T_96a73b8c_9cae_11ea_95da_3cf0112ace06row39_col0\" class=\"data row39 col0\" >Feature Interaction </td>\n",
       "                        <td id=\"T_96a73b8c_9cae_11ea_95da_3cf0112ace06row39_col1\" class=\"data row39 col1\" >False</td>\n",
       "            </tr>\n",
       "            <tr>\n",
       "                        <th id=\"T_96a73b8c_9cae_11ea_95da_3cf0112ace06level0_row40\" class=\"row_heading level0 row40\" >40</th>\n",
       "                        <td id=\"T_96a73b8c_9cae_11ea_95da_3cf0112ace06row40_col0\" class=\"data row40 col0\" >Feature Ratio </td>\n",
       "                        <td id=\"T_96a73b8c_9cae_11ea_95da_3cf0112ace06row40_col1\" class=\"data row40 col1\" >False</td>\n",
       "            </tr>\n",
       "            <tr>\n",
       "                        <th id=\"T_96a73b8c_9cae_11ea_95da_3cf0112ace06level0_row41\" class=\"row_heading level0 row41\" >41</th>\n",
       "                        <td id=\"T_96a73b8c_9cae_11ea_95da_3cf0112ace06row41_col0\" class=\"data row41 col0\" >Interaction Threshold </td>\n",
       "                        <td id=\"T_96a73b8c_9cae_11ea_95da_3cf0112ace06row41_col1\" class=\"data row41 col1\" >None</td>\n",
       "            </tr>\n",
       "    </tbody></table>"
      ],
      "text/plain": [
       "<pandas.io.formats.style.Styler at 0x21ec94f5320>"
      ]
     },
     "metadata": {},
     "output_type": "display_data"
    }
   ],
   "source": [
    "exp = setup(train_df, target='target', categorical_features=['last_purchase', '3x'], train_size=.8)"
   ]
  },
  {
   "cell_type": "markdown",
   "metadata": {},
   "source": [
    "##### Comparing model to see if any models standout from the F1 score perspective"
   ]
  },
  {
   "cell_type": "code",
   "execution_count": 30,
   "metadata": {},
   "outputs": [
    {
     "data": {
      "text/html": [
       "<style  type=\"text/css\" >\n",
       "    #T_c236414a_9cb3_11ea_bc07_3cf0112ace06 th {\n",
       "          text-align: left;\n",
       "    }    #T_c236414a_9cb3_11ea_bc07_3cf0112ace06row0_col0 {\n",
       "            text-align:  left;\n",
       "        }    #T_c236414a_9cb3_11ea_bc07_3cf0112ace06row0_col1 {\n",
       "            background-color:  yellow;\n",
       "            text-align:  left;\n",
       "        }    #T_c236414a_9cb3_11ea_bc07_3cf0112ace06row0_col2 {\n",
       "            background-color:  yellow;\n",
       "            text-align:  left;\n",
       "        }    #T_c236414a_9cb3_11ea_bc07_3cf0112ace06row0_col3 {\n",
       "            background-color:  yellow;\n",
       "            text-align:  left;\n",
       "        }    #T_c236414a_9cb3_11ea_bc07_3cf0112ace06row0_col4 {\n",
       "            : ;\n",
       "            text-align:  left;\n",
       "        }    #T_c236414a_9cb3_11ea_bc07_3cf0112ace06row0_col5 {\n",
       "            background-color:  yellow;\n",
       "            text-align:  left;\n",
       "        }    #T_c236414a_9cb3_11ea_bc07_3cf0112ace06row0_col6 {\n",
       "            background-color:  yellow;\n",
       "            text-align:  left;\n",
       "        }    #T_c236414a_9cb3_11ea_bc07_3cf0112ace06row1_col0 {\n",
       "            text-align:  left;\n",
       "        }    #T_c236414a_9cb3_11ea_bc07_3cf0112ace06row1_col1 {\n",
       "            background-color:  yellow;\n",
       "            text-align:  left;\n",
       "        }    #T_c236414a_9cb3_11ea_bc07_3cf0112ace06row1_col2 {\n",
       "            background-color:  yellow;\n",
       "            text-align:  left;\n",
       "        }    #T_c236414a_9cb3_11ea_bc07_3cf0112ace06row1_col3 {\n",
       "            : ;\n",
       "            text-align:  left;\n",
       "        }    #T_c236414a_9cb3_11ea_bc07_3cf0112ace06row1_col4 {\n",
       "            background-color:  yellow;\n",
       "            text-align:  left;\n",
       "        }    #T_c236414a_9cb3_11ea_bc07_3cf0112ace06row1_col5 {\n",
       "            : ;\n",
       "            text-align:  left;\n",
       "        }    #T_c236414a_9cb3_11ea_bc07_3cf0112ace06row1_col6 {\n",
       "            : ;\n",
       "            text-align:  left;\n",
       "        }    #T_c236414a_9cb3_11ea_bc07_3cf0112ace06row2_col0 {\n",
       "            text-align:  left;\n",
       "        }    #T_c236414a_9cb3_11ea_bc07_3cf0112ace06row2_col1 {\n",
       "            background-color:  yellow;\n",
       "            text-align:  left;\n",
       "        }    #T_c236414a_9cb3_11ea_bc07_3cf0112ace06row2_col2 {\n",
       "            background-color:  yellow;\n",
       "            text-align:  left;\n",
       "        }    #T_c236414a_9cb3_11ea_bc07_3cf0112ace06row2_col3 {\n",
       "            : ;\n",
       "            text-align:  left;\n",
       "        }    #T_c236414a_9cb3_11ea_bc07_3cf0112ace06row2_col4 {\n",
       "            background-color:  yellow;\n",
       "            text-align:  left;\n",
       "        }    #T_c236414a_9cb3_11ea_bc07_3cf0112ace06row2_col5 {\n",
       "            : ;\n",
       "            text-align:  left;\n",
       "        }    #T_c236414a_9cb3_11ea_bc07_3cf0112ace06row2_col6 {\n",
       "            : ;\n",
       "            text-align:  left;\n",
       "        }    #T_c236414a_9cb3_11ea_bc07_3cf0112ace06row3_col0 {\n",
       "            text-align:  left;\n",
       "        }    #T_c236414a_9cb3_11ea_bc07_3cf0112ace06row3_col1 {\n",
       "            background-color:  yellow;\n",
       "            text-align:  left;\n",
       "        }    #T_c236414a_9cb3_11ea_bc07_3cf0112ace06row3_col2 {\n",
       "            background-color:  yellow;\n",
       "            text-align:  left;\n",
       "        }    #T_c236414a_9cb3_11ea_bc07_3cf0112ace06row3_col3 {\n",
       "            : ;\n",
       "            text-align:  left;\n",
       "        }    #T_c236414a_9cb3_11ea_bc07_3cf0112ace06row3_col4 {\n",
       "            background-color:  yellow;\n",
       "            text-align:  left;\n",
       "        }    #T_c236414a_9cb3_11ea_bc07_3cf0112ace06row3_col5 {\n",
       "            : ;\n",
       "            text-align:  left;\n",
       "        }    #T_c236414a_9cb3_11ea_bc07_3cf0112ace06row3_col6 {\n",
       "            : ;\n",
       "            text-align:  left;\n",
       "        }    #T_c236414a_9cb3_11ea_bc07_3cf0112ace06row4_col0 {\n",
       "            text-align:  left;\n",
       "        }    #T_c236414a_9cb3_11ea_bc07_3cf0112ace06row4_col1 {\n",
       "            background-color:  yellow;\n",
       "            text-align:  left;\n",
       "        }    #T_c236414a_9cb3_11ea_bc07_3cf0112ace06row4_col2 {\n",
       "            background-color:  yellow;\n",
       "            text-align:  left;\n",
       "        }    #T_c236414a_9cb3_11ea_bc07_3cf0112ace06row4_col3 {\n",
       "            : ;\n",
       "            text-align:  left;\n",
       "        }    #T_c236414a_9cb3_11ea_bc07_3cf0112ace06row4_col4 {\n",
       "            background-color:  yellow;\n",
       "            text-align:  left;\n",
       "        }    #T_c236414a_9cb3_11ea_bc07_3cf0112ace06row4_col5 {\n",
       "            : ;\n",
       "            text-align:  left;\n",
       "        }    #T_c236414a_9cb3_11ea_bc07_3cf0112ace06row4_col6 {\n",
       "            : ;\n",
       "            text-align:  left;\n",
       "        }    #T_c236414a_9cb3_11ea_bc07_3cf0112ace06row5_col0 {\n",
       "            text-align:  left;\n",
       "        }    #T_c236414a_9cb3_11ea_bc07_3cf0112ace06row5_col1 {\n",
       "            background-color:  yellow;\n",
       "            text-align:  left;\n",
       "        }    #T_c236414a_9cb3_11ea_bc07_3cf0112ace06row5_col2 {\n",
       "            background-color:  yellow;\n",
       "            text-align:  left;\n",
       "        }    #T_c236414a_9cb3_11ea_bc07_3cf0112ace06row5_col3 {\n",
       "            : ;\n",
       "            text-align:  left;\n",
       "        }    #T_c236414a_9cb3_11ea_bc07_3cf0112ace06row5_col4 {\n",
       "            : ;\n",
       "            text-align:  left;\n",
       "        }    #T_c236414a_9cb3_11ea_bc07_3cf0112ace06row5_col5 {\n",
       "            : ;\n",
       "            text-align:  left;\n",
       "        }    #T_c236414a_9cb3_11ea_bc07_3cf0112ace06row5_col6 {\n",
       "            : ;\n",
       "            text-align:  left;\n",
       "        }    #T_c236414a_9cb3_11ea_bc07_3cf0112ace06row6_col0 {\n",
       "            text-align:  left;\n",
       "        }    #T_c236414a_9cb3_11ea_bc07_3cf0112ace06row6_col1 {\n",
       "            background-color:  yellow;\n",
       "            text-align:  left;\n",
       "        }    #T_c236414a_9cb3_11ea_bc07_3cf0112ace06row6_col2 {\n",
       "            background-color:  yellow;\n",
       "            text-align:  left;\n",
       "        }    #T_c236414a_9cb3_11ea_bc07_3cf0112ace06row6_col3 {\n",
       "            : ;\n",
       "            text-align:  left;\n",
       "        }    #T_c236414a_9cb3_11ea_bc07_3cf0112ace06row6_col4 {\n",
       "            background-color:  yellow;\n",
       "            text-align:  left;\n",
       "        }    #T_c236414a_9cb3_11ea_bc07_3cf0112ace06row6_col5 {\n",
       "            : ;\n",
       "            text-align:  left;\n",
       "        }    #T_c236414a_9cb3_11ea_bc07_3cf0112ace06row6_col6 {\n",
       "            : ;\n",
       "            text-align:  left;\n",
       "        }    #T_c236414a_9cb3_11ea_bc07_3cf0112ace06row7_col0 {\n",
       "            text-align:  left;\n",
       "        }    #T_c236414a_9cb3_11ea_bc07_3cf0112ace06row7_col1 {\n",
       "            background-color:  yellow;\n",
       "            text-align:  left;\n",
       "        }    #T_c236414a_9cb3_11ea_bc07_3cf0112ace06row7_col2 {\n",
       "            : ;\n",
       "            text-align:  left;\n",
       "        }    #T_c236414a_9cb3_11ea_bc07_3cf0112ace06row7_col3 {\n",
       "            : ;\n",
       "            text-align:  left;\n",
       "        }    #T_c236414a_9cb3_11ea_bc07_3cf0112ace06row7_col4 {\n",
       "            : ;\n",
       "            text-align:  left;\n",
       "        }    #T_c236414a_9cb3_11ea_bc07_3cf0112ace06row7_col5 {\n",
       "            : ;\n",
       "            text-align:  left;\n",
       "        }    #T_c236414a_9cb3_11ea_bc07_3cf0112ace06row7_col6 {\n",
       "            : ;\n",
       "            text-align:  left;\n",
       "        }</style><table id=\"T_c236414a_9cb3_11ea_bc07_3cf0112ace06\" ><thead>    <tr>        <th class=\"blank level0\" ></th>        <th class=\"col_heading level0 col0\" >Model</th>        <th class=\"col_heading level0 col1\" >Accuracy</th>        <th class=\"col_heading level0 col2\" >AUC</th>        <th class=\"col_heading level0 col3\" >Recall</th>        <th class=\"col_heading level0 col4\" >Prec.</th>        <th class=\"col_heading level0 col5\" >F1</th>        <th class=\"col_heading level0 col6\" >Kappa</th>    </tr></thead><tbody>\n",
       "                <tr>\n",
       "                        <th id=\"T_c236414a_9cb3_11ea_bc07_3cf0112ace06level0_row0\" class=\"row_heading level0 row0\" >0</th>\n",
       "                        <td id=\"T_c236414a_9cb3_11ea_bc07_3cf0112ace06row0_col0\" class=\"data row0 col0\" >Ada Boost Classifier</td>\n",
       "                        <td id=\"T_c236414a_9cb3_11ea_bc07_3cf0112ace06row0_col1\" class=\"data row0 col1\" >0.910000</td>\n",
       "                        <td id=\"T_c236414a_9cb3_11ea_bc07_3cf0112ace06row0_col2\" class=\"data row0 col2\" >0.790000</td>\n",
       "                        <td id=\"T_c236414a_9cb3_11ea_bc07_3cf0112ace06row0_col3\" class=\"data row0 col3\" >0.160000</td>\n",
       "                        <td id=\"T_c236414a_9cb3_11ea_bc07_3cf0112ace06row0_col4\" class=\"data row0 col4\" >0.600000</td>\n",
       "                        <td id=\"T_c236414a_9cb3_11ea_bc07_3cf0112ace06row0_col5\" class=\"data row0 col5\" >0.260000</td>\n",
       "                        <td id=\"T_c236414a_9cb3_11ea_bc07_3cf0112ace06row0_col6\" class=\"data row0 col6\" >0.230000</td>\n",
       "            </tr>\n",
       "            <tr>\n",
       "                        <th id=\"T_c236414a_9cb3_11ea_bc07_3cf0112ace06level0_row1\" class=\"row_heading level0 row1\" >1</th>\n",
       "                        <td id=\"T_c236414a_9cb3_11ea_bc07_3cf0112ace06row1_col0\" class=\"data row1 col0\" >Gradient Boosting Classifier</td>\n",
       "                        <td id=\"T_c236414a_9cb3_11ea_bc07_3cf0112ace06row1_col1\" class=\"data row1 col1\" >0.910000</td>\n",
       "                        <td id=\"T_c236414a_9cb3_11ea_bc07_3cf0112ace06row1_col2\" class=\"data row1 col2\" >0.790000</td>\n",
       "                        <td id=\"T_c236414a_9cb3_11ea_bc07_3cf0112ace06row1_col3\" class=\"data row1 col3\" >0.150000</td>\n",
       "                        <td id=\"T_c236414a_9cb3_11ea_bc07_3cf0112ace06row1_col4\" class=\"data row1 col4\" >0.620000</td>\n",
       "                        <td id=\"T_c236414a_9cb3_11ea_bc07_3cf0112ace06row1_col5\" class=\"data row1 col5\" >0.250000</td>\n",
       "                        <td id=\"T_c236414a_9cb3_11ea_bc07_3cf0112ace06row1_col6\" class=\"data row1 col6\" >0.220000</td>\n",
       "            </tr>\n",
       "            <tr>\n",
       "                        <th id=\"T_c236414a_9cb3_11ea_bc07_3cf0112ace06level0_row2\" class=\"row_heading level0 row2\" >2</th>\n",
       "                        <td id=\"T_c236414a_9cb3_11ea_bc07_3cf0112ace06row2_col0\" class=\"data row2 col0\" >Light Gradient Boosting Machine</td>\n",
       "                        <td id=\"T_c236414a_9cb3_11ea_bc07_3cf0112ace06row2_col1\" class=\"data row2 col1\" >0.910000</td>\n",
       "                        <td id=\"T_c236414a_9cb3_11ea_bc07_3cf0112ace06row2_col2\" class=\"data row2 col2\" >0.790000</td>\n",
       "                        <td id=\"T_c236414a_9cb3_11ea_bc07_3cf0112ace06row2_col3\" class=\"data row2 col3\" >0.150000</td>\n",
       "                        <td id=\"T_c236414a_9cb3_11ea_bc07_3cf0112ace06row2_col4\" class=\"data row2 col4\" >0.620000</td>\n",
       "                        <td id=\"T_c236414a_9cb3_11ea_bc07_3cf0112ace06row2_col5\" class=\"data row2 col5\" >0.250000</td>\n",
       "                        <td id=\"T_c236414a_9cb3_11ea_bc07_3cf0112ace06row2_col6\" class=\"data row2 col6\" >0.220000</td>\n",
       "            </tr>\n",
       "            <tr>\n",
       "                        <th id=\"T_c236414a_9cb3_11ea_bc07_3cf0112ace06level0_row3\" class=\"row_heading level0 row3\" >3</th>\n",
       "                        <td id=\"T_c236414a_9cb3_11ea_bc07_3cf0112ace06row3_col0\" class=\"data row3 col0\" >CatBoost Classifier</td>\n",
       "                        <td id=\"T_c236414a_9cb3_11ea_bc07_3cf0112ace06row3_col1\" class=\"data row3 col1\" >0.910000</td>\n",
       "                        <td id=\"T_c236414a_9cb3_11ea_bc07_3cf0112ace06row3_col2\" class=\"data row3 col2\" >0.790000</td>\n",
       "                        <td id=\"T_c236414a_9cb3_11ea_bc07_3cf0112ace06row3_col3\" class=\"data row3 col3\" >0.150000</td>\n",
       "                        <td id=\"T_c236414a_9cb3_11ea_bc07_3cf0112ace06row3_col4\" class=\"data row3 col4\" >0.620000</td>\n",
       "                        <td id=\"T_c236414a_9cb3_11ea_bc07_3cf0112ace06row3_col5\" class=\"data row3 col5\" >0.250000</td>\n",
       "                        <td id=\"T_c236414a_9cb3_11ea_bc07_3cf0112ace06row3_col6\" class=\"data row3 col6\" >0.220000</td>\n",
       "            </tr>\n",
       "            <tr>\n",
       "                        <th id=\"T_c236414a_9cb3_11ea_bc07_3cf0112ace06level0_row4\" class=\"row_heading level0 row4\" >4</th>\n",
       "                        <td id=\"T_c236414a_9cb3_11ea_bc07_3cf0112ace06row4_col0\" class=\"data row4 col0\" >Decision Tree Classifier</td>\n",
       "                        <td id=\"T_c236414a_9cb3_11ea_bc07_3cf0112ace06row4_col1\" class=\"data row4 col1\" >0.910000</td>\n",
       "                        <td id=\"T_c236414a_9cb3_11ea_bc07_3cf0112ace06row4_col2\" class=\"data row4 col2\" >0.790000</td>\n",
       "                        <td id=\"T_c236414a_9cb3_11ea_bc07_3cf0112ace06row4_col3\" class=\"data row4 col3\" >0.150000</td>\n",
       "                        <td id=\"T_c236414a_9cb3_11ea_bc07_3cf0112ace06row4_col4\" class=\"data row4 col4\" >0.620000</td>\n",
       "                        <td id=\"T_c236414a_9cb3_11ea_bc07_3cf0112ace06row4_col5\" class=\"data row4 col5\" >0.240000</td>\n",
       "                        <td id=\"T_c236414a_9cb3_11ea_bc07_3cf0112ace06row4_col6\" class=\"data row4 col6\" >0.210000</td>\n",
       "            </tr>\n",
       "            <tr>\n",
       "                        <th id=\"T_c236414a_9cb3_11ea_bc07_3cf0112ace06level0_row5\" class=\"row_heading level0 row5\" >5</th>\n",
       "                        <td id=\"T_c236414a_9cb3_11ea_bc07_3cf0112ace06row5_col0\" class=\"data row5 col0\" >Random Forest Classifier</td>\n",
       "                        <td id=\"T_c236414a_9cb3_11ea_bc07_3cf0112ace06row5_col1\" class=\"data row5 col1\" >0.910000</td>\n",
       "                        <td id=\"T_c236414a_9cb3_11ea_bc07_3cf0112ace06row5_col2\" class=\"data row5 col2\" >0.790000</td>\n",
       "                        <td id=\"T_c236414a_9cb3_11ea_bc07_3cf0112ace06row5_col3\" class=\"data row5 col3\" >0.150000</td>\n",
       "                        <td id=\"T_c236414a_9cb3_11ea_bc07_3cf0112ace06row5_col4\" class=\"data row5 col4\" >0.610000</td>\n",
       "                        <td id=\"T_c236414a_9cb3_11ea_bc07_3cf0112ace06row5_col5\" class=\"data row5 col5\" >0.240000</td>\n",
       "                        <td id=\"T_c236414a_9cb3_11ea_bc07_3cf0112ace06row5_col6\" class=\"data row5 col6\" >0.210000</td>\n",
       "            </tr>\n",
       "            <tr>\n",
       "                        <th id=\"T_c236414a_9cb3_11ea_bc07_3cf0112ace06level0_row6\" class=\"row_heading level0 row6\" >6</th>\n",
       "                        <td id=\"T_c236414a_9cb3_11ea_bc07_3cf0112ace06row6_col0\" class=\"data row6 col0\" >Extreme Gradient Boosting</td>\n",
       "                        <td id=\"T_c236414a_9cb3_11ea_bc07_3cf0112ace06row6_col1\" class=\"data row6 col1\" >0.910000</td>\n",
       "                        <td id=\"T_c236414a_9cb3_11ea_bc07_3cf0112ace06row6_col2\" class=\"data row6 col2\" >0.790000</td>\n",
       "                        <td id=\"T_c236414a_9cb3_11ea_bc07_3cf0112ace06row6_col3\" class=\"data row6 col3\" >0.150000</td>\n",
       "                        <td id=\"T_c236414a_9cb3_11ea_bc07_3cf0112ace06row6_col4\" class=\"data row6 col4\" >0.620000</td>\n",
       "                        <td id=\"T_c236414a_9cb3_11ea_bc07_3cf0112ace06row6_col5\" class=\"data row6 col5\" >0.240000</td>\n",
       "                        <td id=\"T_c236414a_9cb3_11ea_bc07_3cf0112ace06row6_col6\" class=\"data row6 col6\" >0.220000</td>\n",
       "            </tr>\n",
       "            <tr>\n",
       "                        <th id=\"T_c236414a_9cb3_11ea_bc07_3cf0112ace06level0_row7\" class=\"row_heading level0 row7\" >7</th>\n",
       "                        <td id=\"T_c236414a_9cb3_11ea_bc07_3cf0112ace06row7_col0\" class=\"data row7 col0\" >Logistic Regression</td>\n",
       "                        <td id=\"T_c236414a_9cb3_11ea_bc07_3cf0112ace06row7_col1\" class=\"data row7 col1\" >0.910000</td>\n",
       "                        <td id=\"T_c236414a_9cb3_11ea_bc07_3cf0112ace06row7_col2\" class=\"data row7 col2\" >0.780000</td>\n",
       "                        <td id=\"T_c236414a_9cb3_11ea_bc07_3cf0112ace06row7_col3\" class=\"data row7 col3\" >0.140000</td>\n",
       "                        <td id=\"T_c236414a_9cb3_11ea_bc07_3cf0112ace06row7_col4\" class=\"data row7 col4\" >0.610000</td>\n",
       "                        <td id=\"T_c236414a_9cb3_11ea_bc07_3cf0112ace06row7_col5\" class=\"data row7 col5\" >0.230000</td>\n",
       "                        <td id=\"T_c236414a_9cb3_11ea_bc07_3cf0112ace06row7_col6\" class=\"data row7 col6\" >0.200000</td>\n",
       "            </tr>\n",
       "    </tbody></table>"
      ],
      "text/plain": [
       "<pandas.io.formats.style.Styler at 0x21d94ad7588>"
      ]
     },
     "execution_count": 30,
     "metadata": {},
     "output_type": "execute_result"
    }
   ],
   "source": [
    "compare_models(fold=2,blacklist=['knn', 'ridge', 'svm', 'lda', 'nb', 'qda', 'et'], round=2, sort='F1')"
   ]
  },
  {
   "cell_type": "markdown",
   "metadata": {},
   "source": [
    "**Observation**: It turns major classification models have similar F1 score performance. Note that the base models have low \"Recall\" across the broad, which mean out of all the true qualified reordered items, only a small portion is being identified. This could be the result that the default 0.5 binary cut off rate is too steep that eliminate a lot of qualified records.\n",
    "<br>\n",
    "To increase the recall rate, we will lower the binary cut off rate to 0.3, knowing that will impact precision, but if that improve overall F1 scor, then it meets the problem's objective."
   ]
  },
  {
   "cell_type": "code",
   "execution_count": 1,
   "metadata": {},
   "outputs": [],
   "source": [
    "def model_f1(model, prob):\n",
    "    \"\"\" Automate the step on generating models and prediction\n",
    "    \n",
    "    Args:\n",
    "        model: the abbreviated string for estimators\n",
    "        prob: probabiliy therhold to determin whether an output is 0 or 1\n",
    "        \n",
    "    Returns:\n",
    "        name: created model\n",
    "        var: prediction generated from the model\n",
    "    \"\"\"\n",
    "    name = create_model(model, fold=2)\n",
    "    var = predict_model(name, probability_threshold=prob)\n",
    "    return name, var"
   ]
  },
  {
   "cell_type": "code",
   "execution_count": 55,
   "metadata": {},
   "outputs": [
    {
     "data": {
      "text/html": [
       "<div>\n",
       "<style scoped>\n",
       "    .dataframe tbody tr th:only-of-type {\n",
       "        vertical-align: middle;\n",
       "    }\n",
       "\n",
       "    .dataframe tbody tr th {\n",
       "        vertical-align: top;\n",
       "    }\n",
       "\n",
       "    .dataframe thead th {\n",
       "        text-align: right;\n",
       "    }\n",
       "</style>\n",
       "<table border=\"1\" class=\"dataframe\">\n",
       "  <thead>\n",
       "    <tr style=\"text-align: right;\">\n",
       "      <th></th>\n",
       "      <th>Model</th>\n",
       "      <th>Accuracy</th>\n",
       "      <th>AUC</th>\n",
       "      <th>Recall</th>\n",
       "      <th>Prec.</th>\n",
       "      <th>F1</th>\n",
       "      <th>Kappa</th>\n",
       "    </tr>\n",
       "  </thead>\n",
       "  <tbody>\n",
       "    <tr>\n",
       "      <th>0</th>\n",
       "      <td>Logistic Regression</td>\n",
       "      <td>0.9101</td>\n",
       "      <td>0.7766</td>\n",
       "      <td>0.236</td>\n",
       "      <td>0.5221</td>\n",
       "      <td>0.3251</td>\n",
       "      <td>0.2841</td>\n",
       "    </tr>\n",
       "  </tbody>\n",
       "</table>\n",
       "</div>"
      ],
      "text/plain": [
       "                 Model  Accuracy     AUC  Recall   Prec.      F1   Kappa\n",
       "0  Logistic Regression    0.9101  0.7766   0.236  0.5221  0.3251  0.2841"
      ]
     },
     "metadata": {},
     "output_type": "display_data"
    },
    {
     "name": "stdout",
     "output_type": "stream",
     "text": [
      "Wall time: 48 s\n"
     ]
    }
   ],
   "source": [
    "%%time\n",
    "lr, lr_pred = model_f1('lr', .3)"
   ]
  },
  {
   "cell_type": "code",
   "execution_count": 56,
   "metadata": {},
   "outputs": [
    {
     "data": {
      "text/html": [
       "<div>\n",
       "<style scoped>\n",
       "    .dataframe tbody tr th:only-of-type {\n",
       "        vertical-align: middle;\n",
       "    }\n",
       "\n",
       "    .dataframe tbody tr th {\n",
       "        vertical-align: top;\n",
       "    }\n",
       "\n",
       "    .dataframe thead th {\n",
       "        text-align: right;\n",
       "    }\n",
       "</style>\n",
       "<table border=\"1\" class=\"dataframe\">\n",
       "  <thead>\n",
       "    <tr style=\"text-align: right;\">\n",
       "      <th></th>\n",
       "      <th>Model</th>\n",
       "      <th>Accuracy</th>\n",
       "      <th>AUC</th>\n",
       "      <th>Recall</th>\n",
       "      <th>Prec.</th>\n",
       "      <th>F1</th>\n",
       "      <th>Kappa</th>\n",
       "    </tr>\n",
       "  </thead>\n",
       "  <tbody>\n",
       "    <tr>\n",
       "      <th>0</th>\n",
       "      <td>Gradient Boosting Classifier</td>\n",
       "      <td>0.9061</td>\n",
       "      <td>0.7925</td>\n",
       "      <td>0.2889</td>\n",
       "      <td>0.4808</td>\n",
       "      <td>0.3609</td>\n",
       "      <td>0.3137</td>\n",
       "    </tr>\n",
       "  </tbody>\n",
       "</table>\n",
       "</div>"
      ],
      "text/plain": [
       "                          Model  Accuracy     AUC  Recall   Prec.      F1  \\\n",
       "0  Gradient Boosting Classifier    0.9061  0.7925  0.2889  0.4808  0.3609   \n",
       "\n",
       "    Kappa  \n",
       "0  0.3137  "
      ]
     },
     "metadata": {},
     "output_type": "display_data"
    }
   ],
   "source": [
    "gbc, gbc_pred = model_f1('gbc', .3)"
   ]
  },
  {
   "cell_type": "code",
   "execution_count": 57,
   "metadata": {},
   "outputs": [
    {
     "data": {
      "text/html": [
       "<div>\n",
       "<style scoped>\n",
       "    .dataframe tbody tr th:only-of-type {\n",
       "        vertical-align: middle;\n",
       "    }\n",
       "\n",
       "    .dataframe tbody tr th {\n",
       "        vertical-align: top;\n",
       "    }\n",
       "\n",
       "    .dataframe thead th {\n",
       "        text-align: right;\n",
       "    }\n",
       "</style>\n",
       "<table border=\"1\" class=\"dataframe\">\n",
       "  <thead>\n",
       "    <tr style=\"text-align: right;\">\n",
       "      <th></th>\n",
       "      <th>Model</th>\n",
       "      <th>Accuracy</th>\n",
       "      <th>AUC</th>\n",
       "      <th>Recall</th>\n",
       "      <th>Prec.</th>\n",
       "      <th>F1</th>\n",
       "      <th>Kappa</th>\n",
       "    </tr>\n",
       "  </thead>\n",
       "  <tbody>\n",
       "    <tr>\n",
       "      <th>0</th>\n",
       "      <td>Light Gradient Boosting Machine</td>\n",
       "      <td>0.9058</td>\n",
       "      <td>0.7926</td>\n",
       "      <td>0.2919</td>\n",
       "      <td>0.4783</td>\n",
       "      <td>0.3625</td>\n",
       "      <td>0.3149</td>\n",
       "    </tr>\n",
       "  </tbody>\n",
       "</table>\n",
       "</div>"
      ],
      "text/plain": [
       "                             Model  Accuracy     AUC  Recall   Prec.      F1  \\\n",
       "0  Light Gradient Boosting Machine    0.9058  0.7926  0.2919  0.4783  0.3625   \n",
       "\n",
       "    Kappa  \n",
       "0  0.3149  "
      ]
     },
     "metadata": {},
     "output_type": "display_data"
    },
    {
     "name": "stdout",
     "output_type": "stream",
     "text": [
      "Wall time: 2min 1s\n"
     ]
    }
   ],
   "source": [
    "%%time\n",
    "lightgbm, lg_pred = model_f1('lightgbm', .3)"
   ]
  },
  {
   "cell_type": "code",
   "execution_count": 58,
   "metadata": {},
   "outputs": [
    {
     "data": {
      "text/html": [
       "<div>\n",
       "<style scoped>\n",
       "    .dataframe tbody tr th:only-of-type {\n",
       "        vertical-align: middle;\n",
       "    }\n",
       "\n",
       "    .dataframe tbody tr th {\n",
       "        vertical-align: top;\n",
       "    }\n",
       "\n",
       "    .dataframe thead th {\n",
       "        text-align: right;\n",
       "    }\n",
       "</style>\n",
       "<table border=\"1\" class=\"dataframe\">\n",
       "  <thead>\n",
       "    <tr style=\"text-align: right;\">\n",
       "      <th></th>\n",
       "      <th>Model</th>\n",
       "      <th>Accuracy</th>\n",
       "      <th>AUC</th>\n",
       "      <th>Recall</th>\n",
       "      <th>Prec.</th>\n",
       "      <th>F1</th>\n",
       "      <th>Kappa</th>\n",
       "    </tr>\n",
       "  </thead>\n",
       "  <tbody>\n",
       "    <tr>\n",
       "      <th>0</th>\n",
       "      <td>Extreme Gradient Boosting</td>\n",
       "      <td>0.9062</td>\n",
       "      <td>0.7925</td>\n",
       "      <td>0.287</td>\n",
       "      <td>0.4819</td>\n",
       "      <td>0.3598</td>\n",
       "      <td>0.3127</td>\n",
       "    </tr>\n",
       "  </tbody>\n",
       "</table>\n",
       "</div>"
      ],
      "text/plain": [
       "                       Model  Accuracy     AUC  Recall   Prec.      F1   Kappa\n",
       "0  Extreme Gradient Boosting    0.9062  0.7925   0.287  0.4819  0.3598  0.3127"
      ]
     },
     "metadata": {},
     "output_type": "display_data"
    },
    {
     "name": "stdout",
     "output_type": "stream",
     "text": [
      "Wall time: 4min 17s\n"
     ]
    }
   ],
   "source": [
    "%%time\n",
    "xgb, xgb_pred = model_f1('xgboost', .3)"
   ]
  },
  {
   "cell_type": "code",
   "execution_count": 59,
   "metadata": {},
   "outputs": [
    {
     "data": {
      "text/html": [
       "<div>\n",
       "<style scoped>\n",
       "    .dataframe tbody tr th:only-of-type {\n",
       "        vertical-align: middle;\n",
       "    }\n",
       "\n",
       "    .dataframe tbody tr th {\n",
       "        vertical-align: top;\n",
       "    }\n",
       "\n",
       "    .dataframe thead th {\n",
       "        text-align: right;\n",
       "    }\n",
       "</style>\n",
       "<table border=\"1\" class=\"dataframe\">\n",
       "  <thead>\n",
       "    <tr style=\"text-align: right;\">\n",
       "      <th></th>\n",
       "      <th>Model</th>\n",
       "      <th>Accuracy</th>\n",
       "      <th>AUC</th>\n",
       "      <th>Recall</th>\n",
       "      <th>Prec.</th>\n",
       "      <th>F1</th>\n",
       "      <th>Kappa</th>\n",
       "    </tr>\n",
       "  </thead>\n",
       "  <tbody>\n",
       "    <tr>\n",
       "      <th>0</th>\n",
       "      <td>Random Forest Classifier</td>\n",
       "      <td>0.9057</td>\n",
       "      <td>0.7912</td>\n",
       "      <td>0.2874</td>\n",
       "      <td>0.4772</td>\n",
       "      <td>0.3588</td>\n",
       "      <td>0.3112</td>\n",
       "    </tr>\n",
       "  </tbody>\n",
       "</table>\n",
       "</div>"
      ],
      "text/plain": [
       "                      Model  Accuracy     AUC  Recall   Prec.      F1   Kappa\n",
       "0  Random Forest Classifier    0.9057  0.7912  0.2874  0.4772  0.3588  0.3112"
      ]
     },
     "metadata": {},
     "output_type": "display_data"
    },
    {
     "name": "stdout",
     "output_type": "stream",
     "text": [
      "Wall time: 3min 17s\n"
     ]
    }
   ],
   "source": [
    "%%time\n",
    "rfc, rfc_pred = model_f1('rf', .3)"
   ]
  },
  {
   "cell_type": "markdown",
   "metadata": {},
   "source": [
    "##### Save all the models for final test data submission"
   ]
  },
  {
   "cell_type": "code",
   "execution_count": 60,
   "metadata": {},
   "outputs": [
    {
     "name": "stdout",
     "output_type": "stream",
     "text": [
      "Transformation Pipeline and Model Succesfully Saved\n",
      "Transformation Pipeline and Model Succesfully Saved\n",
      "Transformation Pipeline and Model Succesfully Saved\n",
      "Transformation Pipeline and Model Succesfully Saved\n",
      "Transformation Pipeline and Model Succesfully Saved\n"
     ]
    }
   ],
   "source": [
    "path = './data/save_model/'\n",
    "save_model(lr, model_name=path+'lr')\n",
    "save_model(gbc, model_name=path+'gbc')\n",
    "save_model(lightgbm, model_name=path+'lgbm')\n",
    "save_model(rfc, model_name=path+'rfc')\n",
    "save_model(xgb, model_name=path+'xgb')"
   ]
  },
  {
   "cell_type": "markdown",
   "metadata": {},
   "source": [
    "Test out the the output by blending models, performance is inferior than individual model, hence won't proceed with that strategy"
   ]
  },
  {
   "cell_type": "code",
   "execution_count": 63,
   "metadata": {},
   "outputs": [
    {
     "data": {
      "text/html": [
       "<div>\n",
       "<style scoped>\n",
       "    .dataframe tbody tr th:only-of-type {\n",
       "        vertical-align: middle;\n",
       "    }\n",
       "\n",
       "    .dataframe tbody tr th {\n",
       "        vertical-align: top;\n",
       "    }\n",
       "\n",
       "    .dataframe thead th {\n",
       "        text-align: right;\n",
       "    }\n",
       "</style>\n",
       "<table border=\"1\" class=\"dataframe\">\n",
       "  <thead>\n",
       "    <tr style=\"text-align: right;\">\n",
       "      <th></th>\n",
       "      <th>Accuracy</th>\n",
       "      <th>AUC</th>\n",
       "      <th>Recall</th>\n",
       "      <th>Prec.</th>\n",
       "      <th>F1</th>\n",
       "      <th>Kappa</th>\n",
       "    </tr>\n",
       "  </thead>\n",
       "  <tbody>\n",
       "    <tr>\n",
       "      <th>0</th>\n",
       "      <td>0.9138</td>\n",
       "      <td>0.0</td>\n",
       "      <td>0.1476</td>\n",
       "      <td>0.6301</td>\n",
       "      <td>0.2392</td>\n",
       "      <td>0.2118</td>\n",
       "    </tr>\n",
       "    <tr>\n",
       "      <th>1</th>\n",
       "      <td>0.9138</td>\n",
       "      <td>0.0</td>\n",
       "      <td>0.1492</td>\n",
       "      <td>0.6288</td>\n",
       "      <td>0.2412</td>\n",
       "      <td>0.2135</td>\n",
       "    </tr>\n",
       "    <tr>\n",
       "      <th>Mean</th>\n",
       "      <td>0.9138</td>\n",
       "      <td>0.0</td>\n",
       "      <td>0.1484</td>\n",
       "      <td>0.6294</td>\n",
       "      <td>0.2402</td>\n",
       "      <td>0.2126</td>\n",
       "    </tr>\n",
       "    <tr>\n",
       "      <th>SD</th>\n",
       "      <td>0.0000</td>\n",
       "      <td>0.0</td>\n",
       "      <td>0.0008</td>\n",
       "      <td>0.0006</td>\n",
       "      <td>0.0010</td>\n",
       "      <td>0.0009</td>\n",
       "    </tr>\n",
       "  </tbody>\n",
       "</table>\n",
       "</div>"
      ],
      "text/plain": [
       "      Accuracy  AUC  Recall   Prec.      F1   Kappa\n",
       "0       0.9138  0.0  0.1476  0.6301  0.2392  0.2118\n",
       "1       0.9138  0.0  0.1492  0.6288  0.2412  0.2135\n",
       "Mean    0.9138  0.0  0.1484  0.6294  0.2402  0.2126\n",
       "SD      0.0000  0.0  0.0008  0.0006  0.0010  0.0009"
      ]
     },
     "metadata": {},
     "output_type": "display_data"
    },
    {
     "name": "stdout",
     "output_type": "stream",
     "text": [
      "Wall time: 22min 27s\n"
     ]
    }
   ],
   "source": [
    "%%time\n",
    "# blend = blend_models(estimator_list=[rfc, xgb, lightgbm, gbc], fold=2)"
   ]
  },
  {
   "cell_type": "code",
   "execution_count": 67,
   "metadata": {},
   "outputs": [
    {
     "data": {
      "text/html": [
       "<div>\n",
       "<style scoped>\n",
       "    .dataframe tbody tr th:only-of-type {\n",
       "        vertical-align: middle;\n",
       "    }\n",
       "\n",
       "    .dataframe tbody tr th {\n",
       "        vertical-align: top;\n",
       "    }\n",
       "\n",
       "    .dataframe thead th {\n",
       "        text-align: right;\n",
       "    }\n",
       "</style>\n",
       "<table border=\"1\" class=\"dataframe\">\n",
       "  <thead>\n",
       "    <tr style=\"text-align: right;\">\n",
       "      <th></th>\n",
       "      <th>Model</th>\n",
       "      <th>Accuracy</th>\n",
       "      <th>AUC</th>\n",
       "      <th>Recall</th>\n",
       "      <th>Prec.</th>\n",
       "      <th>F1</th>\n",
       "      <th>Kappa</th>\n",
       "    </tr>\n",
       "  </thead>\n",
       "  <tbody>\n",
       "    <tr>\n",
       "      <th>0</th>\n",
       "      <td>Voting Classifier</td>\n",
       "      <td>0.914</td>\n",
       "      <td>0</td>\n",
       "      <td>0.1483</td>\n",
       "      <td>0.6337</td>\n",
       "      <td>0.2403</td>\n",
       "      <td>0.2129</td>\n",
       "    </tr>\n",
       "  </tbody>\n",
       "</table>\n",
       "</div>"
      ],
      "text/plain": [
       "               Model  Accuracy  AUC  Recall   Prec.      F1   Kappa\n",
       "0  Voting Classifier     0.914    0  0.1483  0.6337  0.2403  0.2129"
      ]
     },
     "metadata": {},
     "output_type": "display_data"
    }
   ],
   "source": [
    "# pred_blend = predict_model(blend, probability_threshold=.2)"
   ]
  },
  {
   "cell_type": "code",
   "execution_count": 66,
   "metadata": {},
   "outputs": [
    {
     "name": "stdout",
     "output_type": "stream",
     "text": [
      "Transformation Pipeline and Model Succesfully Saved\n"
     ]
    }
   ],
   "source": [
    "# save_model(blend, model_name=path+'blend')"
   ]
  }
 ],
 "metadata": {
  "kernelspec": {
   "display_name": "Python 3",
   "language": "python",
   "name": "python3"
  },
  "language_info": {
   "codemirror_mode": {
    "name": "ipython",
    "version": 3
   },
   "file_extension": ".py",
   "mimetype": "text/x-python",
   "name": "python",
   "nbconvert_exporter": "python",
   "pygments_lexer": "ipython3",
   "version": "3.7.3"
  }
 },
 "nbformat": 4,
 "nbformat_minor": 4
}
