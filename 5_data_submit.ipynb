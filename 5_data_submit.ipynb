{
 "cells": [
  {
   "cell_type": "markdown",
   "metadata": {},
   "source": [
    "# Data Submission\n",
    "\n",
    "This workbook is to streamline the steps on submitting data to Kaggle for final F1 scroing."
   ]
  },
  {
   "cell_type": "code",
   "execution_count": 1,
   "metadata": {},
   "outputs": [],
   "source": [
    "import pandas as pd\n",
    "from pycaret.classification import *"
   ]
  },
  {
   "cell_type": "code",
   "execution_count": 2,
   "metadata": {},
   "outputs": [],
   "source": [
    "orders = pd.read_csv('./data/orders.csv')\n",
    "products = pd.read_csv('./data/products.csv')\n",
    "orders_p = pd.read_csv('./data/order_products__prior.csv')\n",
    "orders_tr = pd.read_csv('./data/order_products__train.csv')"
   ]
  },
  {
   "cell_type": "code",
   "execution_count": 3,
   "metadata": {},
   "outputs": [],
   "source": [
    "\n",
    "def merge_products(x):\n",
    "    \"\"\" Join the prediced reordered items into one line per order\n",
    "\n",
    "    Args:\n",
    "        x: items that will be reordered\n",
    "\n",
    "    Returns:\n",
    "        a string that have all reordered items into one line per order id\"\"\"\n",
    "    return \" \".join(list(x.astype('str')))"
   ]
  },
  {
   "cell_type": "code",
   "execution_count": 4,
   "metadata": {},
   "outputs": [],
   "source": [
    "# path to save the prediction\n",
    "\n",
    "\n",
    "path = './data/submit/'"
   ]
  },
  {
   "cell_type": "code",
   "execution_count": 5,
   "metadata": {},
   "outputs": [],
   "source": [
    "prior_order = orders.query('eval_set == \"prior\"')\n",
    "train_order = orders.query('eval_set == \"train\"')\n",
    "test_order = orders.query('eval_set == \"test\"')"
   ]
  },
  {
   "cell_type": "markdown",
   "metadata": {},
   "source": [
    "### Baseline (using last order per user)"
   ]
  },
  {
   "cell_type": "code",
   "execution_count": 6,
   "metadata": {},
   "outputs": [],
   "source": [
    "# baseline = orders.copy()\n",
    "# baseline['last_order'] = baseline['order_id'].shift(1)"
   ]
  },
  {
   "cell_type": "code",
   "execution_count": 7,
   "metadata": {},
   "outputs": [],
   "source": [
    "# test_order_base = baseline.query('eval_set == \"test\"')"
   ]
  },
  {
   "cell_type": "code",
   "execution_count": 8,
   "metadata": {},
   "outputs": [],
   "source": [
    "# baseline = pd.merge(test_order_base, orders_p, left_on='last_order',\n",
    "#                     right_on='order_id', how='left')"
   ]
  },
  {
   "cell_type": "code",
   "execution_count": 9,
   "metadata": {},
   "outputs": [],
   "source": [
    "# baseline_df = baseline[['order_id_x', 'product_id']]\n",
    "# baseline_df = baseline_df.groupby(['order_id_x'])['product_id'].aggregate(\n",
    "#     merge_products).reset_index()"
   ]
  },
  {
   "cell_type": "code",
   "execution_count": 10,
   "metadata": {},
   "outputs": [],
   "source": [
    "# baseline_df.columns = ['order_id', 'products']\n",
    "# baseline_df.shape"
   ]
  },
  {
   "cell_type": "code",
   "execution_count": 11,
   "metadata": {},
   "outputs": [],
   "source": [
    "# baseline_df.to_csv(path + 'base_model.csv', index=False)"
   ]
  },
  {
   "cell_type": "markdown",
   "metadata": {},
   "source": [
    "### Classification Models"
   ]
  },
  {
   "cell_type": "code",
   "execution_count": 12,
   "metadata": {},
   "outputs": [],
   "source": [
    "df_submit = pd.read_csv('./data/df_submit.csv')\n",
    "load = './data/save_model/'"
   ]
  },
  {
   "cell_type": "code",
   "execution_count": 13,
   "metadata": {},
   "outputs": [
    {
     "data": {
      "text/html": [
       "<div>\n",
       "<style scoped>\n",
       "    .dataframe tbody tr th:only-of-type {\n",
       "        vertical-align: middle;\n",
       "    }\n",
       "\n",
       "    .dataframe tbody tr th {\n",
       "        vertical-align: top;\n",
       "    }\n",
       "\n",
       "    .dataframe thead th {\n",
       "        text-align: right;\n",
       "    }\n",
       "</style>\n",
       "<table border=\"1\" class=\"dataframe\">\n",
       "  <thead>\n",
       "    <tr style=\"text-align: right;\">\n",
       "      <th></th>\n",
       "      <th>user_id</th>\n",
       "      <th>product_id</th>\n",
       "      <th>order_number</th>\n",
       "      <th>last_purchase</th>\n",
       "      <th>reordered</th>\n",
       "      <th>lag</th>\n",
       "      <th>product_appear</th>\n",
       "      <th>buy_cnt</th>\n",
       "    </tr>\n",
       "  </thead>\n",
       "  <tbody>\n",
       "    <tr>\n",
       "      <th>0</th>\n",
       "      <td>3</td>\n",
       "      <td>248</td>\n",
       "      <td>2</td>\n",
       "      <td>0.0</td>\n",
       "      <td>0</td>\n",
       "      <td>0.0</td>\n",
       "      <td>0.500000</td>\n",
       "      <td>0.0</td>\n",
       "    </tr>\n",
       "    <tr>\n",
       "      <th>1</th>\n",
       "      <td>3</td>\n",
       "      <td>1005</td>\n",
       "      <td>10</td>\n",
       "      <td>0.0</td>\n",
       "      <td>0</td>\n",
       "      <td>98.0</td>\n",
       "      <td>0.100000</td>\n",
       "      <td>1.0</td>\n",
       "    </tr>\n",
       "    <tr>\n",
       "      <th>2</th>\n",
       "      <td>3</td>\n",
       "      <td>1819</td>\n",
       "      <td>7</td>\n",
       "      <td>0.0</td>\n",
       "      <td>2</td>\n",
       "      <td>13.0</td>\n",
       "      <td>0.428571</td>\n",
       "      <td>0.0</td>\n",
       "    </tr>\n",
       "    <tr>\n",
       "      <th>3</th>\n",
       "      <td>3</td>\n",
       "      <td>7503</td>\n",
       "      <td>3</td>\n",
       "      <td>0.0</td>\n",
       "      <td>0</td>\n",
       "      <td>21.0</td>\n",
       "      <td>0.333333</td>\n",
       "      <td>0.0</td>\n",
       "    </tr>\n",
       "    <tr>\n",
       "      <th>4</th>\n",
       "      <td>3</td>\n",
       "      <td>8021</td>\n",
       "      <td>2</td>\n",
       "      <td>0.0</td>\n",
       "      <td>0</td>\n",
       "      <td>0.0</td>\n",
       "      <td>0.500000</td>\n",
       "      <td>0.0</td>\n",
       "    </tr>\n",
       "  </tbody>\n",
       "</table>\n",
       "</div>"
      ],
      "text/plain": [
       "   user_id  product_id  order_number  last_purchase  reordered   lag  \\\n",
       "0        3         248             2            0.0          0   0.0   \n",
       "1        3        1005            10            0.0          0  98.0   \n",
       "2        3        1819             7            0.0          2  13.0   \n",
       "3        3        7503             3            0.0          0  21.0   \n",
       "4        3        8021             2            0.0          0   0.0   \n",
       "\n",
       "   product_appear  buy_cnt  \n",
       "0        0.500000      0.0  \n",
       "1        0.100000      1.0  \n",
       "2        0.428571      0.0  \n",
       "3        0.333333      0.0  \n",
       "4        0.500000      0.0  "
      ]
     },
     "execution_count": 13,
     "metadata": {},
     "output_type": "execute_result"
    }
   ],
   "source": [
    "df_submit.head()"
   ]
  },
  {
   "cell_type": "code",
   "execution_count": 14,
   "metadata": {},
   "outputs": [],
   "source": [
    "\n",
    "def submit_data(model_name, dataset, prob):\n",
    "    \"\"\" step on loading saved models and creating the data submission to /\n",
    "    Kaggle competition\n",
    "\n",
    "    Args:\n",
    "        model_name: trained model from machine learning section\n",
    "        dataset: test dataset\n",
    "        prob: probability threshold to determine whether the prediction /\n",
    "        is 0 or 1\n",
    "\n",
    "    Returns:\n",
    "        df: dataframe that match Kaggle sumbission requirement\n",
    "    \"\"\"\n",
    "    model = load_model(load+model_name)\n",
    "    pred = predict_model(model, data=dataset, probability_threshold=prob)\n",
    "    pred.index = dataset.index\n",
    "    submit = pred.loc[pred['Label'] == 1].reset_index()\n",
    "    submit['product_id'] = submit['product_id'].astype('str')\n",
    "    df = pd.merge(test_order[['order_id', 'user_id']], submit, on=['user_id'],\n",
    "                  how='left').fillna(0)\n",
    "    df = df.groupby(['order_id'])['product_id'].aggregate(\n",
    "        merge_products).reset_index()\n",
    "    df.columns = ['order_id', 'products']\n",
    "    print(df.shape)\n",
    "    return df"
   ]
  },
  {
   "cell_type": "markdown",
   "metadata": {},
   "source": [
    "##### Random Forecast"
   ]
  },
  {
   "cell_type": "code",
   "execution_count": 15,
   "metadata": {},
   "outputs": [],
   "source": [
    "# tuned model\n",
    "\n",
    "submit_data('rfc_tune', df_submit, .17).to_csv(\n",
    "    path+'rfc_tune.csv', index=False)"
   ]
  },
  {
   "cell_type": "markdown",
   "metadata": {},
   "source": [
    "##### Light Gradient Boosting "
   ]
  },
  {
   "cell_type": "code",
   "execution_count": 16,
   "metadata": {},
   "outputs": [],
   "source": [
    "submit_data('lgbm_1', df_submit, .17).to_csv(path+'lightgbm.csv', index=False)"
   ]
  },
  {
   "cell_type": "code",
   "execution_count": 17,
   "metadata": {},
   "outputs": [],
   "source": [
    "# tuned model\n",
    "\n",
    "submit_data('lgbm_tune', df_submit, .17).to_csv(\n",
    "    path+'lgbm_tune.csv', index=False)"
   ]
  },
  {
   "cell_type": "markdown",
   "metadata": {},
   "source": [
    "##### Gradient Boosting"
   ]
  },
  {
   "cell_type": "code",
   "execution_count": 12,
   "metadata": {},
   "outputs": [
    {
     "name": "stdout",
     "output_type": "stream",
     "text": [
      "(75000, 2)\n"
     ]
    }
   ],
   "source": [
    "submit_data('gbc', df_submit, .17).to_csv(path+'gbc.csv', index=False)"
   ]
  },
  {
   "cell_type": "code",
   "execution_count": 17,
   "metadata": {},
   "outputs": [
    {
     "name": "stdout",
     "output_type": "stream",
     "text": [
      "(75000, 2)\n"
     ]
    }
   ],
   "source": [
    "# tuned model\n",
    "\n",
    "submit_data('gbc_tune', df_submit, .17).to_csv(\n",
    "    path+'gbc_tune.csv', index=False)"
   ]
  },
  {
   "cell_type": "markdown",
   "metadata": {},
   "source": [
    "##### XgBoost"
   ]
  },
  {
   "cell_type": "code",
   "execution_count": 15,
   "metadata": {},
   "outputs": [
    {
     "name": "stdout",
     "output_type": "stream",
     "text": [
      "(75000, 2)\n"
     ]
    }
   ],
   "source": [
    "submit_data('xgb_tune', df_submit, .17).to_csv(\n",
    "    path+'xgb_tune.csv', index=False)"
   ]
  }
 ],
 "metadata": {
  "kernelspec": {
   "display_name": "Python 3",
   "language": "python",
   "name": "python3"
  },
  "language_info": {
   "codemirror_mode": {
    "name": "ipython",
    "version": 3
   },
   "file_extension": ".py",
   "mimetype": "text/x-python",
   "name": "python",
   "nbconvert_exporter": "python",
   "pygments_lexer": "ipython3",
   "version": "3.7.1"
  }
 },
 "nbformat": 4,
 "nbformat_minor": 4
}
