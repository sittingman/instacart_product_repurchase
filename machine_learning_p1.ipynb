{
 "cells": [
  {
   "cell_type": "markdown",
   "metadata": {},
   "source": [
    "# Machine Learning\n",
    "\n",
    "We will use all the prior order information to generate features, and use the train data to create the target variables.\n",
    "\n",
    "From exploratory analysis, we learned that purchase pattern at the department level is pretty consistence, and the reorder pattern are similar to orders created by users before. Also, reorder on average fall under 15 days for new clients, and gradually decrease over time to 2-4 days. Hence, we will test the following features\n",
    "- product purchase frequency\n",
    "- duration from last purchase"
   ]
  },
  {
   "cell_type": "markdown",
   "metadata": {},
   "source": [
    "### Import modules and data"
   ]
  },
  {
   "cell_type": "code",
   "execution_count": 1,
   "metadata": {},
   "outputs": [],
   "source": [
    "import pandas as pd\n",
    "import gc\n",
    "from pycaret.classification import * "
   ]
  },
  {
   "cell_type": "code",
   "execution_count": 2,
   "metadata": {},
   "outputs": [],
   "source": [
    "# aisles = pd.read_csv('./data/aisles.csv')\n",
    "# dept = pd.read_csv('./data/departments.csv')\n",
    "orders = pd.read_csv('./data/orders.csv')\n",
    "# products = pd.read_csv('./data/products.csv')\n",
    "orders_p = pd.read_csv('./data/order_products__prior.csv')\n",
    "orders_tr = pd.read_csv('./data/order_products__train.csv')"
   ]
  },
  {
   "cell_type": "code",
   "execution_count": 3,
   "metadata": {},
   "outputs": [],
   "source": [
    "prior_order = orders.query('eval_set == \"prior\"')\n",
    "train_order = orders.query('eval_set == \"train\"')\n",
    "test_order = orders.query('eval_set == \"test\"')"
   ]
  },
  {
   "cell_type": "code",
   "execution_count": 4,
   "metadata": {},
   "outputs": [
    {
     "name": "stdout",
     "output_type": "stream",
     "text": [
      "(3421083, 7)\n"
     ]
    },
    {
     "data": {
      "text/html": [
       "<div>\n",
       "<style scoped>\n",
       "    .dataframe tbody tr th:only-of-type {\n",
       "        vertical-align: middle;\n",
       "    }\n",
       "\n",
       "    .dataframe tbody tr th {\n",
       "        vertical-align: top;\n",
       "    }\n",
       "\n",
       "    .dataframe thead th {\n",
       "        text-align: right;\n",
       "    }\n",
       "</style>\n",
       "<table border=\"1\" class=\"dataframe\">\n",
       "  <thead>\n",
       "    <tr style=\"text-align: right;\">\n",
       "      <th></th>\n",
       "      <th>order_id</th>\n",
       "      <th>user_id</th>\n",
       "      <th>eval_set</th>\n",
       "      <th>order_number</th>\n",
       "      <th>order_dow</th>\n",
       "      <th>order_hour_of_day</th>\n",
       "      <th>days_since_prior_order</th>\n",
       "    </tr>\n",
       "  </thead>\n",
       "  <tbody>\n",
       "    <tr>\n",
       "      <th>0</th>\n",
       "      <td>2539329</td>\n",
       "      <td>1</td>\n",
       "      <td>prior</td>\n",
       "      <td>1</td>\n",
       "      <td>2</td>\n",
       "      <td>8</td>\n",
       "      <td>NaN</td>\n",
       "    </tr>\n",
       "    <tr>\n",
       "      <th>1</th>\n",
       "      <td>2398795</td>\n",
       "      <td>1</td>\n",
       "      <td>prior</td>\n",
       "      <td>2</td>\n",
       "      <td>3</td>\n",
       "      <td>7</td>\n",
       "      <td>15.0</td>\n",
       "    </tr>\n",
       "    <tr>\n",
       "      <th>2</th>\n",
       "      <td>473747</td>\n",
       "      <td>1</td>\n",
       "      <td>prior</td>\n",
       "      <td>3</td>\n",
       "      <td>3</td>\n",
       "      <td>12</td>\n",
       "      <td>21.0</td>\n",
       "    </tr>\n",
       "    <tr>\n",
       "      <th>3</th>\n",
       "      <td>2254736</td>\n",
       "      <td>1</td>\n",
       "      <td>prior</td>\n",
       "      <td>4</td>\n",
       "      <td>4</td>\n",
       "      <td>7</td>\n",
       "      <td>29.0</td>\n",
       "    </tr>\n",
       "    <tr>\n",
       "      <th>4</th>\n",
       "      <td>431534</td>\n",
       "      <td>1</td>\n",
       "      <td>prior</td>\n",
       "      <td>5</td>\n",
       "      <td>4</td>\n",
       "      <td>15</td>\n",
       "      <td>28.0</td>\n",
       "    </tr>\n",
       "  </tbody>\n",
       "</table>\n",
       "</div>"
      ],
      "text/plain": [
       "   order_id  user_id eval_set  order_number  order_dow  order_hour_of_day  \\\n",
       "0   2539329        1    prior             1          2                  8   \n",
       "1   2398795        1    prior             2          3                  7   \n",
       "2    473747        1    prior             3          3                 12   \n",
       "3   2254736        1    prior             4          4                  7   \n",
       "4    431534        1    prior             5          4                 15   \n",
       "\n",
       "   days_since_prior_order  \n",
       "0                     NaN  \n",
       "1                    15.0  \n",
       "2                    21.0  \n",
       "3                    29.0  \n",
       "4                    28.0  "
      ]
     },
     "metadata": {},
     "output_type": "display_data"
    },
    {
     "name": "stdout",
     "output_type": "stream",
     "text": [
      "(32434489, 4)\n",
      "(1384617, 4)\n"
     ]
    }
   ],
   "source": [
    "print(orders.shape)\n",
    "display(orders.head())\n",
    "print(orders_p.shape)\n",
    "print(orders_tr.shape)"
   ]
  },
  {
   "cell_type": "markdown",
   "metadata": {},
   "source": [
    "### Feature Creations\n",
    "\n",
    "- last purchase: whether a particular product was purchased in the latest order by user\n",
    "- last 3 purchase: product appear in the last 3 purchases\n",
    "- the duration (in terms of days) that an item was purchased since last purchase (will be zero if the product didn't exist in latest orders)\n",
    "- how many times an item has been purchased by the user\n",
    "- how often that item appear in user purchase history, in form of percentage"
   ]
  },
  {
   "cell_type": "markdown",
   "metadata": {},
   "source": [
    "##### Obtain a list of last purchase order by user"
   ]
  },
  {
   "cell_type": "code",
   "execution_count": 4,
   "metadata": {},
   "outputs": [],
   "source": [
    "last_purchase = prior_order[prior_order['order_number'] == prior_order.groupby(\n",
    "    ['user_id'])['order_number'].transform('max')]\n",
    "last_purchase_list = last_purchase['order_id'].tolist()"
   ]
  },
  {
   "cell_type": "markdown",
   "metadata": {},
   "source": [
    "##### Generating last purchase feature"
   ]
  },
  {
   "cell_type": "code",
   "execution_count": 22,
   "metadata": {},
   "outputs": [],
   "source": [
    "order_detail = orders_p.merge(prior_order[['order_id', 'user_id', 'order_number']],\n",
    "                              on=['order_id'], how='left')\n",
    "order_detail.loc[order_detail['order_id'].isin(last_purchase_list),\n",
    "                 'last_purchase'] = 1\n",
    "order_detail.loc[~order_detail['order_id'].isin(last_purchase_list),\n",
    "                 'last_purchase'] = 0"
   ]
  },
  {
   "cell_type": "markdown",
   "metadata": {},
   "source": [
    "##### Generating times of purchases and product appear frequency"
   ]
  },
  {
   "cell_type": "code",
   "execution_count": 14,
   "metadata": {},
   "outputs": [],
   "source": [
    "user_df = order_detail.groupby(['user_id', 'product_id']).agg({\n",
    "    'order_number': 'max', 'last_purchase': 'max', 'reordered': 'sum'})"
   ]
  },
  {
   "cell_type": "code",
   "execution_count": 15,
   "metadata": {},
   "outputs": [],
   "source": [
    "user_df['product_appear'] = (user_df['reordered']+1)/user_df['order_number']"
   ]
  },
  {
   "cell_type": "code",
   "execution_count": 16,
   "metadata": {},
   "outputs": [],
   "source": [
    "user_order_cnt = orders.groupby(['user_id', 'order_number']).agg({\n",
    "    'days_since_prior_order': 'sum'})"
   ]
  },
  {
   "cell_type": "markdown",
   "metadata": {},
   "source": [
    "##### Generate 3 consecutive purchase features for the last 3 orders, by user and by item"
   ]
  },
  {
   "cell_type": "code",
   "execution_count": 17,
   "metadata": {},
   "outputs": [],
   "source": [
    "# Get the last 3 purchases\n",
    "user_order_cnt_1 = user_order_cnt.groupby(level=0).apply(lambda df: df[-4:])\n",
    "user_order_cnt_1.index = user_order_cnt_1.index.droplevel(0)"
   ]
  },
  {
   "cell_type": "code",
   "execution_count": 19,
   "metadata": {},
   "outputs": [],
   "source": [
    "last_three = user_order_cnt_1.reset_index().drop(\n",
    "    'days_since_prior_order', axis=1)"
   ]
  },
  {
   "cell_type": "code",
   "execution_count": 24,
   "metadata": {},
   "outputs": [],
   "source": [
    "product_last_three = pd.merge(last_three, order_detail,\n",
    "                              on=['user_id', 'order_number'], how='inner')\n",
    "product_cnt = product_last_three.groupby(['user_id', 'product_id']).agg(\n",
    "    {'product_id': 'count'})"
   ]
  },
  {
   "cell_type": "code",
   "execution_count": 25,
   "metadata": {},
   "outputs": [],
   "source": [
    "buy_3_time = product_last_three.query('product_id ==3').rename(\n",
    "    columns={'product_id': '3x'})"
   ]
  },
  {
   "cell_type": "markdown",
   "metadata": {},
   "source": [
    "##### Forming final training dataframe"
   ]
  },
  {
   "cell_type": "code",
   "execution_count": 30,
   "metadata": {},
   "outputs": [],
   "source": [
    "temp_df = pd.merge(user_df, product_cnt, left_index=True,\n",
    "                   right_index=True, how='left')\n",
    "# temp_df['3x'] = temp_df['3x'].apply(lambda x: 1 if x ==3 else 0)\n",
    "# setting 1 if item was brought 3 time consecutively in the last 3 orders"
   ]
  },
  {
   "cell_type": "code",
   "execution_count": 34,
   "metadata": {},
   "outputs": [],
   "source": [
    "temp_df = temp_df.rename(columns={'product_id': 'buy_cnt'})"
   ]
  },
  {
   "cell_type": "code",
   "execution_count": 35,
   "metadata": {},
   "outputs": [
    {
     "data": {
      "text/html": [
       "<div>\n",
       "<style scoped>\n",
       "    .dataframe tbody tr th:only-of-type {\n",
       "        vertical-align: middle;\n",
       "    }\n",
       "\n",
       "    .dataframe tbody tr th {\n",
       "        vertical-align: top;\n",
       "    }\n",
       "\n",
       "    .dataframe thead th {\n",
       "        text-align: right;\n",
       "    }\n",
       "</style>\n",
       "<table border=\"1\" class=\"dataframe\">\n",
       "  <thead>\n",
       "    <tr style=\"text-align: right;\">\n",
       "      <th></th>\n",
       "      <th></th>\n",
       "      <th>order_number</th>\n",
       "      <th>last_purchase</th>\n",
       "      <th>reordered</th>\n",
       "      <th>product_appear</th>\n",
       "      <th>buy_cnt</th>\n",
       "    </tr>\n",
       "    <tr>\n",
       "      <th>user_id</th>\n",
       "      <th>product_id</th>\n",
       "      <th></th>\n",
       "      <th></th>\n",
       "      <th></th>\n",
       "      <th></th>\n",
       "      <th></th>\n",
       "    </tr>\n",
       "  </thead>\n",
       "  <tbody>\n",
       "    <tr>\n",
       "      <th rowspan=\"5\" valign=\"top\">1</th>\n",
       "      <th>196</th>\n",
       "      <td>10</td>\n",
       "      <td>1.0</td>\n",
       "      <td>9</td>\n",
       "      <td>1.0</td>\n",
       "      <td>3.0</td>\n",
       "    </tr>\n",
       "    <tr>\n",
       "      <th>10258</th>\n",
       "      <td>10</td>\n",
       "      <td>1.0</td>\n",
       "      <td>8</td>\n",
       "      <td>0.9</td>\n",
       "      <td>3.0</td>\n",
       "    </tr>\n",
       "    <tr>\n",
       "      <th>10326</th>\n",
       "      <td>5</td>\n",
       "      <td>0.0</td>\n",
       "      <td>0</td>\n",
       "      <td>0.2</td>\n",
       "      <td>NaN</td>\n",
       "    </tr>\n",
       "    <tr>\n",
       "      <th>12427</th>\n",
       "      <td>10</td>\n",
       "      <td>1.0</td>\n",
       "      <td>9</td>\n",
       "      <td>1.0</td>\n",
       "      <td>3.0</td>\n",
       "    </tr>\n",
       "    <tr>\n",
       "      <th>13032</th>\n",
       "      <td>10</td>\n",
       "      <td>1.0</td>\n",
       "      <td>2</td>\n",
       "      <td>0.3</td>\n",
       "      <td>1.0</td>\n",
       "    </tr>\n",
       "  </tbody>\n",
       "</table>\n",
       "</div>"
      ],
      "text/plain": [
       "                    order_number  last_purchase  reordered  product_appear  \\\n",
       "user_id product_id                                                           \n",
       "1       196                   10            1.0          9             1.0   \n",
       "        10258                 10            1.0          8             0.9   \n",
       "        10326                  5            0.0          0             0.2   \n",
       "        12427                 10            1.0          9             1.0   \n",
       "        13032                 10            1.0          2             0.3   \n",
       "\n",
       "                    buy_cnt  \n",
       "user_id product_id           \n",
       "1       196             3.0  \n",
       "        10258           3.0  \n",
       "        10326           NaN  \n",
       "        12427           3.0  \n",
       "        13032           1.0  "
      ]
     },
     "execution_count": 35,
     "metadata": {},
     "output_type": "execute_result"
    }
   ],
   "source": [
    "temp_df.head()"
   ]
  },
  {
   "cell_type": "code",
   "execution_count": 36,
   "metadata": {},
   "outputs": [],
   "source": [
    "temp_df.reset_index(inplace=True)"
   ]
  },
  {
   "cell_type": "code",
   "execution_count": 37,
   "metadata": {},
   "outputs": [],
   "source": [
    "# getting user id within the train dataset section\n",
    "train_id = train_order.user_id.unique().tolist()"
   ]
  },
  {
   "cell_type": "code",
   "execution_count": 42,
   "metadata": {},
   "outputs": [],
   "source": [
    "# filter out the training set user id from the temp dataframe\n",
    "temp_train_df = temp_df.loc[temp_df['user_id'].isin(train_id)]"
   ]
  },
  {
   "cell_type": "code",
   "execution_count": 43,
   "metadata": {},
   "outputs": [
    {
     "data": {
      "text/html": [
       "<div>\n",
       "<style scoped>\n",
       "    .dataframe tbody tr th:only-of-type {\n",
       "        vertical-align: middle;\n",
       "    }\n",
       "\n",
       "    .dataframe tbody tr th {\n",
       "        vertical-align: top;\n",
       "    }\n",
       "\n",
       "    .dataframe thead th {\n",
       "        text-align: right;\n",
       "    }\n",
       "</style>\n",
       "<table border=\"1\" class=\"dataframe\">\n",
       "  <thead>\n",
       "    <tr style=\"text-align: right;\">\n",
       "      <th></th>\n",
       "      <th>user_id</th>\n",
       "      <th>product_id</th>\n",
       "      <th>order_number</th>\n",
       "      <th>last_purchase</th>\n",
       "      <th>reordered</th>\n",
       "      <th>product_appear</th>\n",
       "      <th>buy_cnt</th>\n",
       "    </tr>\n",
       "  </thead>\n",
       "  <tbody>\n",
       "    <tr>\n",
       "      <th>0</th>\n",
       "      <td>1</td>\n",
       "      <td>196</td>\n",
       "      <td>10</td>\n",
       "      <td>1.0</td>\n",
       "      <td>9</td>\n",
       "      <td>1.0</td>\n",
       "      <td>3.0</td>\n",
       "    </tr>\n",
       "    <tr>\n",
       "      <th>1</th>\n",
       "      <td>1</td>\n",
       "      <td>10258</td>\n",
       "      <td>10</td>\n",
       "      <td>1.0</td>\n",
       "      <td>8</td>\n",
       "      <td>0.9</td>\n",
       "      <td>3.0</td>\n",
       "    </tr>\n",
       "    <tr>\n",
       "      <th>2</th>\n",
       "      <td>1</td>\n",
       "      <td>10326</td>\n",
       "      <td>5</td>\n",
       "      <td>0.0</td>\n",
       "      <td>0</td>\n",
       "      <td>0.2</td>\n",
       "      <td>NaN</td>\n",
       "    </tr>\n",
       "    <tr>\n",
       "      <th>3</th>\n",
       "      <td>1</td>\n",
       "      <td>12427</td>\n",
       "      <td>10</td>\n",
       "      <td>1.0</td>\n",
       "      <td>9</td>\n",
       "      <td>1.0</td>\n",
       "      <td>3.0</td>\n",
       "    </tr>\n",
       "    <tr>\n",
       "      <th>4</th>\n",
       "      <td>1</td>\n",
       "      <td>13032</td>\n",
       "      <td>10</td>\n",
       "      <td>1.0</td>\n",
       "      <td>2</td>\n",
       "      <td>0.3</td>\n",
       "      <td>1.0</td>\n",
       "    </tr>\n",
       "  </tbody>\n",
       "</table>\n",
       "</div>"
      ],
      "text/plain": [
       "   user_id  product_id  order_number  last_purchase  reordered  \\\n",
       "0        1         196            10            1.0          9   \n",
       "1        1       10258            10            1.0          8   \n",
       "2        1       10326             5            0.0          0   \n",
       "3        1       12427            10            1.0          9   \n",
       "4        1       13032            10            1.0          2   \n",
       "\n",
       "   product_appear  buy_cnt  \n",
       "0             1.0      3.0  \n",
       "1             0.9      3.0  \n",
       "2             0.2      NaN  \n",
       "3             1.0      3.0  \n",
       "4             0.3      1.0  "
      ]
     },
     "execution_count": 43,
     "metadata": {},
     "output_type": "execute_result"
    }
   ],
   "source": [
    "temp_train_df.head()"
   ]
  },
  {
   "cell_type": "markdown",
   "metadata": {},
   "source": [
    "Generating target features from the train data"
   ]
  },
  {
   "cell_type": "code",
   "execution_count": 40,
   "metadata": {},
   "outputs": [],
   "source": [
    "train_target = pd.merge(train_order[['order_id', 'user_id']], orders_tr,\n",
    "                        on=['order_id'], how='left')\n",
    "train_train = train_target.drop(['order_id', 'add_to_cart_order'], axis=1)\n",
    "train_target = train_target.rename(columns={'reordered': 'target'})\n",
    "# set to 1 as these are the products brought in the next purchase\n",
    "train_target['target'] = 1"
   ]
  },
  {
   "cell_type": "markdown",
   "metadata": {},
   "source": [
    "Add target feature to the training dataframe, and drop order_number column"
   ]
  },
  {
   "cell_type": "code",
   "execution_count": 55,
   "metadata": {},
   "outputs": [],
   "source": [
    "train_df = pd.merge(temp_train_df, train_target, on=['user_id', 'product_id'],\n",
    "                    how='outer').fillna(0)\n",
    "train_df = train_df.set_index(['user_id', 'product_id'])\n",
    "# order columts that won't be needed for final features\n",
    "train_df.drop(['order_number', 'order_id', 'add_to_cart_order'],\n",
    "              axis=1, inplace=True)"
   ]
  },
  {
   "cell_type": "markdown",
   "metadata": {},
   "source": [
    "Set target to integer to ensure model recognize that as binary variable"
   ]
  },
  {
   "cell_type": "code",
   "execution_count": 56,
   "metadata": {},
   "outputs": [],
   "source": [
    "train_df = train_df.astype({'target': 'int'})"
   ]
  },
  {
   "cell_type": "code",
   "execution_count": 57,
   "metadata": {},
   "outputs": [
    {
     "data": {
      "text/html": [
       "<div>\n",
       "<style scoped>\n",
       "    .dataframe tbody tr th:only-of-type {\n",
       "        vertical-align: middle;\n",
       "    }\n",
       "\n",
       "    .dataframe tbody tr th {\n",
       "        vertical-align: top;\n",
       "    }\n",
       "\n",
       "    .dataframe thead th {\n",
       "        text-align: right;\n",
       "    }\n",
       "</style>\n",
       "<table border=\"1\" class=\"dataframe\">\n",
       "  <thead>\n",
       "    <tr style=\"text-align: right;\">\n",
       "      <th></th>\n",
       "      <th></th>\n",
       "      <th>last_purchase</th>\n",
       "      <th>reordered</th>\n",
       "      <th>product_appear</th>\n",
       "      <th>buy_cnt</th>\n",
       "      <th>target</th>\n",
       "    </tr>\n",
       "    <tr>\n",
       "      <th>user_id</th>\n",
       "      <th>product_id</th>\n",
       "      <th></th>\n",
       "      <th></th>\n",
       "      <th></th>\n",
       "      <th></th>\n",
       "      <th></th>\n",
       "    </tr>\n",
       "  </thead>\n",
       "  <tbody>\n",
       "    <tr>\n",
       "      <th rowspan=\"5\" valign=\"top\">1</th>\n",
       "      <th>196</th>\n",
       "      <td>1.0</td>\n",
       "      <td>9.0</td>\n",
       "      <td>1.0</td>\n",
       "      <td>3.0</td>\n",
       "      <td>1</td>\n",
       "    </tr>\n",
       "    <tr>\n",
       "      <th>10258</th>\n",
       "      <td>1.0</td>\n",
       "      <td>8.0</td>\n",
       "      <td>0.9</td>\n",
       "      <td>3.0</td>\n",
       "      <td>1</td>\n",
       "    </tr>\n",
       "    <tr>\n",
       "      <th>10326</th>\n",
       "      <td>0.0</td>\n",
       "      <td>0.0</td>\n",
       "      <td>0.2</td>\n",
       "      <td>0.0</td>\n",
       "      <td>0</td>\n",
       "    </tr>\n",
       "    <tr>\n",
       "      <th>12427</th>\n",
       "      <td>1.0</td>\n",
       "      <td>9.0</td>\n",
       "      <td>1.0</td>\n",
       "      <td>3.0</td>\n",
       "      <td>0</td>\n",
       "    </tr>\n",
       "    <tr>\n",
       "      <th>13032</th>\n",
       "      <td>1.0</td>\n",
       "      <td>2.0</td>\n",
       "      <td>0.3</td>\n",
       "      <td>1.0</td>\n",
       "      <td>1</td>\n",
       "    </tr>\n",
       "  </tbody>\n",
       "</table>\n",
       "</div>"
      ],
      "text/plain": [
       "                    last_purchase  reordered  product_appear  buy_cnt  target\n",
       "user_id product_id                                                           \n",
       "1       196                   1.0        9.0             1.0      3.0       1\n",
       "        10258                 1.0        8.0             0.9      3.0       1\n",
       "        10326                 0.0        0.0             0.2      0.0       0\n",
       "        12427                 1.0        9.0             1.0      3.0       0\n",
       "        13032                 1.0        2.0             0.3      1.0       1"
      ]
     },
     "execution_count": 57,
     "metadata": {},
     "output_type": "execute_result"
    }
   ],
   "source": [
    "train_df.head()"
   ]
  },
  {
   "cell_type": "markdown",
   "metadata": {},
   "source": [
    "##### Create separate formatted test dataset for ease of access later."
   ]
  },
  {
   "cell_type": "code",
   "execution_count": 58,
   "metadata": {},
   "outputs": [],
   "source": [
    "test_id = test_order.user_id.unique().tolist()\n",
    "df_for_submit = temp_df.loc[temp_df['user_id'].isin(test_id)].set_index(\n",
    "    ['user_id', 'product_id'])"
   ]
  },
  {
   "cell_type": "code",
   "execution_count": 59,
   "metadata": {},
   "outputs": [],
   "source": [
    "df_for_submit.to_csv('./data/df_submit.csv')"
   ]
  },
  {
   "cell_type": "markdown",
   "metadata": {},
   "source": [
    "### Modeling\n",
    "\n",
    "##### Setup"
   ]
  },
  {
   "cell_type": "code",
   "execution_count": 60,
   "metadata": {},
   "outputs": [
    {
     "name": "stdout",
     "output_type": "stream",
     "text": [
      " \n",
      "Setup Succesfully Completed!\n"
     ]
    },
    {
     "data": {
      "text/html": [
       "<style  type=\"text/css\" >\n",
       "</style><table id=\"T_59385106_9ebe_11ea_874d_3cf0112ace06\" ><thead>    <tr>        <th class=\"blank level0\" ></th>        <th class=\"col_heading level0 col0\" >Description</th>        <th class=\"col_heading level0 col1\" >Value</th>    </tr></thead><tbody>\n",
       "                <tr>\n",
       "                        <th id=\"T_59385106_9ebe_11ea_874d_3cf0112ace06level0_row0\" class=\"row_heading level0 row0\" >0</th>\n",
       "                        <td id=\"T_59385106_9ebe_11ea_874d_3cf0112ace06row0_col0\" class=\"data row0 col0\" >session_id</td>\n",
       "                        <td id=\"T_59385106_9ebe_11ea_874d_3cf0112ace06row0_col1\" class=\"data row0 col1\" >2408</td>\n",
       "            </tr>\n",
       "            <tr>\n",
       "                        <th id=\"T_59385106_9ebe_11ea_874d_3cf0112ace06level0_row1\" class=\"row_heading level0 row1\" >1</th>\n",
       "                        <td id=\"T_59385106_9ebe_11ea_874d_3cf0112ace06row1_col0\" class=\"data row1 col0\" >Target Type</td>\n",
       "                        <td id=\"T_59385106_9ebe_11ea_874d_3cf0112ace06row1_col1\" class=\"data row1 col1\" >Binary</td>\n",
       "            </tr>\n",
       "            <tr>\n",
       "                        <th id=\"T_59385106_9ebe_11ea_874d_3cf0112ace06level0_row2\" class=\"row_heading level0 row2\" >2</th>\n",
       "                        <td id=\"T_59385106_9ebe_11ea_874d_3cf0112ace06row2_col0\" class=\"data row2 col0\" >Label Encoded</td>\n",
       "                        <td id=\"T_59385106_9ebe_11ea_874d_3cf0112ace06row2_col1\" class=\"data row2 col1\" >None</td>\n",
       "            </tr>\n",
       "            <tr>\n",
       "                        <th id=\"T_59385106_9ebe_11ea_874d_3cf0112ace06level0_row3\" class=\"row_heading level0 row3\" >3</th>\n",
       "                        <td id=\"T_59385106_9ebe_11ea_874d_3cf0112ace06row3_col0\" class=\"data row3 col0\" >Original Data</td>\n",
       "                        <td id=\"T_59385106_9ebe_11ea_874d_3cf0112ace06row3_col1\" class=\"data row3 col1\" >(9030454, 5)</td>\n",
       "            </tr>\n",
       "            <tr>\n",
       "                        <th id=\"T_59385106_9ebe_11ea_874d_3cf0112ace06level0_row4\" class=\"row_heading level0 row4\" >4</th>\n",
       "                        <td id=\"T_59385106_9ebe_11ea_874d_3cf0112ace06row4_col0\" class=\"data row4 col0\" >Missing Values </td>\n",
       "                        <td id=\"T_59385106_9ebe_11ea_874d_3cf0112ace06row4_col1\" class=\"data row4 col1\" >False</td>\n",
       "            </tr>\n",
       "            <tr>\n",
       "                        <th id=\"T_59385106_9ebe_11ea_874d_3cf0112ace06level0_row5\" class=\"row_heading level0 row5\" >5</th>\n",
       "                        <td id=\"T_59385106_9ebe_11ea_874d_3cf0112ace06row5_col0\" class=\"data row5 col0\" >Numeric Features </td>\n",
       "                        <td id=\"T_59385106_9ebe_11ea_874d_3cf0112ace06row5_col1\" class=\"data row5 col1\" >3</td>\n",
       "            </tr>\n",
       "            <tr>\n",
       "                        <th id=\"T_59385106_9ebe_11ea_874d_3cf0112ace06level0_row6\" class=\"row_heading level0 row6\" >6</th>\n",
       "                        <td id=\"T_59385106_9ebe_11ea_874d_3cf0112ace06row6_col0\" class=\"data row6 col0\" >Categorical Features </td>\n",
       "                        <td id=\"T_59385106_9ebe_11ea_874d_3cf0112ace06row6_col1\" class=\"data row6 col1\" >1</td>\n",
       "            </tr>\n",
       "            <tr>\n",
       "                        <th id=\"T_59385106_9ebe_11ea_874d_3cf0112ace06level0_row7\" class=\"row_heading level0 row7\" >7</th>\n",
       "                        <td id=\"T_59385106_9ebe_11ea_874d_3cf0112ace06row7_col0\" class=\"data row7 col0\" >Ordinal Features </td>\n",
       "                        <td id=\"T_59385106_9ebe_11ea_874d_3cf0112ace06row7_col1\" class=\"data row7 col1\" >False</td>\n",
       "            </tr>\n",
       "            <tr>\n",
       "                        <th id=\"T_59385106_9ebe_11ea_874d_3cf0112ace06level0_row8\" class=\"row_heading level0 row8\" >8</th>\n",
       "                        <td id=\"T_59385106_9ebe_11ea_874d_3cf0112ace06row8_col0\" class=\"data row8 col0\" >High Cardinality Features </td>\n",
       "                        <td id=\"T_59385106_9ebe_11ea_874d_3cf0112ace06row8_col1\" class=\"data row8 col1\" >False</td>\n",
       "            </tr>\n",
       "            <tr>\n",
       "                        <th id=\"T_59385106_9ebe_11ea_874d_3cf0112ace06level0_row9\" class=\"row_heading level0 row9\" >9</th>\n",
       "                        <td id=\"T_59385106_9ebe_11ea_874d_3cf0112ace06row9_col0\" class=\"data row9 col0\" >High Cardinality Method </td>\n",
       "                        <td id=\"T_59385106_9ebe_11ea_874d_3cf0112ace06row9_col1\" class=\"data row9 col1\" >None</td>\n",
       "            </tr>\n",
       "            <tr>\n",
       "                        <th id=\"T_59385106_9ebe_11ea_874d_3cf0112ace06level0_row10\" class=\"row_heading level0 row10\" >10</th>\n",
       "                        <td id=\"T_59385106_9ebe_11ea_874d_3cf0112ace06row10_col0\" class=\"data row10 col0\" >Sampled Data</td>\n",
       "                        <td id=\"T_59385106_9ebe_11ea_874d_3cf0112ace06row10_col1\" class=\"data row10 col1\" >(9030454, 5)</td>\n",
       "            </tr>\n",
       "            <tr>\n",
       "                        <th id=\"T_59385106_9ebe_11ea_874d_3cf0112ace06level0_row11\" class=\"row_heading level0 row11\" >11</th>\n",
       "                        <td id=\"T_59385106_9ebe_11ea_874d_3cf0112ace06row11_col0\" class=\"data row11 col0\" >Transformed Train Set</td>\n",
       "                        <td id=\"T_59385106_9ebe_11ea_874d_3cf0112ace06row11_col1\" class=\"data row11 col1\" >(7224363, 4)</td>\n",
       "            </tr>\n",
       "            <tr>\n",
       "                        <th id=\"T_59385106_9ebe_11ea_874d_3cf0112ace06level0_row12\" class=\"row_heading level0 row12\" >12</th>\n",
       "                        <td id=\"T_59385106_9ebe_11ea_874d_3cf0112ace06row12_col0\" class=\"data row12 col0\" >Transformed Test Set</td>\n",
       "                        <td id=\"T_59385106_9ebe_11ea_874d_3cf0112ace06row12_col1\" class=\"data row12 col1\" >(1806091, 4)</td>\n",
       "            </tr>\n",
       "            <tr>\n",
       "                        <th id=\"T_59385106_9ebe_11ea_874d_3cf0112ace06level0_row13\" class=\"row_heading level0 row13\" >13</th>\n",
       "                        <td id=\"T_59385106_9ebe_11ea_874d_3cf0112ace06row13_col0\" class=\"data row13 col0\" >Numeric Imputer </td>\n",
       "                        <td id=\"T_59385106_9ebe_11ea_874d_3cf0112ace06row13_col1\" class=\"data row13 col1\" >mean</td>\n",
       "            </tr>\n",
       "            <tr>\n",
       "                        <th id=\"T_59385106_9ebe_11ea_874d_3cf0112ace06level0_row14\" class=\"row_heading level0 row14\" >14</th>\n",
       "                        <td id=\"T_59385106_9ebe_11ea_874d_3cf0112ace06row14_col0\" class=\"data row14 col0\" >Categorical Imputer </td>\n",
       "                        <td id=\"T_59385106_9ebe_11ea_874d_3cf0112ace06row14_col1\" class=\"data row14 col1\" >constant</td>\n",
       "            </tr>\n",
       "            <tr>\n",
       "                        <th id=\"T_59385106_9ebe_11ea_874d_3cf0112ace06level0_row15\" class=\"row_heading level0 row15\" >15</th>\n",
       "                        <td id=\"T_59385106_9ebe_11ea_874d_3cf0112ace06row15_col0\" class=\"data row15 col0\" >Normalize </td>\n",
       "                        <td id=\"T_59385106_9ebe_11ea_874d_3cf0112ace06row15_col1\" class=\"data row15 col1\" >False</td>\n",
       "            </tr>\n",
       "            <tr>\n",
       "                        <th id=\"T_59385106_9ebe_11ea_874d_3cf0112ace06level0_row16\" class=\"row_heading level0 row16\" >16</th>\n",
       "                        <td id=\"T_59385106_9ebe_11ea_874d_3cf0112ace06row16_col0\" class=\"data row16 col0\" >Normalize Method </td>\n",
       "                        <td id=\"T_59385106_9ebe_11ea_874d_3cf0112ace06row16_col1\" class=\"data row16 col1\" >None</td>\n",
       "            </tr>\n",
       "            <tr>\n",
       "                        <th id=\"T_59385106_9ebe_11ea_874d_3cf0112ace06level0_row17\" class=\"row_heading level0 row17\" >17</th>\n",
       "                        <td id=\"T_59385106_9ebe_11ea_874d_3cf0112ace06row17_col0\" class=\"data row17 col0\" >Transformation </td>\n",
       "                        <td id=\"T_59385106_9ebe_11ea_874d_3cf0112ace06row17_col1\" class=\"data row17 col1\" >False</td>\n",
       "            </tr>\n",
       "            <tr>\n",
       "                        <th id=\"T_59385106_9ebe_11ea_874d_3cf0112ace06level0_row18\" class=\"row_heading level0 row18\" >18</th>\n",
       "                        <td id=\"T_59385106_9ebe_11ea_874d_3cf0112ace06row18_col0\" class=\"data row18 col0\" >Transformation Method </td>\n",
       "                        <td id=\"T_59385106_9ebe_11ea_874d_3cf0112ace06row18_col1\" class=\"data row18 col1\" >None</td>\n",
       "            </tr>\n",
       "            <tr>\n",
       "                        <th id=\"T_59385106_9ebe_11ea_874d_3cf0112ace06level0_row19\" class=\"row_heading level0 row19\" >19</th>\n",
       "                        <td id=\"T_59385106_9ebe_11ea_874d_3cf0112ace06row19_col0\" class=\"data row19 col0\" >PCA </td>\n",
       "                        <td id=\"T_59385106_9ebe_11ea_874d_3cf0112ace06row19_col1\" class=\"data row19 col1\" >False</td>\n",
       "            </tr>\n",
       "            <tr>\n",
       "                        <th id=\"T_59385106_9ebe_11ea_874d_3cf0112ace06level0_row20\" class=\"row_heading level0 row20\" >20</th>\n",
       "                        <td id=\"T_59385106_9ebe_11ea_874d_3cf0112ace06row20_col0\" class=\"data row20 col0\" >PCA Method </td>\n",
       "                        <td id=\"T_59385106_9ebe_11ea_874d_3cf0112ace06row20_col1\" class=\"data row20 col1\" >None</td>\n",
       "            </tr>\n",
       "            <tr>\n",
       "                        <th id=\"T_59385106_9ebe_11ea_874d_3cf0112ace06level0_row21\" class=\"row_heading level0 row21\" >21</th>\n",
       "                        <td id=\"T_59385106_9ebe_11ea_874d_3cf0112ace06row21_col0\" class=\"data row21 col0\" >PCA Components </td>\n",
       "                        <td id=\"T_59385106_9ebe_11ea_874d_3cf0112ace06row21_col1\" class=\"data row21 col1\" >None</td>\n",
       "            </tr>\n",
       "            <tr>\n",
       "                        <th id=\"T_59385106_9ebe_11ea_874d_3cf0112ace06level0_row22\" class=\"row_heading level0 row22\" >22</th>\n",
       "                        <td id=\"T_59385106_9ebe_11ea_874d_3cf0112ace06row22_col0\" class=\"data row22 col0\" >Ignore Low Variance </td>\n",
       "                        <td id=\"T_59385106_9ebe_11ea_874d_3cf0112ace06row22_col1\" class=\"data row22 col1\" >False</td>\n",
       "            </tr>\n",
       "            <tr>\n",
       "                        <th id=\"T_59385106_9ebe_11ea_874d_3cf0112ace06level0_row23\" class=\"row_heading level0 row23\" >23</th>\n",
       "                        <td id=\"T_59385106_9ebe_11ea_874d_3cf0112ace06row23_col0\" class=\"data row23 col0\" >Combine Rare Levels </td>\n",
       "                        <td id=\"T_59385106_9ebe_11ea_874d_3cf0112ace06row23_col1\" class=\"data row23 col1\" >False</td>\n",
       "            </tr>\n",
       "            <tr>\n",
       "                        <th id=\"T_59385106_9ebe_11ea_874d_3cf0112ace06level0_row24\" class=\"row_heading level0 row24\" >24</th>\n",
       "                        <td id=\"T_59385106_9ebe_11ea_874d_3cf0112ace06row24_col0\" class=\"data row24 col0\" >Rare Level Threshold </td>\n",
       "                        <td id=\"T_59385106_9ebe_11ea_874d_3cf0112ace06row24_col1\" class=\"data row24 col1\" >None</td>\n",
       "            </tr>\n",
       "            <tr>\n",
       "                        <th id=\"T_59385106_9ebe_11ea_874d_3cf0112ace06level0_row25\" class=\"row_heading level0 row25\" >25</th>\n",
       "                        <td id=\"T_59385106_9ebe_11ea_874d_3cf0112ace06row25_col0\" class=\"data row25 col0\" >Numeric Binning </td>\n",
       "                        <td id=\"T_59385106_9ebe_11ea_874d_3cf0112ace06row25_col1\" class=\"data row25 col1\" >False</td>\n",
       "            </tr>\n",
       "            <tr>\n",
       "                        <th id=\"T_59385106_9ebe_11ea_874d_3cf0112ace06level0_row26\" class=\"row_heading level0 row26\" >26</th>\n",
       "                        <td id=\"T_59385106_9ebe_11ea_874d_3cf0112ace06row26_col0\" class=\"data row26 col0\" >Remove Outliers </td>\n",
       "                        <td id=\"T_59385106_9ebe_11ea_874d_3cf0112ace06row26_col1\" class=\"data row26 col1\" >False</td>\n",
       "            </tr>\n",
       "            <tr>\n",
       "                        <th id=\"T_59385106_9ebe_11ea_874d_3cf0112ace06level0_row27\" class=\"row_heading level0 row27\" >27</th>\n",
       "                        <td id=\"T_59385106_9ebe_11ea_874d_3cf0112ace06row27_col0\" class=\"data row27 col0\" >Outliers Threshold </td>\n",
       "                        <td id=\"T_59385106_9ebe_11ea_874d_3cf0112ace06row27_col1\" class=\"data row27 col1\" >None</td>\n",
       "            </tr>\n",
       "            <tr>\n",
       "                        <th id=\"T_59385106_9ebe_11ea_874d_3cf0112ace06level0_row28\" class=\"row_heading level0 row28\" >28</th>\n",
       "                        <td id=\"T_59385106_9ebe_11ea_874d_3cf0112ace06row28_col0\" class=\"data row28 col0\" >Remove Multicollinearity </td>\n",
       "                        <td id=\"T_59385106_9ebe_11ea_874d_3cf0112ace06row28_col1\" class=\"data row28 col1\" >False</td>\n",
       "            </tr>\n",
       "            <tr>\n",
       "                        <th id=\"T_59385106_9ebe_11ea_874d_3cf0112ace06level0_row29\" class=\"row_heading level0 row29\" >29</th>\n",
       "                        <td id=\"T_59385106_9ebe_11ea_874d_3cf0112ace06row29_col0\" class=\"data row29 col0\" >Multicollinearity Threshold </td>\n",
       "                        <td id=\"T_59385106_9ebe_11ea_874d_3cf0112ace06row29_col1\" class=\"data row29 col1\" >None</td>\n",
       "            </tr>\n",
       "            <tr>\n",
       "                        <th id=\"T_59385106_9ebe_11ea_874d_3cf0112ace06level0_row30\" class=\"row_heading level0 row30\" >30</th>\n",
       "                        <td id=\"T_59385106_9ebe_11ea_874d_3cf0112ace06row30_col0\" class=\"data row30 col0\" >Clustering </td>\n",
       "                        <td id=\"T_59385106_9ebe_11ea_874d_3cf0112ace06row30_col1\" class=\"data row30 col1\" >False</td>\n",
       "            </tr>\n",
       "            <tr>\n",
       "                        <th id=\"T_59385106_9ebe_11ea_874d_3cf0112ace06level0_row31\" class=\"row_heading level0 row31\" >31</th>\n",
       "                        <td id=\"T_59385106_9ebe_11ea_874d_3cf0112ace06row31_col0\" class=\"data row31 col0\" >Clustering Iteration </td>\n",
       "                        <td id=\"T_59385106_9ebe_11ea_874d_3cf0112ace06row31_col1\" class=\"data row31 col1\" >None</td>\n",
       "            </tr>\n",
       "            <tr>\n",
       "                        <th id=\"T_59385106_9ebe_11ea_874d_3cf0112ace06level0_row32\" class=\"row_heading level0 row32\" >32</th>\n",
       "                        <td id=\"T_59385106_9ebe_11ea_874d_3cf0112ace06row32_col0\" class=\"data row32 col0\" >Polynomial Features </td>\n",
       "                        <td id=\"T_59385106_9ebe_11ea_874d_3cf0112ace06row32_col1\" class=\"data row32 col1\" >False</td>\n",
       "            </tr>\n",
       "            <tr>\n",
       "                        <th id=\"T_59385106_9ebe_11ea_874d_3cf0112ace06level0_row33\" class=\"row_heading level0 row33\" >33</th>\n",
       "                        <td id=\"T_59385106_9ebe_11ea_874d_3cf0112ace06row33_col0\" class=\"data row33 col0\" >Polynomial Degree </td>\n",
       "                        <td id=\"T_59385106_9ebe_11ea_874d_3cf0112ace06row33_col1\" class=\"data row33 col1\" >None</td>\n",
       "            </tr>\n",
       "            <tr>\n",
       "                        <th id=\"T_59385106_9ebe_11ea_874d_3cf0112ace06level0_row34\" class=\"row_heading level0 row34\" >34</th>\n",
       "                        <td id=\"T_59385106_9ebe_11ea_874d_3cf0112ace06row34_col0\" class=\"data row34 col0\" >Trignometry Features </td>\n",
       "                        <td id=\"T_59385106_9ebe_11ea_874d_3cf0112ace06row34_col1\" class=\"data row34 col1\" >False</td>\n",
       "            </tr>\n",
       "            <tr>\n",
       "                        <th id=\"T_59385106_9ebe_11ea_874d_3cf0112ace06level0_row35\" class=\"row_heading level0 row35\" >35</th>\n",
       "                        <td id=\"T_59385106_9ebe_11ea_874d_3cf0112ace06row35_col0\" class=\"data row35 col0\" >Polynomial Threshold </td>\n",
       "                        <td id=\"T_59385106_9ebe_11ea_874d_3cf0112ace06row35_col1\" class=\"data row35 col1\" >None</td>\n",
       "            </tr>\n",
       "            <tr>\n",
       "                        <th id=\"T_59385106_9ebe_11ea_874d_3cf0112ace06level0_row36\" class=\"row_heading level0 row36\" >36</th>\n",
       "                        <td id=\"T_59385106_9ebe_11ea_874d_3cf0112ace06row36_col0\" class=\"data row36 col0\" >Group Features </td>\n",
       "                        <td id=\"T_59385106_9ebe_11ea_874d_3cf0112ace06row36_col1\" class=\"data row36 col1\" >False</td>\n",
       "            </tr>\n",
       "            <tr>\n",
       "                        <th id=\"T_59385106_9ebe_11ea_874d_3cf0112ace06level0_row37\" class=\"row_heading level0 row37\" >37</th>\n",
       "                        <td id=\"T_59385106_9ebe_11ea_874d_3cf0112ace06row37_col0\" class=\"data row37 col0\" >Feature Selection </td>\n",
       "                        <td id=\"T_59385106_9ebe_11ea_874d_3cf0112ace06row37_col1\" class=\"data row37 col1\" >False</td>\n",
       "            </tr>\n",
       "            <tr>\n",
       "                        <th id=\"T_59385106_9ebe_11ea_874d_3cf0112ace06level0_row38\" class=\"row_heading level0 row38\" >38</th>\n",
       "                        <td id=\"T_59385106_9ebe_11ea_874d_3cf0112ace06row38_col0\" class=\"data row38 col0\" >Features Selection Threshold </td>\n",
       "                        <td id=\"T_59385106_9ebe_11ea_874d_3cf0112ace06row38_col1\" class=\"data row38 col1\" >None</td>\n",
       "            </tr>\n",
       "            <tr>\n",
       "                        <th id=\"T_59385106_9ebe_11ea_874d_3cf0112ace06level0_row39\" class=\"row_heading level0 row39\" >39</th>\n",
       "                        <td id=\"T_59385106_9ebe_11ea_874d_3cf0112ace06row39_col0\" class=\"data row39 col0\" >Feature Interaction </td>\n",
       "                        <td id=\"T_59385106_9ebe_11ea_874d_3cf0112ace06row39_col1\" class=\"data row39 col1\" >False</td>\n",
       "            </tr>\n",
       "            <tr>\n",
       "                        <th id=\"T_59385106_9ebe_11ea_874d_3cf0112ace06level0_row40\" class=\"row_heading level0 row40\" >40</th>\n",
       "                        <td id=\"T_59385106_9ebe_11ea_874d_3cf0112ace06row40_col0\" class=\"data row40 col0\" >Feature Ratio </td>\n",
       "                        <td id=\"T_59385106_9ebe_11ea_874d_3cf0112ace06row40_col1\" class=\"data row40 col1\" >False</td>\n",
       "            </tr>\n",
       "            <tr>\n",
       "                        <th id=\"T_59385106_9ebe_11ea_874d_3cf0112ace06level0_row41\" class=\"row_heading level0 row41\" >41</th>\n",
       "                        <td id=\"T_59385106_9ebe_11ea_874d_3cf0112ace06row41_col0\" class=\"data row41 col0\" >Interaction Threshold </td>\n",
       "                        <td id=\"T_59385106_9ebe_11ea_874d_3cf0112ace06row41_col1\" class=\"data row41 col1\" >None</td>\n",
       "            </tr>\n",
       "    </tbody></table>"
      ],
      "text/plain": [
       "<pandas.io.formats.style.Styler at 0x1ed9b06cd68>"
      ]
     },
     "metadata": {},
     "output_type": "display_data"
    }
   ],
   "source": [
    "gc.collect()\n",
    "exp = setup(train_df, target='target', categorical_features=['last_purchase'],\n",
    "            train_size=.8)"
   ]
  },
  {
   "cell_type": "markdown",
   "metadata": {},
   "source": [
    "##### Comparing model to see if any models standout from the F1 score perspective"
   ]
  },
  {
   "cell_type": "code",
   "execution_count": 61,
   "metadata": {},
   "outputs": [
    {
     "data": {
      "text/html": [
       "<style  type=\"text/css\" >\n",
       "    #T_43f5fde4_9ec4_11ea_9c11_3cf0112ace06 th {\n",
       "          text-align: left;\n",
       "    }    #T_43f5fde4_9ec4_11ea_9c11_3cf0112ace06row0_col0 {\n",
       "            text-align:  left;\n",
       "        }    #T_43f5fde4_9ec4_11ea_9c11_3cf0112ace06row0_col1 {\n",
       "            background-color:  yellow;\n",
       "            text-align:  left;\n",
       "        }    #T_43f5fde4_9ec4_11ea_9c11_3cf0112ace06row0_col2 {\n",
       "            background-color:  yellow;\n",
       "            text-align:  left;\n",
       "        }    #T_43f5fde4_9ec4_11ea_9c11_3cf0112ace06row0_col3 {\n",
       "            : ;\n",
       "            text-align:  left;\n",
       "        }    #T_43f5fde4_9ec4_11ea_9c11_3cf0112ace06row0_col4 {\n",
       "            : ;\n",
       "            text-align:  left;\n",
       "        }    #T_43f5fde4_9ec4_11ea_9c11_3cf0112ace06row0_col5 {\n",
       "            background-color:  yellow;\n",
       "            text-align:  left;\n",
       "        }    #T_43f5fde4_9ec4_11ea_9c11_3cf0112ace06row0_col6 {\n",
       "            background-color:  yellow;\n",
       "            text-align:  left;\n",
       "        }    #T_43f5fde4_9ec4_11ea_9c11_3cf0112ace06row1_col0 {\n",
       "            text-align:  left;\n",
       "        }    #T_43f5fde4_9ec4_11ea_9c11_3cf0112ace06row1_col1 {\n",
       "            background-color:  yellow;\n",
       "            text-align:  left;\n",
       "        }    #T_43f5fde4_9ec4_11ea_9c11_3cf0112ace06row1_col2 {\n",
       "            background-color:  yellow;\n",
       "            text-align:  left;\n",
       "        }    #T_43f5fde4_9ec4_11ea_9c11_3cf0112ace06row1_col3 {\n",
       "            : ;\n",
       "            text-align:  left;\n",
       "        }    #T_43f5fde4_9ec4_11ea_9c11_3cf0112ace06row1_col4 {\n",
       "            background-color:  yellow;\n",
       "            text-align:  left;\n",
       "        }    #T_43f5fde4_9ec4_11ea_9c11_3cf0112ace06row1_col5 {\n",
       "            background-color:  yellow;\n",
       "            text-align:  left;\n",
       "        }    #T_43f5fde4_9ec4_11ea_9c11_3cf0112ace06row1_col6 {\n",
       "            background-color:  yellow;\n",
       "            text-align:  left;\n",
       "        }    #T_43f5fde4_9ec4_11ea_9c11_3cf0112ace06row2_col0 {\n",
       "            text-align:  left;\n",
       "        }    #T_43f5fde4_9ec4_11ea_9c11_3cf0112ace06row2_col1 {\n",
       "            background-color:  yellow;\n",
       "            text-align:  left;\n",
       "        }    #T_43f5fde4_9ec4_11ea_9c11_3cf0112ace06row2_col2 {\n",
       "            background-color:  yellow;\n",
       "            text-align:  left;\n",
       "        }    #T_43f5fde4_9ec4_11ea_9c11_3cf0112ace06row2_col3 {\n",
       "            : ;\n",
       "            text-align:  left;\n",
       "        }    #T_43f5fde4_9ec4_11ea_9c11_3cf0112ace06row2_col4 {\n",
       "            background-color:  yellow;\n",
       "            text-align:  left;\n",
       "        }    #T_43f5fde4_9ec4_11ea_9c11_3cf0112ace06row2_col5 {\n",
       "            background-color:  yellow;\n",
       "            text-align:  left;\n",
       "        }    #T_43f5fde4_9ec4_11ea_9c11_3cf0112ace06row2_col6 {\n",
       "            background-color:  yellow;\n",
       "            text-align:  left;\n",
       "        }    #T_43f5fde4_9ec4_11ea_9c11_3cf0112ace06row3_col0 {\n",
       "            text-align:  left;\n",
       "        }    #T_43f5fde4_9ec4_11ea_9c11_3cf0112ace06row3_col1 {\n",
       "            background-color:  yellow;\n",
       "            text-align:  left;\n",
       "        }    #T_43f5fde4_9ec4_11ea_9c11_3cf0112ace06row3_col2 {\n",
       "            : ;\n",
       "            text-align:  left;\n",
       "        }    #T_43f5fde4_9ec4_11ea_9c11_3cf0112ace06row3_col3 {\n",
       "            background-color:  yellow;\n",
       "            text-align:  left;\n",
       "        }    #T_43f5fde4_9ec4_11ea_9c11_3cf0112ace06row3_col4 {\n",
       "            : ;\n",
       "            text-align:  left;\n",
       "        }    #T_43f5fde4_9ec4_11ea_9c11_3cf0112ace06row3_col5 {\n",
       "            : ;\n",
       "            text-align:  left;\n",
       "        }    #T_43f5fde4_9ec4_11ea_9c11_3cf0112ace06row3_col6 {\n",
       "            : ;\n",
       "            text-align:  left;\n",
       "        }    #T_43f5fde4_9ec4_11ea_9c11_3cf0112ace06row4_col0 {\n",
       "            text-align:  left;\n",
       "        }    #T_43f5fde4_9ec4_11ea_9c11_3cf0112ace06row4_col1 {\n",
       "            background-color:  yellow;\n",
       "            text-align:  left;\n",
       "        }    #T_43f5fde4_9ec4_11ea_9c11_3cf0112ace06row4_col2 {\n",
       "            background-color:  yellow;\n",
       "            text-align:  left;\n",
       "        }    #T_43f5fde4_9ec4_11ea_9c11_3cf0112ace06row4_col3 {\n",
       "            : ;\n",
       "            text-align:  left;\n",
       "        }    #T_43f5fde4_9ec4_11ea_9c11_3cf0112ace06row4_col4 {\n",
       "            background-color:  yellow;\n",
       "            text-align:  left;\n",
       "        }    #T_43f5fde4_9ec4_11ea_9c11_3cf0112ace06row4_col5 {\n",
       "            : ;\n",
       "            text-align:  left;\n",
       "        }    #T_43f5fde4_9ec4_11ea_9c11_3cf0112ace06row4_col6 {\n",
       "            background-color:  yellow;\n",
       "            text-align:  left;\n",
       "        }    #T_43f5fde4_9ec4_11ea_9c11_3cf0112ace06row5_col0 {\n",
       "            text-align:  left;\n",
       "        }    #T_43f5fde4_9ec4_11ea_9c11_3cf0112ace06row5_col1 {\n",
       "            : ;\n",
       "            text-align:  left;\n",
       "        }    #T_43f5fde4_9ec4_11ea_9c11_3cf0112ace06row5_col2 {\n",
       "            : ;\n",
       "            text-align:  left;\n",
       "        }    #T_43f5fde4_9ec4_11ea_9c11_3cf0112ace06row5_col3 {\n",
       "            : ;\n",
       "            text-align:  left;\n",
       "        }    #T_43f5fde4_9ec4_11ea_9c11_3cf0112ace06row5_col4 {\n",
       "            : ;\n",
       "            text-align:  left;\n",
       "        }    #T_43f5fde4_9ec4_11ea_9c11_3cf0112ace06row5_col5 {\n",
       "            : ;\n",
       "            text-align:  left;\n",
       "        }    #T_43f5fde4_9ec4_11ea_9c11_3cf0112ace06row5_col6 {\n",
       "            : ;\n",
       "            text-align:  left;\n",
       "        }    #T_43f5fde4_9ec4_11ea_9c11_3cf0112ace06row6_col0 {\n",
       "            text-align:  left;\n",
       "        }    #T_43f5fde4_9ec4_11ea_9c11_3cf0112ace06row6_col1 {\n",
       "            : ;\n",
       "            text-align:  left;\n",
       "        }    #T_43f5fde4_9ec4_11ea_9c11_3cf0112ace06row6_col2 {\n",
       "            : ;\n",
       "            text-align:  left;\n",
       "        }    #T_43f5fde4_9ec4_11ea_9c11_3cf0112ace06row6_col3 {\n",
       "            : ;\n",
       "            text-align:  left;\n",
       "        }    #T_43f5fde4_9ec4_11ea_9c11_3cf0112ace06row6_col4 {\n",
       "            : ;\n",
       "            text-align:  left;\n",
       "        }    #T_43f5fde4_9ec4_11ea_9c11_3cf0112ace06row6_col5 {\n",
       "            : ;\n",
       "            text-align:  left;\n",
       "        }    #T_43f5fde4_9ec4_11ea_9c11_3cf0112ace06row6_col6 {\n",
       "            : ;\n",
       "            text-align:  left;\n",
       "        }    #T_43f5fde4_9ec4_11ea_9c11_3cf0112ace06row7_col0 {\n",
       "            text-align:  left;\n",
       "        }    #T_43f5fde4_9ec4_11ea_9c11_3cf0112ace06row7_col1 {\n",
       "            : ;\n",
       "            text-align:  left;\n",
       "        }    #T_43f5fde4_9ec4_11ea_9c11_3cf0112ace06row7_col2 {\n",
       "            : ;\n",
       "            text-align:  left;\n",
       "        }    #T_43f5fde4_9ec4_11ea_9c11_3cf0112ace06row7_col3 {\n",
       "            : ;\n",
       "            text-align:  left;\n",
       "        }    #T_43f5fde4_9ec4_11ea_9c11_3cf0112ace06row7_col4 {\n",
       "            : ;\n",
       "            text-align:  left;\n",
       "        }    #T_43f5fde4_9ec4_11ea_9c11_3cf0112ace06row7_col5 {\n",
       "            : ;\n",
       "            text-align:  left;\n",
       "        }    #T_43f5fde4_9ec4_11ea_9c11_3cf0112ace06row7_col6 {\n",
       "            : ;\n",
       "            text-align:  left;\n",
       "        }</style><table id=\"T_43f5fde4_9ec4_11ea_9c11_3cf0112ace06\" ><thead>    <tr>        <th class=\"blank level0\" ></th>        <th class=\"col_heading level0 col0\" >Model</th>        <th class=\"col_heading level0 col1\" >Accuracy</th>        <th class=\"col_heading level0 col2\" >AUC</th>        <th class=\"col_heading level0 col3\" >Recall</th>        <th class=\"col_heading level0 col4\" >Prec.</th>        <th class=\"col_heading level0 col5\" >F1</th>        <th class=\"col_heading level0 col6\" >Kappa</th>    </tr></thead><tbody>\n",
       "                <tr>\n",
       "                        <th id=\"T_43f5fde4_9ec4_11ea_9c11_3cf0112ace06level0_row0\" class=\"row_heading level0 row0\" >0</th>\n",
       "                        <td id=\"T_43f5fde4_9ec4_11ea_9c11_3cf0112ace06row0_col0\" class=\"data row0 col0\" >Extreme Gradient Boosting</td>\n",
       "                        <td id=\"T_43f5fde4_9ec4_11ea_9c11_3cf0112ace06row0_col1\" class=\"data row0 col1\" >0.914000</td>\n",
       "                        <td id=\"T_43f5fde4_9ec4_11ea_9c11_3cf0112ace06row0_col2\" class=\"data row0 col2\" >0.882000</td>\n",
       "                        <td id=\"T_43f5fde4_9ec4_11ea_9c11_3cf0112ace06row0_col3\" class=\"data row0 col3\" >0.500000</td>\n",
       "                        <td id=\"T_43f5fde4_9ec4_11ea_9c11_3cf0112ace06row0_col4\" class=\"data row0 col4\" >0.891000</td>\n",
       "                        <td id=\"T_43f5fde4_9ec4_11ea_9c11_3cf0112ace06row0_col5\" class=\"data row0 col5\" >0.641000</td>\n",
       "                        <td id=\"T_43f5fde4_9ec4_11ea_9c11_3cf0112ace06row0_col6\" class=\"data row0 col6\" >0.596000</td>\n",
       "            </tr>\n",
       "            <tr>\n",
       "                        <th id=\"T_43f5fde4_9ec4_11ea_9c11_3cf0112ace06level0_row1\" class=\"row_heading level0 row1\" >1</th>\n",
       "                        <td id=\"T_43f5fde4_9ec4_11ea_9c11_3cf0112ace06row1_col0\" class=\"data row1 col0\" >Light Gradient Boosting Machine</td>\n",
       "                        <td id=\"T_43f5fde4_9ec4_11ea_9c11_3cf0112ace06row1_col1\" class=\"data row1 col1\" >0.914000</td>\n",
       "                        <td id=\"T_43f5fde4_9ec4_11ea_9c11_3cf0112ace06row1_col2\" class=\"data row1 col2\" >0.882000</td>\n",
       "                        <td id=\"T_43f5fde4_9ec4_11ea_9c11_3cf0112ace06row1_col3\" class=\"data row1 col3\" >0.500000</td>\n",
       "                        <td id=\"T_43f5fde4_9ec4_11ea_9c11_3cf0112ace06row1_col4\" class=\"data row1 col4\" >0.893000</td>\n",
       "                        <td id=\"T_43f5fde4_9ec4_11ea_9c11_3cf0112ace06row1_col5\" class=\"data row1 col5\" >0.641000</td>\n",
       "                        <td id=\"T_43f5fde4_9ec4_11ea_9c11_3cf0112ace06row1_col6\" class=\"data row1 col6\" >0.596000</td>\n",
       "            </tr>\n",
       "            <tr>\n",
       "                        <th id=\"T_43f5fde4_9ec4_11ea_9c11_3cf0112ace06level0_row2\" class=\"row_heading level0 row2\" >2</th>\n",
       "                        <td id=\"T_43f5fde4_9ec4_11ea_9c11_3cf0112ace06row2_col0\" class=\"data row2 col0\" >CatBoost Classifier</td>\n",
       "                        <td id=\"T_43f5fde4_9ec4_11ea_9c11_3cf0112ace06row2_col1\" class=\"data row2 col1\" >0.914000</td>\n",
       "                        <td id=\"T_43f5fde4_9ec4_11ea_9c11_3cf0112ace06row2_col2\" class=\"data row2 col2\" >0.882000</td>\n",
       "                        <td id=\"T_43f5fde4_9ec4_11ea_9c11_3cf0112ace06row2_col3\" class=\"data row2 col3\" >0.500000</td>\n",
       "                        <td id=\"T_43f5fde4_9ec4_11ea_9c11_3cf0112ace06row2_col4\" class=\"data row2 col4\" >0.893000</td>\n",
       "                        <td id=\"T_43f5fde4_9ec4_11ea_9c11_3cf0112ace06row2_col5\" class=\"data row2 col5\" >0.641000</td>\n",
       "                        <td id=\"T_43f5fde4_9ec4_11ea_9c11_3cf0112ace06row2_col6\" class=\"data row2 col6\" >0.596000</td>\n",
       "            </tr>\n",
       "            <tr>\n",
       "                        <th id=\"T_43f5fde4_9ec4_11ea_9c11_3cf0112ace06level0_row3\" class=\"row_heading level0 row3\" >3</th>\n",
       "                        <td id=\"T_43f5fde4_9ec4_11ea_9c11_3cf0112ace06row3_col0\" class=\"data row3 col0\" >Ada Boost Classifier</td>\n",
       "                        <td id=\"T_43f5fde4_9ec4_11ea_9c11_3cf0112ace06row3_col1\" class=\"data row3 col1\" >0.914000</td>\n",
       "                        <td id=\"T_43f5fde4_9ec4_11ea_9c11_3cf0112ace06row3_col2\" class=\"data row3 col2\" >0.881000</td>\n",
       "                        <td id=\"T_43f5fde4_9ec4_11ea_9c11_3cf0112ace06row3_col3\" class=\"data row3 col3\" >0.501000</td>\n",
       "                        <td id=\"T_43f5fde4_9ec4_11ea_9c11_3cf0112ace06row3_col4\" class=\"data row3 col4\" >0.887000</td>\n",
       "                        <td id=\"T_43f5fde4_9ec4_11ea_9c11_3cf0112ace06row3_col5\" class=\"data row3 col5\" >0.640000</td>\n",
       "                        <td id=\"T_43f5fde4_9ec4_11ea_9c11_3cf0112ace06row3_col6\" class=\"data row3 col6\" >0.595000</td>\n",
       "            </tr>\n",
       "            <tr>\n",
       "                        <th id=\"T_43f5fde4_9ec4_11ea_9c11_3cf0112ace06level0_row4\" class=\"row_heading level0 row4\" >4</th>\n",
       "                        <td id=\"T_43f5fde4_9ec4_11ea_9c11_3cf0112ace06row4_col0\" class=\"data row4 col0\" >Gradient Boosting Classifier</td>\n",
       "                        <td id=\"T_43f5fde4_9ec4_11ea_9c11_3cf0112ace06row4_col1\" class=\"data row4 col1\" >0.914000</td>\n",
       "                        <td id=\"T_43f5fde4_9ec4_11ea_9c11_3cf0112ace06row4_col2\" class=\"data row4 col2\" >0.882000</td>\n",
       "                        <td id=\"T_43f5fde4_9ec4_11ea_9c11_3cf0112ace06row4_col3\" class=\"data row4 col3\" >0.499000</td>\n",
       "                        <td id=\"T_43f5fde4_9ec4_11ea_9c11_3cf0112ace06row4_col4\" class=\"data row4 col4\" >0.893000</td>\n",
       "                        <td id=\"T_43f5fde4_9ec4_11ea_9c11_3cf0112ace06row4_col5\" class=\"data row4 col5\" >0.640000</td>\n",
       "                        <td id=\"T_43f5fde4_9ec4_11ea_9c11_3cf0112ace06row4_col6\" class=\"data row4 col6\" >0.596000</td>\n",
       "            </tr>\n",
       "            <tr>\n",
       "                        <th id=\"T_43f5fde4_9ec4_11ea_9c11_3cf0112ace06level0_row5\" class=\"row_heading level0 row5\" >5</th>\n",
       "                        <td id=\"T_43f5fde4_9ec4_11ea_9c11_3cf0112ace06row5_col0\" class=\"data row5 col0\" >Random Forest Classifier</td>\n",
       "                        <td id=\"T_43f5fde4_9ec4_11ea_9c11_3cf0112ace06row5_col1\" class=\"data row5 col1\" >0.913000</td>\n",
       "                        <td id=\"T_43f5fde4_9ec4_11ea_9c11_3cf0112ace06row5_col2\" class=\"data row5 col2\" >0.879000</td>\n",
       "                        <td id=\"T_43f5fde4_9ec4_11ea_9c11_3cf0112ace06row5_col3\" class=\"data row5 col3\" >0.499000</td>\n",
       "                        <td id=\"T_43f5fde4_9ec4_11ea_9c11_3cf0112ace06row5_col4\" class=\"data row5 col4\" >0.885000</td>\n",
       "                        <td id=\"T_43f5fde4_9ec4_11ea_9c11_3cf0112ace06row5_col5\" class=\"data row5 col5\" >0.638000</td>\n",
       "                        <td id=\"T_43f5fde4_9ec4_11ea_9c11_3cf0112ace06row5_col6\" class=\"data row5 col6\" >0.593000</td>\n",
       "            </tr>\n",
       "            <tr>\n",
       "                        <th id=\"T_43f5fde4_9ec4_11ea_9c11_3cf0112ace06level0_row6\" class=\"row_heading level0 row6\" >6</th>\n",
       "                        <td id=\"T_43f5fde4_9ec4_11ea_9c11_3cf0112ace06row6_col0\" class=\"data row6 col0\" >Decision Tree Classifier</td>\n",
       "                        <td id=\"T_43f5fde4_9ec4_11ea_9c11_3cf0112ace06row6_col1\" class=\"data row6 col1\" >0.913000</td>\n",
       "                        <td id=\"T_43f5fde4_9ec4_11ea_9c11_3cf0112ace06row6_col2\" class=\"data row6 col2\" >0.877000</td>\n",
       "                        <td id=\"T_43f5fde4_9ec4_11ea_9c11_3cf0112ace06row6_col3\" class=\"data row6 col3\" >0.497000</td>\n",
       "                        <td id=\"T_43f5fde4_9ec4_11ea_9c11_3cf0112ace06row6_col4\" class=\"data row6 col4\" >0.889000</td>\n",
       "                        <td id=\"T_43f5fde4_9ec4_11ea_9c11_3cf0112ace06row6_col5\" class=\"data row6 col5\" >0.637000</td>\n",
       "                        <td id=\"T_43f5fde4_9ec4_11ea_9c11_3cf0112ace06row6_col6\" class=\"data row6 col6\" >0.592000</td>\n",
       "            </tr>\n",
       "            <tr>\n",
       "                        <th id=\"T_43f5fde4_9ec4_11ea_9c11_3cf0112ace06level0_row7\" class=\"row_heading level0 row7\" >7</th>\n",
       "                        <td id=\"T_43f5fde4_9ec4_11ea_9c11_3cf0112ace06row7_col0\" class=\"data row7 col0\" >Logistic Regression</td>\n",
       "                        <td id=\"T_43f5fde4_9ec4_11ea_9c11_3cf0112ace06row7_col1\" class=\"data row7 col1\" >0.848000</td>\n",
       "                        <td id=\"T_43f5fde4_9ec4_11ea_9c11_3cf0112ace06row7_col2\" class=\"data row7 col2\" >0.705000</td>\n",
       "                        <td id=\"T_43f5fde4_9ec4_11ea_9c11_3cf0112ace06row7_col3\" class=\"data row7 col3\" >0.035000</td>\n",
       "                        <td id=\"T_43f5fde4_9ec4_11ea_9c11_3cf0112ace06row7_col4\" class=\"data row7 col4\" >0.586000</td>\n",
       "                        <td id=\"T_43f5fde4_9ec4_11ea_9c11_3cf0112ace06row7_col5\" class=\"data row7 col5\" >0.066000</td>\n",
       "                        <td id=\"T_43f5fde4_9ec4_11ea_9c11_3cf0112ace06row7_col6\" class=\"data row7 col6\" >0.050000</td>\n",
       "            </tr>\n",
       "    </tbody></table>"
      ],
      "text/plain": [
       "<pandas.io.formats.style.Styler at 0x1eb8087a048>"
      ]
     },
     "execution_count": 61,
     "metadata": {},
     "output_type": "execute_result"
    }
   ],
   "source": [
    "compare_models(blacklist=['knn', 'ridge', 'svm', 'lda', 'nb', 'qda', 'et'],\n",
    "               fold=2, round=3, sort='F1')"
   ]
  },
  {
   "cell_type": "markdown",
   "metadata": {},
   "source": [
    "**Observation**: It turns major classification models have similar F1 score performance except Logistic Regression. Most models are able to have 0.5 \"Recall\", which mean out of all the true qualified reordered items, half of them are identified. Percision is at 0.89, which is pretty decent given no tuning has been made yet.\n",
    "<br>\n",
    "There could be room to increase the recall rate in order to maximize the F1 score (objective of the problem), assuming the trade off from precision will worth it. We will test will lower the binary cut off rate to 0.4 so see if improvement exist."
   ]
  },
  {
   "cell_type": "markdown",
   "metadata": {},
   "source": [
    "Base on the result above, we will test Extreme Gradient Boosting, Light Gradient Boosting Machine and Random Forest to get range of performance when apply different probability thresholds.\n",
    "<br>\n",
    "\n",
    "To save time, we will create the function below to automate the steps."
   ]
  },
  {
   "cell_type": "code",
   "execution_count": 62,
   "metadata": {},
   "outputs": [],
   "source": [
    "\n",
    "def model_f1(model, prob):\n",
    "    \"\"\" Automate the step on generating models and prediction\n",
    "\n",
    "    Args:\n",
    "        model: the abbreviated string for estimators\n",
    "        prob: probabiliy therhold to determin whether an output is 0 or 1\n",
    "\n",
    "    Returns:\n",
    "        name: created model\n",
    "        var: prediction generated from the model\n",
    "    \"\"\"\n",
    "    name = create_model(model, fold=2)\n",
    "    var = predict_model(name, probability_threshold=prob)\n",
    "    return name, var"
   ]
  },
  {
   "cell_type": "code",
   "execution_count": 63,
   "metadata": {},
   "outputs": [
    {
     "data": {
      "text/html": [
       "<div>\n",
       "<style scoped>\n",
       "    .dataframe tbody tr th:only-of-type {\n",
       "        vertical-align: middle;\n",
       "    }\n",
       "\n",
       "    .dataframe tbody tr th {\n",
       "        vertical-align: top;\n",
       "    }\n",
       "\n",
       "    .dataframe thead th {\n",
       "        text-align: right;\n",
       "    }\n",
       "</style>\n",
       "<table border=\"1\" class=\"dataframe\">\n",
       "  <thead>\n",
       "    <tr style=\"text-align: right;\">\n",
       "      <th></th>\n",
       "      <th>Model</th>\n",
       "      <th>Accuracy</th>\n",
       "      <th>AUC</th>\n",
       "      <th>Recall</th>\n",
       "      <th>Prec.</th>\n",
       "      <th>F1</th>\n",
       "      <th>Kappa</th>\n",
       "    </tr>\n",
       "  </thead>\n",
       "  <tbody>\n",
       "    <tr>\n",
       "      <th>0</th>\n",
       "      <td>Light Gradient Boosting Machine</td>\n",
       "      <td>0.9125</td>\n",
       "      <td>0.8822</td>\n",
       "      <td>0.5433</td>\n",
       "      <td>0.8269</td>\n",
       "      <td>0.6557</td>\n",
       "      <td>0.6081</td>\n",
       "    </tr>\n",
       "  </tbody>\n",
       "</table>\n",
       "</div>"
      ],
      "text/plain": [
       "                             Model  Accuracy     AUC  Recall   Prec.      F1  \\\n",
       "0  Light Gradient Boosting Machine    0.9125  0.8822  0.5433  0.8269  0.6557   \n",
       "\n",
       "    Kappa  \n",
       "0  0.6081  "
      ]
     },
     "metadata": {},
     "output_type": "display_data"
    },
    {
     "name": "stdout",
     "output_type": "stream",
     "text": [
      "Wall time: 1min 56s\n"
     ]
    }
   ],
   "source": [
    "%%time\n",
    "lightgbm, lg_pred = model_f1('lightgbm', .4)"
   ]
  },
  {
   "cell_type": "code",
   "execution_count": 64,
   "metadata": {},
   "outputs": [
    {
     "data": {
      "text/html": [
       "<div>\n",
       "<style scoped>\n",
       "    .dataframe tbody tr th:only-of-type {\n",
       "        vertical-align: middle;\n",
       "    }\n",
       "\n",
       "    .dataframe tbody tr th {\n",
       "        vertical-align: top;\n",
       "    }\n",
       "\n",
       "    .dataframe thead th {\n",
       "        text-align: right;\n",
       "    }\n",
       "</style>\n",
       "<table border=\"1\" class=\"dataframe\">\n",
       "  <thead>\n",
       "    <tr style=\"text-align: right;\">\n",
       "      <th></th>\n",
       "      <th>Model</th>\n",
       "      <th>Accuracy</th>\n",
       "      <th>AUC</th>\n",
       "      <th>Recall</th>\n",
       "      <th>Prec.</th>\n",
       "      <th>F1</th>\n",
       "      <th>Kappa</th>\n",
       "    </tr>\n",
       "  </thead>\n",
       "  <tbody>\n",
       "    <tr>\n",
       "      <th>0</th>\n",
       "      <td>Extreme Gradient Boosting</td>\n",
       "      <td>0.9124</td>\n",
       "      <td>0.8814</td>\n",
       "      <td>0.5439</td>\n",
       "      <td>0.8253</td>\n",
       "      <td>0.6556</td>\n",
       "      <td>0.6079</td>\n",
       "    </tr>\n",
       "  </tbody>\n",
       "</table>\n",
       "</div>"
      ],
      "text/plain": [
       "                       Model  Accuracy     AUC  Recall   Prec.      F1   Kappa\n",
       "0  Extreme Gradient Boosting    0.9124  0.8814  0.5439  0.8253  0.6556  0.6079"
      ]
     },
     "metadata": {},
     "output_type": "display_data"
    },
    {
     "name": "stdout",
     "output_type": "stream",
     "text": [
      "Wall time: 3min 55s\n"
     ]
    }
   ],
   "source": [
    "%%time\n",
    "xgb, xgb_pred = model_f1('xgboost', .4)"
   ]
  },
  {
   "cell_type": "code",
   "execution_count": 65,
   "metadata": {},
   "outputs": [
    {
     "data": {
      "text/html": [
       "<div>\n",
       "<style scoped>\n",
       "    .dataframe tbody tr th:only-of-type {\n",
       "        vertical-align: middle;\n",
       "    }\n",
       "\n",
       "    .dataframe tbody tr th {\n",
       "        vertical-align: top;\n",
       "    }\n",
       "\n",
       "    .dataframe thead th {\n",
       "        text-align: right;\n",
       "    }\n",
       "</style>\n",
       "<table border=\"1\" class=\"dataframe\">\n",
       "  <thead>\n",
       "    <tr style=\"text-align: right;\">\n",
       "      <th></th>\n",
       "      <th>Model</th>\n",
       "      <th>Accuracy</th>\n",
       "      <th>AUC</th>\n",
       "      <th>Recall</th>\n",
       "      <th>Prec.</th>\n",
       "      <th>F1</th>\n",
       "      <th>Kappa</th>\n",
       "    </tr>\n",
       "  </thead>\n",
       "  <tbody>\n",
       "    <tr>\n",
       "      <th>0</th>\n",
       "      <td>Random Forest Classifier</td>\n",
       "      <td>0.912</td>\n",
       "      <td>0.8805</td>\n",
       "      <td>0.5402</td>\n",
       "      <td>0.8257</td>\n",
       "      <td>0.6531</td>\n",
       "      <td>0.6052</td>\n",
       "    </tr>\n",
       "  </tbody>\n",
       "</table>\n",
       "</div>"
      ],
      "text/plain": [
       "                      Model  Accuracy     AUC  Recall   Prec.      F1   Kappa\n",
       "0  Random Forest Classifier     0.912  0.8805  0.5402  0.8257  0.6531  0.6052"
      ]
     },
     "metadata": {},
     "output_type": "display_data"
    },
    {
     "name": "stdout",
     "output_type": "stream",
     "text": [
      "Wall time: 3min 58s\n"
     ]
    }
   ],
   "source": [
    "%%time\n",
    "rfc, rfc_pred = model_f1('rf', .4)"
   ]
  },
  {
   "cell_type": "markdown",
   "metadata": {},
   "source": [
    "**Obseravtion**: The trade off appear to be equal among the increase in Recall but decrease in Precision. The net gain in F1 score is 0.01, not significant enough to justify the adjustment, at least from the training set data. However, the test set data are much smaller and that caes it may worth lower the probability in order minimize penalty from low recall."
   ]
  },
  {
   "cell_type": "markdown",
   "metadata": {},
   "source": [
    "#### Save all the models for final test data submission"
   ]
  },
  {
   "cell_type": "code",
   "execution_count": 66,
   "metadata": {},
   "outputs": [
    {
     "name": "stdout",
     "output_type": "stream",
     "text": [
      "Transformation Pipeline and Model Succesfully Saved\n",
      "Transformation Pipeline and Model Succesfully Saved\n",
      "Transformation Pipeline and Model Succesfully Saved\n"
     ]
    }
   ],
   "source": [
    "path = './data/save_model/'\n",
    "\n",
    "save_model(lightgbm, model_name=path+'lgbm')\n",
    "save_model(rfc, model_name=path+'rfc')\n",
    "save_model(xgb, model_name=path+'xgb')"
   ]
  },
  {
   "cell_type": "markdown",
   "metadata": {},
   "source": [
    "#### Blend Models\n",
    "\n",
    "Test out the the output by blending models, performance is inferior than individual model, hence won't proceed with that strategy"
   ]
  },
  {
   "cell_type": "code",
   "execution_count": 67,
   "metadata": {},
   "outputs": [
    {
     "data": {
      "text/html": [
       "<div>\n",
       "<style scoped>\n",
       "    .dataframe tbody tr th:only-of-type {\n",
       "        vertical-align: middle;\n",
       "    }\n",
       "\n",
       "    .dataframe tbody tr th {\n",
       "        vertical-align: top;\n",
       "    }\n",
       "\n",
       "    .dataframe thead th {\n",
       "        text-align: right;\n",
       "    }\n",
       "</style>\n",
       "<table border=\"1\" class=\"dataframe\">\n",
       "  <thead>\n",
       "    <tr style=\"text-align: right;\">\n",
       "      <th></th>\n",
       "      <th>Accuracy</th>\n",
       "      <th>AUC</th>\n",
       "      <th>Recall</th>\n",
       "      <th>Prec.</th>\n",
       "      <th>F1</th>\n",
       "      <th>Kappa</th>\n",
       "    </tr>\n",
       "  </thead>\n",
       "  <tbody>\n",
       "    <tr>\n",
       "      <th>0</th>\n",
       "      <td>0.9143</td>\n",
       "      <td>0.0</td>\n",
       "      <td>0.5003</td>\n",
       "      <td>0.8940</td>\n",
       "      <td>0.6416</td>\n",
       "      <td>0.5972</td>\n",
       "    </tr>\n",
       "    <tr>\n",
       "      <th>1</th>\n",
       "      <td>0.9139</td>\n",
       "      <td>0.0</td>\n",
       "      <td>0.4981</td>\n",
       "      <td>0.8935</td>\n",
       "      <td>0.6396</td>\n",
       "      <td>0.5952</td>\n",
       "    </tr>\n",
       "    <tr>\n",
       "      <th>Mean</th>\n",
       "      <td>0.9141</td>\n",
       "      <td>0.0</td>\n",
       "      <td>0.4992</td>\n",
       "      <td>0.8938</td>\n",
       "      <td>0.6406</td>\n",
       "      <td>0.5962</td>\n",
       "    </tr>\n",
       "    <tr>\n",
       "      <th>SD</th>\n",
       "      <td>0.0002</td>\n",
       "      <td>0.0</td>\n",
       "      <td>0.0011</td>\n",
       "      <td>0.0003</td>\n",
       "      <td>0.0010</td>\n",
       "      <td>0.0010</td>\n",
       "    </tr>\n",
       "  </tbody>\n",
       "</table>\n",
       "</div>"
      ],
      "text/plain": [
       "      Accuracy  AUC  Recall   Prec.      F1   Kappa\n",
       "0       0.9143  0.0  0.5003  0.8940  0.6416  0.5972\n",
       "1       0.9139  0.0  0.4981  0.8935  0.6396  0.5952\n",
       "Mean    0.9141  0.0  0.4992  0.8938  0.6406  0.5962\n",
       "SD      0.0002  0.0  0.0011  0.0003  0.0010  0.0010"
      ]
     },
     "metadata": {},
     "output_type": "display_data"
    },
    {
     "name": "stdout",
     "output_type": "stream",
     "text": [
      "Wall time: 8min 59s\n"
     ]
    }
   ],
   "source": [
    "%%time\n",
    "blend = blend_models(estimator_list=[rfc, xgb, lightgbm], fold=2)"
   ]
  },
  {
   "cell_type": "markdown",
   "metadata": {},
   "source": [
    "**Observation**: No major improvement on F1 score by blending models, won't pursue this strategy."
   ]
  }
 ],
 "metadata": {
  "kernelspec": {
   "display_name": "Python 3",
   "language": "python",
   "name": "python3"
  },
  "language_info": {
   "codemirror_mode": {
    "name": "ipython",
    "version": 3
   },
   "file_extension": ".py",
   "mimetype": "text/x-python",
   "name": "python",
   "nbconvert_exporter": "python",
   "pygments_lexer": "ipython3",
   "version": "3.7.3"
  }
 },
 "nbformat": 4,
 "nbformat_minor": 4
}
