{
 "cells": [
  {
   "cell_type": "markdown",
   "metadata": {},
   "source": [
    "# Machine Learning - Modeling (Part 1)"
   ]
  },
  {
   "cell_type": "code",
   "execution_count": 1,
   "metadata": {},
   "outputs": [],
   "source": [
    "import pandas as pd\n",
    "import numpy as np\n",
    "import gc\n",
    "from pycaret.classification import *"
   ]
  },
  {
   "cell_type": "code",
   "execution_count": 2,
   "metadata": {},
   "outputs": [],
   "source": [
    "orders = pd.read_csv('./data/orders.csv')\n",
    "prior_order = orders.query('eval_set == \"prior\"')\n",
    "train_order = orders.query('eval_set == \"train\"')\n",
    "test_order = orders.query('eval_set == \"test\"')"
   ]
  },
  {
   "cell_type": "code",
   "execution_count": 3,
   "metadata": {},
   "outputs": [],
   "source": [
    "df = pd.read_csv('./data/df.csv')"
   ]
  },
  {
   "cell_type": "code",
   "execution_count": 4,
   "metadata": {},
   "outputs": [
    {
     "data": {
      "text/html": [
       "<div>\n",
       "<style scoped>\n",
       "    .dataframe tbody tr th:only-of-type {\n",
       "        vertical-align: middle;\n",
       "    }\n",
       "\n",
       "    .dataframe tbody tr th {\n",
       "        vertical-align: top;\n",
       "    }\n",
       "\n",
       "    .dataframe thead th {\n",
       "        text-align: right;\n",
       "    }\n",
       "</style>\n",
       "<table border=\"1\" class=\"dataframe\">\n",
       "  <thead>\n",
       "    <tr style=\"text-align: right;\">\n",
       "      <th></th>\n",
       "      <th>user_id</th>\n",
       "      <th>product_id</th>\n",
       "      <th>last_purchase</th>\n",
       "      <th>reordered</th>\n",
       "      <th>lag</th>\n",
       "      <th>product_appear</th>\n",
       "      <th>buy_cnt</th>\n",
       "      <th>target</th>\n",
       "    </tr>\n",
       "  </thead>\n",
       "  <tbody>\n",
       "    <tr>\n",
       "      <th>0</th>\n",
       "      <td>1</td>\n",
       "      <td>196</td>\n",
       "      <td>1.0</td>\n",
       "      <td>9.0</td>\n",
       "      <td>20.125</td>\n",
       "      <td>1.0</td>\n",
       "      <td>3.0</td>\n",
       "      <td>1</td>\n",
       "    </tr>\n",
       "    <tr>\n",
       "      <th>1</th>\n",
       "      <td>1</td>\n",
       "      <td>10258</td>\n",
       "      <td>1.0</td>\n",
       "      <td>8.0</td>\n",
       "      <td>20.125</td>\n",
       "      <td>0.9</td>\n",
       "      <td>3.0</td>\n",
       "      <td>1</td>\n",
       "    </tr>\n",
       "    <tr>\n",
       "      <th>2</th>\n",
       "      <td>1</td>\n",
       "      <td>10326</td>\n",
       "      <td>0.0</td>\n",
       "      <td>0.0</td>\n",
       "      <td>78.000</td>\n",
       "      <td>0.2</td>\n",
       "      <td>0.0</td>\n",
       "      <td>0</td>\n",
       "    </tr>\n",
       "    <tr>\n",
       "      <th>3</th>\n",
       "      <td>1</td>\n",
       "      <td>12427</td>\n",
       "      <td>1.0</td>\n",
       "      <td>9.0</td>\n",
       "      <td>20.125</td>\n",
       "      <td>1.0</td>\n",
       "      <td>3.0</td>\n",
       "      <td>0</td>\n",
       "    </tr>\n",
       "    <tr>\n",
       "      <th>4</th>\n",
       "      <td>1</td>\n",
       "      <td>13032</td>\n",
       "      <td>1.0</td>\n",
       "      <td>2.0</td>\n",
       "      <td>80.500</td>\n",
       "      <td>0.3</td>\n",
       "      <td>1.0</td>\n",
       "      <td>1</td>\n",
       "    </tr>\n",
       "  </tbody>\n",
       "</table>\n",
       "</div>"
      ],
      "text/plain": [
       "   user_id  product_id  last_purchase  reordered     lag  product_appear  \\\n",
       "0        1         196            1.0        9.0  20.125             1.0   \n",
       "1        1       10258            1.0        8.0  20.125             0.9   \n",
       "2        1       10326            0.0        0.0  78.000             0.2   \n",
       "3        1       12427            1.0        9.0  20.125             1.0   \n",
       "4        1       13032            1.0        2.0  80.500             0.3   \n",
       "\n",
       "   buy_cnt  target  \n",
       "0      3.0       1  \n",
       "1      3.0       1  \n",
       "2      0.0       0  \n",
       "3      3.0       0  \n",
       "4      1.0       1  "
      ]
     },
     "execution_count": 4,
     "metadata": {},
     "output_type": "execute_result"
    }
   ],
   "source": [
    "df.head()"
   ]
  },
  {
   "cell_type": "code",
   "execution_count": 5,
   "metadata": {},
   "outputs": [],
   "source": [
    "df = df.set_index(['user_id', 'product_id'])"
   ]
  },
  {
   "cell_type": "markdown",
   "metadata": {},
   "source": [
    "#### Setup"
   ]
  },
  {
   "cell_type": "code",
   "execution_count": 6,
   "metadata": {},
   "outputs": [
    {
     "name": "stdout",
     "output_type": "stream",
     "text": [
      " \n",
      "Setup Succesfully Completed!\n"
     ]
    },
    {
     "data": {
      "text/html": [
       "<style  type=\"text/css\" >\n",
       "</style><table id=\"T_09890da8_a2e7_11ea_9c29_3cf0112ace06\" ><thead>    <tr>        <th class=\"blank level0\" ></th>        <th class=\"col_heading level0 col0\" >Description</th>        <th class=\"col_heading level0 col1\" >Value</th>    </tr></thead><tbody>\n",
       "                <tr>\n",
       "                        <th id=\"T_09890da8_a2e7_11ea_9c29_3cf0112ace06level0_row0\" class=\"row_heading level0 row0\" >0</th>\n",
       "                        <td id=\"T_09890da8_a2e7_11ea_9c29_3cf0112ace06row0_col0\" class=\"data row0 col0\" >session_id</td>\n",
       "                        <td id=\"T_09890da8_a2e7_11ea_9c29_3cf0112ace06row0_col1\" class=\"data row0 col1\" >1093</td>\n",
       "            </tr>\n",
       "            <tr>\n",
       "                        <th id=\"T_09890da8_a2e7_11ea_9c29_3cf0112ace06level0_row1\" class=\"row_heading level0 row1\" >1</th>\n",
       "                        <td id=\"T_09890da8_a2e7_11ea_9c29_3cf0112ace06row1_col0\" class=\"data row1 col0\" >Target Type</td>\n",
       "                        <td id=\"T_09890da8_a2e7_11ea_9c29_3cf0112ace06row1_col1\" class=\"data row1 col1\" >Binary</td>\n",
       "            </tr>\n",
       "            <tr>\n",
       "                        <th id=\"T_09890da8_a2e7_11ea_9c29_3cf0112ace06level0_row2\" class=\"row_heading level0 row2\" >2</th>\n",
       "                        <td id=\"T_09890da8_a2e7_11ea_9c29_3cf0112ace06row2_col0\" class=\"data row2 col0\" >Label Encoded</td>\n",
       "                        <td id=\"T_09890da8_a2e7_11ea_9c29_3cf0112ace06row2_col1\" class=\"data row2 col1\" >None</td>\n",
       "            </tr>\n",
       "            <tr>\n",
       "                        <th id=\"T_09890da8_a2e7_11ea_9c29_3cf0112ace06level0_row3\" class=\"row_heading level0 row3\" >3</th>\n",
       "                        <td id=\"T_09890da8_a2e7_11ea_9c29_3cf0112ace06row3_col0\" class=\"data row3 col0\" >Original Data</td>\n",
       "                        <td id=\"T_09890da8_a2e7_11ea_9c29_3cf0112ace06row3_col1\" class=\"data row3 col1\" >(9030454, 6)</td>\n",
       "            </tr>\n",
       "            <tr>\n",
       "                        <th id=\"T_09890da8_a2e7_11ea_9c29_3cf0112ace06level0_row4\" class=\"row_heading level0 row4\" >4</th>\n",
       "                        <td id=\"T_09890da8_a2e7_11ea_9c29_3cf0112ace06row4_col0\" class=\"data row4 col0\" >Missing Values </td>\n",
       "                        <td id=\"T_09890da8_a2e7_11ea_9c29_3cf0112ace06row4_col1\" class=\"data row4 col1\" >False</td>\n",
       "            </tr>\n",
       "            <tr>\n",
       "                        <th id=\"T_09890da8_a2e7_11ea_9c29_3cf0112ace06level0_row5\" class=\"row_heading level0 row5\" >5</th>\n",
       "                        <td id=\"T_09890da8_a2e7_11ea_9c29_3cf0112ace06row5_col0\" class=\"data row5 col0\" >Numeric Features </td>\n",
       "                        <td id=\"T_09890da8_a2e7_11ea_9c29_3cf0112ace06row5_col1\" class=\"data row5 col1\" >4</td>\n",
       "            </tr>\n",
       "            <tr>\n",
       "                        <th id=\"T_09890da8_a2e7_11ea_9c29_3cf0112ace06level0_row6\" class=\"row_heading level0 row6\" >6</th>\n",
       "                        <td id=\"T_09890da8_a2e7_11ea_9c29_3cf0112ace06row6_col0\" class=\"data row6 col0\" >Categorical Features </td>\n",
       "                        <td id=\"T_09890da8_a2e7_11ea_9c29_3cf0112ace06row6_col1\" class=\"data row6 col1\" >1</td>\n",
       "            </tr>\n",
       "            <tr>\n",
       "                        <th id=\"T_09890da8_a2e7_11ea_9c29_3cf0112ace06level0_row7\" class=\"row_heading level0 row7\" >7</th>\n",
       "                        <td id=\"T_09890da8_a2e7_11ea_9c29_3cf0112ace06row7_col0\" class=\"data row7 col0\" >Ordinal Features </td>\n",
       "                        <td id=\"T_09890da8_a2e7_11ea_9c29_3cf0112ace06row7_col1\" class=\"data row7 col1\" >False</td>\n",
       "            </tr>\n",
       "            <tr>\n",
       "                        <th id=\"T_09890da8_a2e7_11ea_9c29_3cf0112ace06level0_row8\" class=\"row_heading level0 row8\" >8</th>\n",
       "                        <td id=\"T_09890da8_a2e7_11ea_9c29_3cf0112ace06row8_col0\" class=\"data row8 col0\" >High Cardinality Features </td>\n",
       "                        <td id=\"T_09890da8_a2e7_11ea_9c29_3cf0112ace06row8_col1\" class=\"data row8 col1\" >False</td>\n",
       "            </tr>\n",
       "            <tr>\n",
       "                        <th id=\"T_09890da8_a2e7_11ea_9c29_3cf0112ace06level0_row9\" class=\"row_heading level0 row9\" >9</th>\n",
       "                        <td id=\"T_09890da8_a2e7_11ea_9c29_3cf0112ace06row9_col0\" class=\"data row9 col0\" >High Cardinality Method </td>\n",
       "                        <td id=\"T_09890da8_a2e7_11ea_9c29_3cf0112ace06row9_col1\" class=\"data row9 col1\" >None</td>\n",
       "            </tr>\n",
       "            <tr>\n",
       "                        <th id=\"T_09890da8_a2e7_11ea_9c29_3cf0112ace06level0_row10\" class=\"row_heading level0 row10\" >10</th>\n",
       "                        <td id=\"T_09890da8_a2e7_11ea_9c29_3cf0112ace06row10_col0\" class=\"data row10 col0\" >Sampled Data</td>\n",
       "                        <td id=\"T_09890da8_a2e7_11ea_9c29_3cf0112ace06row10_col1\" class=\"data row10 col1\" >(451522, 6)</td>\n",
       "            </tr>\n",
       "            <tr>\n",
       "                        <th id=\"T_09890da8_a2e7_11ea_9c29_3cf0112ace06level0_row11\" class=\"row_heading level0 row11\" >11</th>\n",
       "                        <td id=\"T_09890da8_a2e7_11ea_9c29_3cf0112ace06row11_col0\" class=\"data row11 col0\" >Transformed Train Set</td>\n",
       "                        <td id=\"T_09890da8_a2e7_11ea_9c29_3cf0112ace06row11_col1\" class=\"data row11 col1\" >(361217, 5)</td>\n",
       "            </tr>\n",
       "            <tr>\n",
       "                        <th id=\"T_09890da8_a2e7_11ea_9c29_3cf0112ace06level0_row12\" class=\"row_heading level0 row12\" >12</th>\n",
       "                        <td id=\"T_09890da8_a2e7_11ea_9c29_3cf0112ace06row12_col0\" class=\"data row12 col0\" >Transformed Test Set</td>\n",
       "                        <td id=\"T_09890da8_a2e7_11ea_9c29_3cf0112ace06row12_col1\" class=\"data row12 col1\" >(90305, 5)</td>\n",
       "            </tr>\n",
       "            <tr>\n",
       "                        <th id=\"T_09890da8_a2e7_11ea_9c29_3cf0112ace06level0_row13\" class=\"row_heading level0 row13\" >13</th>\n",
       "                        <td id=\"T_09890da8_a2e7_11ea_9c29_3cf0112ace06row13_col0\" class=\"data row13 col0\" >Numeric Imputer </td>\n",
       "                        <td id=\"T_09890da8_a2e7_11ea_9c29_3cf0112ace06row13_col1\" class=\"data row13 col1\" >mean</td>\n",
       "            </tr>\n",
       "            <tr>\n",
       "                        <th id=\"T_09890da8_a2e7_11ea_9c29_3cf0112ace06level0_row14\" class=\"row_heading level0 row14\" >14</th>\n",
       "                        <td id=\"T_09890da8_a2e7_11ea_9c29_3cf0112ace06row14_col0\" class=\"data row14 col0\" >Categorical Imputer </td>\n",
       "                        <td id=\"T_09890da8_a2e7_11ea_9c29_3cf0112ace06row14_col1\" class=\"data row14 col1\" >constant</td>\n",
       "            </tr>\n",
       "            <tr>\n",
       "                        <th id=\"T_09890da8_a2e7_11ea_9c29_3cf0112ace06level0_row15\" class=\"row_heading level0 row15\" >15</th>\n",
       "                        <td id=\"T_09890da8_a2e7_11ea_9c29_3cf0112ace06row15_col0\" class=\"data row15 col0\" >Normalize </td>\n",
       "                        <td id=\"T_09890da8_a2e7_11ea_9c29_3cf0112ace06row15_col1\" class=\"data row15 col1\" >False</td>\n",
       "            </tr>\n",
       "            <tr>\n",
       "                        <th id=\"T_09890da8_a2e7_11ea_9c29_3cf0112ace06level0_row16\" class=\"row_heading level0 row16\" >16</th>\n",
       "                        <td id=\"T_09890da8_a2e7_11ea_9c29_3cf0112ace06row16_col0\" class=\"data row16 col0\" >Normalize Method </td>\n",
       "                        <td id=\"T_09890da8_a2e7_11ea_9c29_3cf0112ace06row16_col1\" class=\"data row16 col1\" >None</td>\n",
       "            </tr>\n",
       "            <tr>\n",
       "                        <th id=\"T_09890da8_a2e7_11ea_9c29_3cf0112ace06level0_row17\" class=\"row_heading level0 row17\" >17</th>\n",
       "                        <td id=\"T_09890da8_a2e7_11ea_9c29_3cf0112ace06row17_col0\" class=\"data row17 col0\" >Transformation </td>\n",
       "                        <td id=\"T_09890da8_a2e7_11ea_9c29_3cf0112ace06row17_col1\" class=\"data row17 col1\" >False</td>\n",
       "            </tr>\n",
       "            <tr>\n",
       "                        <th id=\"T_09890da8_a2e7_11ea_9c29_3cf0112ace06level0_row18\" class=\"row_heading level0 row18\" >18</th>\n",
       "                        <td id=\"T_09890da8_a2e7_11ea_9c29_3cf0112ace06row18_col0\" class=\"data row18 col0\" >Transformation Method </td>\n",
       "                        <td id=\"T_09890da8_a2e7_11ea_9c29_3cf0112ace06row18_col1\" class=\"data row18 col1\" >None</td>\n",
       "            </tr>\n",
       "            <tr>\n",
       "                        <th id=\"T_09890da8_a2e7_11ea_9c29_3cf0112ace06level0_row19\" class=\"row_heading level0 row19\" >19</th>\n",
       "                        <td id=\"T_09890da8_a2e7_11ea_9c29_3cf0112ace06row19_col0\" class=\"data row19 col0\" >PCA </td>\n",
       "                        <td id=\"T_09890da8_a2e7_11ea_9c29_3cf0112ace06row19_col1\" class=\"data row19 col1\" >False</td>\n",
       "            </tr>\n",
       "            <tr>\n",
       "                        <th id=\"T_09890da8_a2e7_11ea_9c29_3cf0112ace06level0_row20\" class=\"row_heading level0 row20\" >20</th>\n",
       "                        <td id=\"T_09890da8_a2e7_11ea_9c29_3cf0112ace06row20_col0\" class=\"data row20 col0\" >PCA Method </td>\n",
       "                        <td id=\"T_09890da8_a2e7_11ea_9c29_3cf0112ace06row20_col1\" class=\"data row20 col1\" >None</td>\n",
       "            </tr>\n",
       "            <tr>\n",
       "                        <th id=\"T_09890da8_a2e7_11ea_9c29_3cf0112ace06level0_row21\" class=\"row_heading level0 row21\" >21</th>\n",
       "                        <td id=\"T_09890da8_a2e7_11ea_9c29_3cf0112ace06row21_col0\" class=\"data row21 col0\" >PCA Components </td>\n",
       "                        <td id=\"T_09890da8_a2e7_11ea_9c29_3cf0112ace06row21_col1\" class=\"data row21 col1\" >None</td>\n",
       "            </tr>\n",
       "            <tr>\n",
       "                        <th id=\"T_09890da8_a2e7_11ea_9c29_3cf0112ace06level0_row22\" class=\"row_heading level0 row22\" >22</th>\n",
       "                        <td id=\"T_09890da8_a2e7_11ea_9c29_3cf0112ace06row22_col0\" class=\"data row22 col0\" >Ignore Low Variance </td>\n",
       "                        <td id=\"T_09890da8_a2e7_11ea_9c29_3cf0112ace06row22_col1\" class=\"data row22 col1\" >False</td>\n",
       "            </tr>\n",
       "            <tr>\n",
       "                        <th id=\"T_09890da8_a2e7_11ea_9c29_3cf0112ace06level0_row23\" class=\"row_heading level0 row23\" >23</th>\n",
       "                        <td id=\"T_09890da8_a2e7_11ea_9c29_3cf0112ace06row23_col0\" class=\"data row23 col0\" >Combine Rare Levels </td>\n",
       "                        <td id=\"T_09890da8_a2e7_11ea_9c29_3cf0112ace06row23_col1\" class=\"data row23 col1\" >False</td>\n",
       "            </tr>\n",
       "            <tr>\n",
       "                        <th id=\"T_09890da8_a2e7_11ea_9c29_3cf0112ace06level0_row24\" class=\"row_heading level0 row24\" >24</th>\n",
       "                        <td id=\"T_09890da8_a2e7_11ea_9c29_3cf0112ace06row24_col0\" class=\"data row24 col0\" >Rare Level Threshold </td>\n",
       "                        <td id=\"T_09890da8_a2e7_11ea_9c29_3cf0112ace06row24_col1\" class=\"data row24 col1\" >None</td>\n",
       "            </tr>\n",
       "            <tr>\n",
       "                        <th id=\"T_09890da8_a2e7_11ea_9c29_3cf0112ace06level0_row25\" class=\"row_heading level0 row25\" >25</th>\n",
       "                        <td id=\"T_09890da8_a2e7_11ea_9c29_3cf0112ace06row25_col0\" class=\"data row25 col0\" >Numeric Binning </td>\n",
       "                        <td id=\"T_09890da8_a2e7_11ea_9c29_3cf0112ace06row25_col1\" class=\"data row25 col1\" >False</td>\n",
       "            </tr>\n",
       "            <tr>\n",
       "                        <th id=\"T_09890da8_a2e7_11ea_9c29_3cf0112ace06level0_row26\" class=\"row_heading level0 row26\" >26</th>\n",
       "                        <td id=\"T_09890da8_a2e7_11ea_9c29_3cf0112ace06row26_col0\" class=\"data row26 col0\" >Remove Outliers </td>\n",
       "                        <td id=\"T_09890da8_a2e7_11ea_9c29_3cf0112ace06row26_col1\" class=\"data row26 col1\" >False</td>\n",
       "            </tr>\n",
       "            <tr>\n",
       "                        <th id=\"T_09890da8_a2e7_11ea_9c29_3cf0112ace06level0_row27\" class=\"row_heading level0 row27\" >27</th>\n",
       "                        <td id=\"T_09890da8_a2e7_11ea_9c29_3cf0112ace06row27_col0\" class=\"data row27 col0\" >Outliers Threshold </td>\n",
       "                        <td id=\"T_09890da8_a2e7_11ea_9c29_3cf0112ace06row27_col1\" class=\"data row27 col1\" >None</td>\n",
       "            </tr>\n",
       "            <tr>\n",
       "                        <th id=\"T_09890da8_a2e7_11ea_9c29_3cf0112ace06level0_row28\" class=\"row_heading level0 row28\" >28</th>\n",
       "                        <td id=\"T_09890da8_a2e7_11ea_9c29_3cf0112ace06row28_col0\" class=\"data row28 col0\" >Remove Multicollinearity </td>\n",
       "                        <td id=\"T_09890da8_a2e7_11ea_9c29_3cf0112ace06row28_col1\" class=\"data row28 col1\" >False</td>\n",
       "            </tr>\n",
       "            <tr>\n",
       "                        <th id=\"T_09890da8_a2e7_11ea_9c29_3cf0112ace06level0_row29\" class=\"row_heading level0 row29\" >29</th>\n",
       "                        <td id=\"T_09890da8_a2e7_11ea_9c29_3cf0112ace06row29_col0\" class=\"data row29 col0\" >Multicollinearity Threshold </td>\n",
       "                        <td id=\"T_09890da8_a2e7_11ea_9c29_3cf0112ace06row29_col1\" class=\"data row29 col1\" >None</td>\n",
       "            </tr>\n",
       "            <tr>\n",
       "                        <th id=\"T_09890da8_a2e7_11ea_9c29_3cf0112ace06level0_row30\" class=\"row_heading level0 row30\" >30</th>\n",
       "                        <td id=\"T_09890da8_a2e7_11ea_9c29_3cf0112ace06row30_col0\" class=\"data row30 col0\" >Clustering </td>\n",
       "                        <td id=\"T_09890da8_a2e7_11ea_9c29_3cf0112ace06row30_col1\" class=\"data row30 col1\" >False</td>\n",
       "            </tr>\n",
       "            <tr>\n",
       "                        <th id=\"T_09890da8_a2e7_11ea_9c29_3cf0112ace06level0_row31\" class=\"row_heading level0 row31\" >31</th>\n",
       "                        <td id=\"T_09890da8_a2e7_11ea_9c29_3cf0112ace06row31_col0\" class=\"data row31 col0\" >Clustering Iteration </td>\n",
       "                        <td id=\"T_09890da8_a2e7_11ea_9c29_3cf0112ace06row31_col1\" class=\"data row31 col1\" >None</td>\n",
       "            </tr>\n",
       "            <tr>\n",
       "                        <th id=\"T_09890da8_a2e7_11ea_9c29_3cf0112ace06level0_row32\" class=\"row_heading level0 row32\" >32</th>\n",
       "                        <td id=\"T_09890da8_a2e7_11ea_9c29_3cf0112ace06row32_col0\" class=\"data row32 col0\" >Polynomial Features </td>\n",
       "                        <td id=\"T_09890da8_a2e7_11ea_9c29_3cf0112ace06row32_col1\" class=\"data row32 col1\" >False</td>\n",
       "            </tr>\n",
       "            <tr>\n",
       "                        <th id=\"T_09890da8_a2e7_11ea_9c29_3cf0112ace06level0_row33\" class=\"row_heading level0 row33\" >33</th>\n",
       "                        <td id=\"T_09890da8_a2e7_11ea_9c29_3cf0112ace06row33_col0\" class=\"data row33 col0\" >Polynomial Degree </td>\n",
       "                        <td id=\"T_09890da8_a2e7_11ea_9c29_3cf0112ace06row33_col1\" class=\"data row33 col1\" >None</td>\n",
       "            </tr>\n",
       "            <tr>\n",
       "                        <th id=\"T_09890da8_a2e7_11ea_9c29_3cf0112ace06level0_row34\" class=\"row_heading level0 row34\" >34</th>\n",
       "                        <td id=\"T_09890da8_a2e7_11ea_9c29_3cf0112ace06row34_col0\" class=\"data row34 col0\" >Trignometry Features </td>\n",
       "                        <td id=\"T_09890da8_a2e7_11ea_9c29_3cf0112ace06row34_col1\" class=\"data row34 col1\" >False</td>\n",
       "            </tr>\n",
       "            <tr>\n",
       "                        <th id=\"T_09890da8_a2e7_11ea_9c29_3cf0112ace06level0_row35\" class=\"row_heading level0 row35\" >35</th>\n",
       "                        <td id=\"T_09890da8_a2e7_11ea_9c29_3cf0112ace06row35_col0\" class=\"data row35 col0\" >Polynomial Threshold </td>\n",
       "                        <td id=\"T_09890da8_a2e7_11ea_9c29_3cf0112ace06row35_col1\" class=\"data row35 col1\" >None</td>\n",
       "            </tr>\n",
       "            <tr>\n",
       "                        <th id=\"T_09890da8_a2e7_11ea_9c29_3cf0112ace06level0_row36\" class=\"row_heading level0 row36\" >36</th>\n",
       "                        <td id=\"T_09890da8_a2e7_11ea_9c29_3cf0112ace06row36_col0\" class=\"data row36 col0\" >Group Features </td>\n",
       "                        <td id=\"T_09890da8_a2e7_11ea_9c29_3cf0112ace06row36_col1\" class=\"data row36 col1\" >False</td>\n",
       "            </tr>\n",
       "            <tr>\n",
       "                        <th id=\"T_09890da8_a2e7_11ea_9c29_3cf0112ace06level0_row37\" class=\"row_heading level0 row37\" >37</th>\n",
       "                        <td id=\"T_09890da8_a2e7_11ea_9c29_3cf0112ace06row37_col0\" class=\"data row37 col0\" >Feature Selection </td>\n",
       "                        <td id=\"T_09890da8_a2e7_11ea_9c29_3cf0112ace06row37_col1\" class=\"data row37 col1\" >False</td>\n",
       "            </tr>\n",
       "            <tr>\n",
       "                        <th id=\"T_09890da8_a2e7_11ea_9c29_3cf0112ace06level0_row38\" class=\"row_heading level0 row38\" >38</th>\n",
       "                        <td id=\"T_09890da8_a2e7_11ea_9c29_3cf0112ace06row38_col0\" class=\"data row38 col0\" >Features Selection Threshold </td>\n",
       "                        <td id=\"T_09890da8_a2e7_11ea_9c29_3cf0112ace06row38_col1\" class=\"data row38 col1\" >None</td>\n",
       "            </tr>\n",
       "            <tr>\n",
       "                        <th id=\"T_09890da8_a2e7_11ea_9c29_3cf0112ace06level0_row39\" class=\"row_heading level0 row39\" >39</th>\n",
       "                        <td id=\"T_09890da8_a2e7_11ea_9c29_3cf0112ace06row39_col0\" class=\"data row39 col0\" >Feature Interaction </td>\n",
       "                        <td id=\"T_09890da8_a2e7_11ea_9c29_3cf0112ace06row39_col1\" class=\"data row39 col1\" >False</td>\n",
       "            </tr>\n",
       "            <tr>\n",
       "                        <th id=\"T_09890da8_a2e7_11ea_9c29_3cf0112ace06level0_row40\" class=\"row_heading level0 row40\" >40</th>\n",
       "                        <td id=\"T_09890da8_a2e7_11ea_9c29_3cf0112ace06row40_col0\" class=\"data row40 col0\" >Feature Ratio </td>\n",
       "                        <td id=\"T_09890da8_a2e7_11ea_9c29_3cf0112ace06row40_col1\" class=\"data row40 col1\" >False</td>\n",
       "            </tr>\n",
       "            <tr>\n",
       "                        <th id=\"T_09890da8_a2e7_11ea_9c29_3cf0112ace06level0_row41\" class=\"row_heading level0 row41\" >41</th>\n",
       "                        <td id=\"T_09890da8_a2e7_11ea_9c29_3cf0112ace06row41_col0\" class=\"data row41 col0\" >Interaction Threshold </td>\n",
       "                        <td id=\"T_09890da8_a2e7_11ea_9c29_3cf0112ace06row41_col1\" class=\"data row41 col1\" >None</td>\n",
       "            </tr>\n",
       "    </tbody></table>"
      ],
      "text/plain": [
       "<pandas.io.formats.style.Styler at 0x2a85cbdc5f8>"
      ]
     },
     "metadata": {},
     "output_type": "display_data"
    }
   ],
   "source": [
    "exp = setup(df, target='target', categorical_features=['last_purchase'],\n",
    "            train_size=.8)"
   ]
  },
  {
   "cell_type": "markdown",
   "metadata": {},
   "source": [
    "#### Compare models\n",
    "\n",
    "See if any models standout from the F1 score perspective"
   ]
  },
  {
   "cell_type": "code",
   "execution_count": 7,
   "metadata": {},
   "outputs": [
    {
     "data": {
      "text/html": [
       "<style  type=\"text/css\" >\n",
       "    #T_2e9ff198_a2e7_11ea_93b3_3cf0112ace06 th {\n",
       "          text-align: left;\n",
       "    }    #T_2e9ff198_a2e7_11ea_93b3_3cf0112ace06row0_col0 {\n",
       "            text-align:  left;\n",
       "        }    #T_2e9ff198_a2e7_11ea_93b3_3cf0112ace06row0_col1 {\n",
       "            background-color:  yellow;\n",
       "            text-align:  left;\n",
       "        }    #T_2e9ff198_a2e7_11ea_93b3_3cf0112ace06row0_col2 {\n",
       "            background-color:  yellow;\n",
       "            text-align:  left;\n",
       "        }    #T_2e9ff198_a2e7_11ea_93b3_3cf0112ace06row0_col3 {\n",
       "            : ;\n",
       "            text-align:  left;\n",
       "        }    #T_2e9ff198_a2e7_11ea_93b3_3cf0112ace06row0_col4 {\n",
       "            : ;\n",
       "            text-align:  left;\n",
       "        }    #T_2e9ff198_a2e7_11ea_93b3_3cf0112ace06row0_col5 {\n",
       "            background-color:  yellow;\n",
       "            text-align:  left;\n",
       "        }    #T_2e9ff198_a2e7_11ea_93b3_3cf0112ace06row0_col6 {\n",
       "            background-color:  yellow;\n",
       "            text-align:  left;\n",
       "        }    #T_2e9ff198_a2e7_11ea_93b3_3cf0112ace06row1_col0 {\n",
       "            text-align:  left;\n",
       "        }    #T_2e9ff198_a2e7_11ea_93b3_3cf0112ace06row1_col1 {\n",
       "            background-color:  yellow;\n",
       "            text-align:  left;\n",
       "        }    #T_2e9ff198_a2e7_11ea_93b3_3cf0112ace06row1_col2 {\n",
       "            background-color:  yellow;\n",
       "            text-align:  left;\n",
       "        }    #T_2e9ff198_a2e7_11ea_93b3_3cf0112ace06row1_col3 {\n",
       "            : ;\n",
       "            text-align:  left;\n",
       "        }    #T_2e9ff198_a2e7_11ea_93b3_3cf0112ace06row1_col4 {\n",
       "            : ;\n",
       "            text-align:  left;\n",
       "        }    #T_2e9ff198_a2e7_11ea_93b3_3cf0112ace06row1_col5 {\n",
       "            : ;\n",
       "            text-align:  left;\n",
       "        }    #T_2e9ff198_a2e7_11ea_93b3_3cf0112ace06row1_col6 {\n",
       "            background-color:  yellow;\n",
       "            text-align:  left;\n",
       "        }    #T_2e9ff198_a2e7_11ea_93b3_3cf0112ace06row2_col0 {\n",
       "            text-align:  left;\n",
       "        }    #T_2e9ff198_a2e7_11ea_93b3_3cf0112ace06row2_col1 {\n",
       "            : ;\n",
       "            text-align:  left;\n",
       "        }    #T_2e9ff198_a2e7_11ea_93b3_3cf0112ace06row2_col2 {\n",
       "            : ;\n",
       "            text-align:  left;\n",
       "        }    #T_2e9ff198_a2e7_11ea_93b3_3cf0112ace06row2_col3 {\n",
       "            : ;\n",
       "            text-align:  left;\n",
       "        }    #T_2e9ff198_a2e7_11ea_93b3_3cf0112ace06row2_col4 {\n",
       "            : ;\n",
       "            text-align:  left;\n",
       "        }    #T_2e9ff198_a2e7_11ea_93b3_3cf0112ace06row2_col5 {\n",
       "            : ;\n",
       "            text-align:  left;\n",
       "        }    #T_2e9ff198_a2e7_11ea_93b3_3cf0112ace06row2_col6 {\n",
       "            : ;\n",
       "            text-align:  left;\n",
       "        }    #T_2e9ff198_a2e7_11ea_93b3_3cf0112ace06row3_col0 {\n",
       "            text-align:  left;\n",
       "        }    #T_2e9ff198_a2e7_11ea_93b3_3cf0112ace06row3_col1 {\n",
       "            background-color:  yellow;\n",
       "            text-align:  left;\n",
       "        }    #T_2e9ff198_a2e7_11ea_93b3_3cf0112ace06row3_col2 {\n",
       "            background-color:  yellow;\n",
       "            text-align:  left;\n",
       "        }    #T_2e9ff198_a2e7_11ea_93b3_3cf0112ace06row3_col3 {\n",
       "            : ;\n",
       "            text-align:  left;\n",
       "        }    #T_2e9ff198_a2e7_11ea_93b3_3cf0112ace06row3_col4 {\n",
       "            background-color:  yellow;\n",
       "            text-align:  left;\n",
       "        }    #T_2e9ff198_a2e7_11ea_93b3_3cf0112ace06row3_col5 {\n",
       "            : ;\n",
       "            text-align:  left;\n",
       "        }    #T_2e9ff198_a2e7_11ea_93b3_3cf0112ace06row3_col6 {\n",
       "            : ;\n",
       "            text-align:  left;\n",
       "        }    #T_2e9ff198_a2e7_11ea_93b3_3cf0112ace06row4_col0 {\n",
       "            text-align:  left;\n",
       "        }    #T_2e9ff198_a2e7_11ea_93b3_3cf0112ace06row4_col1 {\n",
       "            : ;\n",
       "            text-align:  left;\n",
       "        }    #T_2e9ff198_a2e7_11ea_93b3_3cf0112ace06row4_col2 {\n",
       "            : ;\n",
       "            text-align:  left;\n",
       "        }    #T_2e9ff198_a2e7_11ea_93b3_3cf0112ace06row4_col3 {\n",
       "            : ;\n",
       "            text-align:  left;\n",
       "        }    #T_2e9ff198_a2e7_11ea_93b3_3cf0112ace06row4_col4 {\n",
       "            : ;\n",
       "            text-align:  left;\n",
       "        }    #T_2e9ff198_a2e7_11ea_93b3_3cf0112ace06row4_col5 {\n",
       "            : ;\n",
       "            text-align:  left;\n",
       "        }    #T_2e9ff198_a2e7_11ea_93b3_3cf0112ace06row4_col6 {\n",
       "            : ;\n",
       "            text-align:  left;\n",
       "        }    #T_2e9ff198_a2e7_11ea_93b3_3cf0112ace06row5_col0 {\n",
       "            text-align:  left;\n",
       "        }    #T_2e9ff198_a2e7_11ea_93b3_3cf0112ace06row5_col1 {\n",
       "            : ;\n",
       "            text-align:  left;\n",
       "        }    #T_2e9ff198_a2e7_11ea_93b3_3cf0112ace06row5_col2 {\n",
       "            : ;\n",
       "            text-align:  left;\n",
       "        }    #T_2e9ff198_a2e7_11ea_93b3_3cf0112ace06row5_col3 {\n",
       "            background-color:  yellow;\n",
       "            text-align:  left;\n",
       "        }    #T_2e9ff198_a2e7_11ea_93b3_3cf0112ace06row5_col4 {\n",
       "            : ;\n",
       "            text-align:  left;\n",
       "        }    #T_2e9ff198_a2e7_11ea_93b3_3cf0112ace06row5_col5 {\n",
       "            : ;\n",
       "            text-align:  left;\n",
       "        }    #T_2e9ff198_a2e7_11ea_93b3_3cf0112ace06row5_col6 {\n",
       "            : ;\n",
       "            text-align:  left;\n",
       "        }    #T_2e9ff198_a2e7_11ea_93b3_3cf0112ace06row6_col0 {\n",
       "            text-align:  left;\n",
       "        }    #T_2e9ff198_a2e7_11ea_93b3_3cf0112ace06row6_col1 {\n",
       "            : ;\n",
       "            text-align:  left;\n",
       "        }    #T_2e9ff198_a2e7_11ea_93b3_3cf0112ace06row6_col2 {\n",
       "            : ;\n",
       "            text-align:  left;\n",
       "        }    #T_2e9ff198_a2e7_11ea_93b3_3cf0112ace06row6_col3 {\n",
       "            : ;\n",
       "            text-align:  left;\n",
       "        }    #T_2e9ff198_a2e7_11ea_93b3_3cf0112ace06row6_col4 {\n",
       "            : ;\n",
       "            text-align:  left;\n",
       "        }    #T_2e9ff198_a2e7_11ea_93b3_3cf0112ace06row6_col5 {\n",
       "            : ;\n",
       "            text-align:  left;\n",
       "        }    #T_2e9ff198_a2e7_11ea_93b3_3cf0112ace06row6_col6 {\n",
       "            : ;\n",
       "            text-align:  left;\n",
       "        }</style><table id=\"T_2e9ff198_a2e7_11ea_93b3_3cf0112ace06\" ><thead>    <tr>        <th class=\"blank level0\" ></th>        <th class=\"col_heading level0 col0\" >Model</th>        <th class=\"col_heading level0 col1\" >Accuracy</th>        <th class=\"col_heading level0 col2\" >AUC</th>        <th class=\"col_heading level0 col3\" >Recall</th>        <th class=\"col_heading level0 col4\" >Prec.</th>        <th class=\"col_heading level0 col5\" >F1</th>        <th class=\"col_heading level0 col6\" >Kappa</th>    </tr></thead><tbody>\n",
       "                <tr>\n",
       "                        <th id=\"T_2e9ff198_a2e7_11ea_93b3_3cf0112ace06level0_row0\" class=\"row_heading level0 row0\" >0</th>\n",
       "                        <td id=\"T_2e9ff198_a2e7_11ea_93b3_3cf0112ace06row0_col0\" class=\"data row0 col0\" >Extreme Gradient Boosting</td>\n",
       "                        <td id=\"T_2e9ff198_a2e7_11ea_93b3_3cf0112ace06row0_col1\" class=\"data row0 col1\" >0.915000</td>\n",
       "                        <td id=\"T_2e9ff198_a2e7_11ea_93b3_3cf0112ace06row0_col2\" class=\"data row0 col2\" >0.883000</td>\n",
       "                        <td id=\"T_2e9ff198_a2e7_11ea_93b3_3cf0112ace06row0_col3\" class=\"data row0 col3\" >0.506000</td>\n",
       "                        <td id=\"T_2e9ff198_a2e7_11ea_93b3_3cf0112ace06row0_col4\" class=\"data row0 col4\" >0.890000</td>\n",
       "                        <td id=\"T_2e9ff198_a2e7_11ea_93b3_3cf0112ace06row0_col5\" class=\"data row0 col5\" >0.645000</td>\n",
       "                        <td id=\"T_2e9ff198_a2e7_11ea_93b3_3cf0112ace06row0_col6\" class=\"data row0 col6\" >0.600000</td>\n",
       "            </tr>\n",
       "            <tr>\n",
       "                        <th id=\"T_2e9ff198_a2e7_11ea_93b3_3cf0112ace06level0_row1\" class=\"row_heading level0 row1\" >1</th>\n",
       "                        <td id=\"T_2e9ff198_a2e7_11ea_93b3_3cf0112ace06row1_col0\" class=\"data row1 col0\" >Gradient Boosting Classifier</td>\n",
       "                        <td id=\"T_2e9ff198_a2e7_11ea_93b3_3cf0112ace06row1_col1\" class=\"data row1 col1\" >0.915000</td>\n",
       "                        <td id=\"T_2e9ff198_a2e7_11ea_93b3_3cf0112ace06row1_col2\" class=\"data row1 col2\" >0.883000</td>\n",
       "                        <td id=\"T_2e9ff198_a2e7_11ea_93b3_3cf0112ace06row1_col3\" class=\"data row1 col3\" >0.504000</td>\n",
       "                        <td id=\"T_2e9ff198_a2e7_11ea_93b3_3cf0112ace06row1_col4\" class=\"data row1 col4\" >0.893000</td>\n",
       "                        <td id=\"T_2e9ff198_a2e7_11ea_93b3_3cf0112ace06row1_col5\" class=\"data row1 col5\" >0.644000</td>\n",
       "                        <td id=\"T_2e9ff198_a2e7_11ea_93b3_3cf0112ace06row1_col6\" class=\"data row1 col6\" >0.600000</td>\n",
       "            </tr>\n",
       "            <tr>\n",
       "                        <th id=\"T_2e9ff198_a2e7_11ea_93b3_3cf0112ace06level0_row2\" class=\"row_heading level0 row2\" >2</th>\n",
       "                        <td id=\"T_2e9ff198_a2e7_11ea_93b3_3cf0112ace06row2_col0\" class=\"data row2 col0\" >Ada Boost Classifier</td>\n",
       "                        <td id=\"T_2e9ff198_a2e7_11ea_93b3_3cf0112ace06row2_col1\" class=\"data row2 col1\" >0.914000</td>\n",
       "                        <td id=\"T_2e9ff198_a2e7_11ea_93b3_3cf0112ace06row2_col2\" class=\"data row2 col2\" >0.882000</td>\n",
       "                        <td id=\"T_2e9ff198_a2e7_11ea_93b3_3cf0112ace06row2_col3\" class=\"data row2 col3\" >0.505000</td>\n",
       "                        <td id=\"T_2e9ff198_a2e7_11ea_93b3_3cf0112ace06row2_col4\" class=\"data row2 col4\" >0.885000</td>\n",
       "                        <td id=\"T_2e9ff198_a2e7_11ea_93b3_3cf0112ace06row2_col5\" class=\"data row2 col5\" >0.643000</td>\n",
       "                        <td id=\"T_2e9ff198_a2e7_11ea_93b3_3cf0112ace06row2_col6\" class=\"data row2 col6\" >0.599000</td>\n",
       "            </tr>\n",
       "            <tr>\n",
       "                        <th id=\"T_2e9ff198_a2e7_11ea_93b3_3cf0112ace06level0_row3\" class=\"row_heading level0 row3\" >3</th>\n",
       "                        <td id=\"T_2e9ff198_a2e7_11ea_93b3_3cf0112ace06row3_col0\" class=\"data row3 col0\" >Light Gradient Boosting Machine</td>\n",
       "                        <td id=\"T_2e9ff198_a2e7_11ea_93b3_3cf0112ace06row3_col1\" class=\"data row3 col1\" >0.915000</td>\n",
       "                        <td id=\"T_2e9ff198_a2e7_11ea_93b3_3cf0112ace06row3_col2\" class=\"data row3 col2\" >0.883000</td>\n",
       "                        <td id=\"T_2e9ff198_a2e7_11ea_93b3_3cf0112ace06row3_col3\" class=\"data row3 col3\" >0.503000</td>\n",
       "                        <td id=\"T_2e9ff198_a2e7_11ea_93b3_3cf0112ace06row3_col4\" class=\"data row3 col4\" >0.894000</td>\n",
       "                        <td id=\"T_2e9ff198_a2e7_11ea_93b3_3cf0112ace06row3_col5\" class=\"data row3 col5\" >0.643000</td>\n",
       "                        <td id=\"T_2e9ff198_a2e7_11ea_93b3_3cf0112ace06row3_col6\" class=\"data row3 col6\" >0.599000</td>\n",
       "            </tr>\n",
       "            <tr>\n",
       "                        <th id=\"T_2e9ff198_a2e7_11ea_93b3_3cf0112ace06level0_row4\" class=\"row_heading level0 row4\" >4</th>\n",
       "                        <td id=\"T_2e9ff198_a2e7_11ea_93b3_3cf0112ace06row4_col0\" class=\"data row4 col0\" >Random Forest Classifier</td>\n",
       "                        <td id=\"T_2e9ff198_a2e7_11ea_93b3_3cf0112ace06row4_col1\" class=\"data row4 col1\" >0.901000</td>\n",
       "                        <td id=\"T_2e9ff198_a2e7_11ea_93b3_3cf0112ace06row4_col2\" class=\"data row4 col2\" >0.824000</td>\n",
       "                        <td id=\"T_2e9ff198_a2e7_11ea_93b3_3cf0112ace06row4_col3\" class=\"data row4 col3\" >0.519000</td>\n",
       "                        <td id=\"T_2e9ff198_a2e7_11ea_93b3_3cf0112ace06row4_col4\" class=\"data row4 col4\" >0.761000</td>\n",
       "                        <td id=\"T_2e9ff198_a2e7_11ea_93b3_3cf0112ace06row4_col5\" class=\"data row4 col5\" >0.617000</td>\n",
       "                        <td id=\"T_2e9ff198_a2e7_11ea_93b3_3cf0112ace06row4_col6\" class=\"data row4 col6\" >0.563000</td>\n",
       "            </tr>\n",
       "            <tr>\n",
       "                        <th id=\"T_2e9ff198_a2e7_11ea_93b3_3cf0112ace06level0_row5\" class=\"row_heading level0 row5\" >5</th>\n",
       "                        <td id=\"T_2e9ff198_a2e7_11ea_93b3_3cf0112ace06row5_col0\" class=\"data row5 col0\" >Decision Tree Classifier</td>\n",
       "                        <td id=\"T_2e9ff198_a2e7_11ea_93b3_3cf0112ace06row5_col1\" class=\"data row5 col1\" >0.893000</td>\n",
       "                        <td id=\"T_2e9ff198_a2e7_11ea_93b3_3cf0112ace06row5_col2\" class=\"data row5 col2\" >0.745000</td>\n",
       "                        <td id=\"T_2e9ff198_a2e7_11ea_93b3_3cf0112ace06row5_col3\" class=\"data row5 col3\" >0.532000</td>\n",
       "                        <td id=\"T_2e9ff198_a2e7_11ea_93b3_3cf0112ace06row5_col4\" class=\"data row5 col4\" >0.698000</td>\n",
       "                        <td id=\"T_2e9ff198_a2e7_11ea_93b3_3cf0112ace06row5_col5\" class=\"data row5 col5\" >0.604000</td>\n",
       "                        <td id=\"T_2e9ff198_a2e7_11ea_93b3_3cf0112ace06row5_col6\" class=\"data row5 col6\" >0.544000</td>\n",
       "            </tr>\n",
       "            <tr>\n",
       "                        <th id=\"T_2e9ff198_a2e7_11ea_93b3_3cf0112ace06level0_row6\" class=\"row_heading level0 row6\" >6</th>\n",
       "                        <td id=\"T_2e9ff198_a2e7_11ea_93b3_3cf0112ace06row6_col0\" class=\"data row6 col0\" >Logistic Regression</td>\n",
       "                        <td id=\"T_2e9ff198_a2e7_11ea_93b3_3cf0112ace06row6_col1\" class=\"data row6 col1\" >0.847000</td>\n",
       "                        <td id=\"T_2e9ff198_a2e7_11ea_93b3_3cf0112ace06row6_col2\" class=\"data row6 col2\" >0.747000</td>\n",
       "                        <td id=\"T_2e9ff198_a2e7_11ea_93b3_3cf0112ace06row6_col3\" class=\"data row6 col3\" >0.050000</td>\n",
       "                        <td id=\"T_2e9ff198_a2e7_11ea_93b3_3cf0112ace06row6_col4\" class=\"data row6 col4\" >0.527000</td>\n",
       "                        <td id=\"T_2e9ff198_a2e7_11ea_93b3_3cf0112ace06row6_col5\" class=\"data row6 col5\" >0.092000</td>\n",
       "                        <td id=\"T_2e9ff198_a2e7_11ea_93b3_3cf0112ace06row6_col6\" class=\"data row6 col6\" >0.067000</td>\n",
       "            </tr>\n",
       "    </tbody></table>"
      ],
      "text/plain": [
       "<pandas.io.formats.style.Styler at 0x2a85cbdc8d0>"
      ]
     },
     "execution_count": 7,
     "metadata": {},
     "output_type": "execute_result"
    }
   ],
   "source": [
    "compare_models(blacklist=['knn', 'ridge', 'svm', 'lda', 'nb', 'qda', 'et', 'catboost'],\n",
    "               fold=2, round=3, sort='F1')"
   ]
  },
  {
   "cell_type": "markdown",
   "metadata": {},
   "source": [
    "**Observation**: It turns major classification models have similar F1 score performance except Logistic Regression. Most models are able to have 0.5 \"Recall\", which mean out of all the true qualified reordered items, half of them are identified. Percision is at 0.89, which is pretty decent given no tuning has been made yet.\n",
    "There could be room to increase the recall rate in order to maximize the F1 score (objective of the problem), assuming the trade off from precision will worth it. We will test will lower the binary cut off rate to 0.4 so see if improvement exist.\n",
    "\n",
    "Base on the result above, we will test Light Gradient Boosting Machine (based on its speed of execution) and Gradient Boosting Classifier (has highest score in most metrics when comparing to others).\n",
    "\n",
    "To save time, we will create the function below to automate the steps."
   ]
  },
  {
   "cell_type": "code",
   "execution_count": 8,
   "metadata": {},
   "outputs": [],
   "source": [
    "\n",
    "def model_f1(model, prob):\n",
    "    \"\"\" Automate the step on generating models and prediction\n",
    "\n",
    "    Args:\n",
    "        model: the abbreviated string for estimators\n",
    "        prob: probabiliy therhold to determin whether an output is 0 or 1\n",
    "\n",
    "    Returns:\n",
    "        name: created model\n",
    "        var: prediction generated from the model\n",
    "    \"\"\"\n",
    "    name = create_model(model, fold=2)\n",
    "    var = predict_model(name, probability_threshold=prob)\n",
    "    return name, var"
   ]
  },
  {
   "cell_type": "markdown",
   "metadata": {},
   "source": [
    "**Light Gradient Boosting Machine**"
   ]
  },
  {
   "cell_type": "code",
   "execution_count": 9,
   "metadata": {},
   "outputs": [
    {
     "data": {
      "text/html": [
       "<div>\n",
       "<style scoped>\n",
       "    .dataframe tbody tr th:only-of-type {\n",
       "        vertical-align: middle;\n",
       "    }\n",
       "\n",
       "    .dataframe tbody tr th {\n",
       "        vertical-align: top;\n",
       "    }\n",
       "\n",
       "    .dataframe thead th {\n",
       "        text-align: right;\n",
       "    }\n",
       "</style>\n",
       "<table border=\"1\" class=\"dataframe\">\n",
       "  <thead>\n",
       "    <tr style=\"text-align: right;\">\n",
       "      <th></th>\n",
       "      <th>Model</th>\n",
       "      <th>Accuracy</th>\n",
       "      <th>AUC</th>\n",
       "      <th>Recall</th>\n",
       "      <th>Prec.</th>\n",
       "      <th>F1</th>\n",
       "      <th>Kappa</th>\n",
       "    </tr>\n",
       "  </thead>\n",
       "  <tbody>\n",
       "    <tr>\n",
       "      <th>0</th>\n",
       "      <td>Light Gradient Boosting Machine</td>\n",
       "      <td>0.9123</td>\n",
       "      <td>0.8855</td>\n",
       "      <td>0.5519</td>\n",
       "      <td>0.8167</td>\n",
       "      <td>0.6587</td>\n",
       "      <td>0.6105</td>\n",
       "    </tr>\n",
       "  </tbody>\n",
       "</table>\n",
       "</div>"
      ],
      "text/plain": [
       "                             Model  Accuracy     AUC  Recall   Prec.      F1  \\\n",
       "0  Light Gradient Boosting Machine    0.9123  0.8855  0.5519  0.8167  0.6587   \n",
       "\n",
       "    Kappa  \n",
       "0  0.6105  "
      ]
     },
     "metadata": {},
     "output_type": "display_data"
    },
    {
     "name": "stdout",
     "output_type": "stream",
     "text": [
      "Wall time: 8.9 s\n"
     ]
    }
   ],
   "source": [
    "%%time\n",
    "lightgbm, lg_pred = model_f1('lightgbm', .4)"
   ]
  },
  {
   "cell_type": "code",
   "execution_count": 10,
   "metadata": {},
   "outputs": [
    {
     "data": {
      "image/png": "[encoded data removed]",
      "text/plain": [
       "<Figure size 576x252 with 1 Axes>"
      ]
     },
     "metadata": {
      "needs_background": "light"
     },
     "output_type": "display_data"
    },
    {
     "name": "stdout",
     "output_type": "stream",
     "text": [
      "Wall time: 17.2 s\n"
     ]
    }
   ],
   "source": [
    "%%time\n",
    "eval_lgbm = interpret_model(lightgbm)"
   ]
  },
  {
   "cell_type": "markdown",
   "metadata": {},
   "source": [
    "**Gradient Boosting**"
   ]
  },
  {
   "cell_type": "code",
   "execution_count": 11,
   "metadata": {},
   "outputs": [
    {
     "data": {
      "text/html": [
       "<div>\n",
       "<style scoped>\n",
       "    .dataframe tbody tr th:only-of-type {\n",
       "        vertical-align: middle;\n",
       "    }\n",
       "\n",
       "    .dataframe tbody tr th {\n",
       "        vertical-align: top;\n",
       "    }\n",
       "\n",
       "    .dataframe thead th {\n",
       "        text-align: right;\n",
       "    }\n",
       "</style>\n",
       "<table border=\"1\" class=\"dataframe\">\n",
       "  <thead>\n",
       "    <tr style=\"text-align: right;\">\n",
       "      <th></th>\n",
       "      <th>Model</th>\n",
       "      <th>Accuracy</th>\n",
       "      <th>AUC</th>\n",
       "      <th>Recall</th>\n",
       "      <th>Prec.</th>\n",
       "      <th>F1</th>\n",
       "      <th>Kappa</th>\n",
       "    </tr>\n",
       "  </thead>\n",
       "  <tbody>\n",
       "    <tr>\n",
       "      <th>0</th>\n",
       "      <td>Gradient Boosting Classifier</td>\n",
       "      <td>0.9123</td>\n",
       "      <td>0.8857</td>\n",
       "      <td>0.5478</td>\n",
       "      <td>0.8205</td>\n",
       "      <td>0.657</td>\n",
       "      <td>0.609</td>\n",
       "    </tr>\n",
       "  </tbody>\n",
       "</table>\n",
       "</div>"
      ],
      "text/plain": [
       "                          Model  Accuracy     AUC  Recall   Prec.     F1  \\\n",
       "0  Gradient Boosting Classifier    0.9123  0.8857  0.5478  0.8205  0.657   \n",
       "\n",
       "   Kappa  \n",
       "0  0.609  "
      ]
     },
     "metadata": {},
     "output_type": "display_data"
    },
    {
     "name": "stdout",
     "output_type": "stream",
     "text": [
      "Wall time: 47.4 s\n"
     ]
    }
   ],
   "source": [
    "%%time\n",
    "gbc, gbc_pred = model_f1('gbc', .4)"
   ]
  },
  {
   "cell_type": "code",
   "execution_count": 12,
   "metadata": {},
   "outputs": [
    {
     "data": {
      "image/png": "[encoded data removed]",
      "text/plain": [
       "<Figure size 576x252 with 2 Axes>"
      ]
     },
     "metadata": {
      "needs_background": "light"
     },
     "output_type": "display_data"
    },
    {
     "name": "stdout",
     "output_type": "stream",
     "text": [
      "Wall time: 12.3 s\n"
     ]
    }
   ],
   "source": [
    "%%time\n",
    "eval_gbc = interpret_model(gbc)"
   ]
  },
  {
   "cell_type": "markdown",
   "metadata": {},
   "source": [
    "**Obseravtion**: The trade off appear to be equal among the increase in Recall but decrease in Precision. The net gain in F1 score is 0.01, not significant enough to justify the adjustment, at least from the training set data. However, the test set data are much smaller and that caes it may worth lower the probability in order minimize penalty from low recall."
   ]
  },
  {
   "cell_type": "markdown",
   "metadata": {},
   "source": [
    "### Save all the models for final test data submission"
   ]
  },
  {
   "cell_type": "code",
   "execution_count": 13,
   "metadata": {},
   "outputs": [],
   "source": [
    "path = './data/save_model/'\n",
    "\n",
    "def final_save(model, name):\n",
    "    \"\"\" create the final model and save that as pkl file\n",
    "\n",
    "    Args:\n",
    "    model: model created with the sample data\n",
    "\n",
    "    Returns:\n",
    "    finalize model using all the data\n",
    "    \"\"\"\n",
    "\n",
    "    final = finalize_model(model)\n",
    "    save_model(final, model_name=path+name)"
   ]
  },
  {
   "cell_type": "code",
   "execution_count": 14,
   "metadata": {},
   "outputs": [
    {
     "name": "stdout",
     "output_type": "stream",
     "text": [
      "Transformation Pipeline and Model Succesfully Saved\n"
     ]
    }
   ],
   "source": [
    "final_save(lightgbm, 'lgbm')\n",
    "final_save(gbc, 'gbc')"
   ]
  },
  {
   "cell_type": "markdown",
   "metadata": {},
   "source": [
    "#### Kaggle Score (base model)\n",
    "\n",
    "| Model | F1 |\n",
    "|------| ----|\n",
    "| Lightgbm | 0.35972 |\n",
    "| Gradient Boost| 0.36244|"
   ]
  },
  {
   "cell_type": "markdown",
   "metadata": {},
   "source": [
    "### Tune Model"
   ]
  },
  {
   "cell_type": "markdown",
   "metadata": {},
   "source": [
    "After initial data submission, Gradient Boosting has higher F1 score on kaggle (0.362), with Lightgbm lag behind by 0.03 (0.359). We will tune the model to see if further improvement exist.\n",
    "\n",
    "(Note on execution: Gradient Boosting tuning will take a long time. As we already know the base model performance from above. We executed the setup step to take only 5% of sample in order to get the tuned parameters)"
   ]
  },
  {
   "cell_type": "code",
   "execution_count": 15,
   "metadata": {},
   "outputs": [
    {
     "name": "stdout",
     "output_type": "stream",
     "text": [
      "Transformation Pipeline and Model Succesfully Saved\n"
     ]
    }
   ],
   "source": [
    "light_tune = tune_model('lightgbm', fold=2, optimize='F1')\n",
    "final_save(light_tune, 'lgbm_tune')"
   ]
  },
  {
   "cell_type": "code",
   "execution_count": null,
   "metadata": {},
   "outputs": [
    {
     "data": {
      "application/vnd.jupyter.widget-view+json": {
       "model_id": "7855e539453a4c21b80a1fea888398cd",
       "version_major": 2,
       "version_minor": 0
      },
      "text/plain": [
       "IntProgress(value=0, description='Processing: ', max=8)"
      ]
     },
     "metadata": {},
     "output_type": "display_data"
    },
    {
     "data": {
      "text/html": [
       "<div>\n",
       "<style scoped>\n",
       "    .dataframe tbody tr th:only-of-type {\n",
       "        vertical-align: middle;\n",
       "    }\n",
       "\n",
       "    .dataframe tbody tr th {\n",
       "        vertical-align: top;\n",
       "    }\n",
       "\n",
       "    .dataframe thead th {\n",
       "        text-align: right;\n",
       "    }\n",
       "</style>\n",
       "<table border=\"1\" class=\"dataframe\">\n",
       "  <thead>\n",
       "    <tr style=\"text-align: right;\">\n",
       "      <th></th>\n",
       "      <th></th>\n",
       "      <th></th>\n",
       "    </tr>\n",
       "    <tr>\n",
       "      <th></th>\n",
       "      <th></th>\n",
       "      <th></th>\n",
       "    </tr>\n",
       "  </thead>\n",
       "  <tbody>\n",
       "    <tr>\n",
       "      <th>Initiated</th>\n",
       "      <td>. . . . . . . . . . . . . . . . . .</td>\n",
       "      <td>22:20:26</td>\n",
       "    </tr>\n",
       "    <tr>\n",
       "      <th>Status</th>\n",
       "      <td>. . . . . . . . . . . . . . . . . .</td>\n",
       "      <td>Tuning Hyperparameters</td>\n",
       "    </tr>\n",
       "    <tr>\n",
       "      <th>ETC</th>\n",
       "      <td>. . . . . . . . . . . . . . . . . .</td>\n",
       "      <td>Calculating ETC</td>\n",
       "    </tr>\n",
       "  </tbody>\n",
       "</table>\n",
       "</div>"
      ],
      "text/plain": [
       "                                                                      \n",
       "                                                                      \n",
       "Initiated  . . . . . . . . . . . . . . . . . .                22:20:26\n",
       "Status     . . . . . . . . . . . . . . . . . .  Tuning Hyperparameters\n",
       "ETC        . . . . . . . . . . . . . . . . . .         Calculating ETC"
      ]
     },
     "metadata": {},
     "output_type": "display_data"
    },
    {
     "data": {
      "text/html": [
       "<div>\n",
       "<style scoped>\n",
       "    .dataframe tbody tr th:only-of-type {\n",
       "        vertical-align: middle;\n",
       "    }\n",
       "\n",
       "    .dataframe tbody tr th {\n",
       "        vertical-align: top;\n",
       "    }\n",
       "\n",
       "    .dataframe thead th {\n",
       "        text-align: right;\n",
       "    }\n",
       "</style>\n",
       "<table border=\"1\" class=\"dataframe\">\n",
       "  <thead>\n",
       "    <tr style=\"text-align: right;\">\n",
       "      <th></th>\n",
       "      <th>Accuracy</th>\n",
       "      <th>AUC</th>\n",
       "      <th>Recall</th>\n",
       "      <th>Prec.</th>\n",
       "      <th>F1</th>\n",
       "      <th>Kappa</th>\n",
       "    </tr>\n",
       "  </thead>\n",
       "  <tbody>\n",
       "  </tbody>\n",
       "</table>\n",
       "</div>"
      ],
      "text/plain": [
       "Empty DataFrame\n",
       "Columns: [Accuracy, AUC, Recall, Prec., F1, Kappa]\n",
       "Index: []"
      ]
     },
     "metadata": {},
     "output_type": "display_data"
    }
   ],
   "source": [
    "gbc_tune = tune_model('gbc', fold=2, optimize='F1')"
   ]
  },
  {
   "cell_type": "code",
   "execution_count": null,
   "metadata": {},
   "outputs": [],
   "source": [
    "final_save(gbc_tune, 'gbc_tune')"
   ]
  },
  {
   "cell_type": "markdown",
   "metadata": {},
   "source": [
    "### Data Submission\n",
    "\n",
    "Go to [data_sumbit]() workbook."
   ]
  }
 ],
 "metadata": {
  "kernelspec": {
   "display_name": "Python 3",
   "language": "python",
   "name": "python3"
  },
  "language_info": {
   "codemirror_mode": {
    "name": "ipython",
    "version": 3
   },
   "file_extension": ".py",
   "mimetype": "text/x-python",
   "name": "python",
   "nbconvert_exporter": "python",
   "pygments_lexer": "ipython3",
   "version": "3.7.3"
  }
 },
 "nbformat": 4,
 "nbformat_minor": 4
}
